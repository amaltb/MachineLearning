{
 "cells": [
  {
   "cell_type": "markdown",
   "metadata": {},
   "source": [
    "# k-means with text data"
   ]
  },
  {
   "cell_type": "markdown",
   "metadata": {},
   "source": [
    "In this assignment you will\n",
    "* Cluster Wikipedia documents using k-means\n",
    "* Explore the role of random initialization on the quality of the clustering\n",
    "* Explore how results differ after changing the number of clusters\n",
    "* Evaluate clustering, both quantitatively and qualitatively\n",
    "\n",
    "When properly executed, clustering uncovers valuable insights from a set of unlabeled documents."
   ]
  },
  {
   "cell_type": "markdown",
   "metadata": {},
   "source": [
    "**Note to Amazon EC2 users**: To conserve memory, make sure to stop all the other notebooks before running this notebook."
   ]
  },
  {
   "cell_type": "markdown",
   "metadata": {},
   "source": [
    "## Import necessary packages"
   ]
  },
  {
   "cell_type": "code",
   "execution_count": 1,
   "metadata": {},
   "outputs": [],
   "source": [
    "from __future__ import print_function # to conform python 2.x print to python 3.x\n",
    "import turicreate\n",
    "import matplotlib.pyplot as plt\n",
    "import numpy as np\n",
    "import sys\n",
    "import os\n",
    "from scipy.sparse import csr_matrix\n",
    "from sklearn.preprocessing import OneHotEncoder, LabelEncoder\n",
    "\n",
    "%matplotlib inline"
   ]
  },
  {
   "cell_type": "markdown",
   "metadata": {},
   "source": [
    "## Load data, extract features"
   ]
  },
  {
   "cell_type": "markdown",
   "metadata": {},
   "source": [
    "To work with text data, we must first convert the documents into numerical features. As in the first assignment, let's extract TF-IDF features for each article."
   ]
  },
  {
   "cell_type": "code",
   "execution_count": 2,
   "metadata": {},
   "outputs": [],
   "source": [
    "wiki = turicreate.SFrame('data/people_wiki.sframe/')"
   ]
  },
  {
   "cell_type": "code",
   "execution_count": 3,
   "metadata": {},
   "outputs": [],
   "source": [
    "wiki['tf_idf'] = turicreate.text_analytics.tf_idf(wiki['text'])"
   ]
  },
  {
   "cell_type": "markdown",
   "metadata": {},
   "source": [
    "For the remainder of the assignment, we will use sparse matrices. Sparse matrices are matrices that have a small number of nonzero entries. A good data structure for sparse matrices would only store the nonzero entries to save space and speed up computation. SciPy provides a highly-optimized library for sparse matrices. Many matrix operations available for NumPy arrays are also available for SciPy sparse matrices.\n",
    "\n",
    "We first convert the TF-IDF column (in dictionary format) into the SciPy sparse matrix format. We included plenty of comments for the curious; if you'd like, you may skip the next block and treat the function as a black box."
   ]
  },
  {
   "cell_type": "code",
   "execution_count": 4,
   "metadata": {},
   "outputs": [],
   "source": [
    "def sframe_to_scipy(x, column_name):\n",
    "    '''\n",
    "    Convert a dictionary column of an SFrame into a sparse matrix format where\n",
    "    each (row_id, column_id, value) triple corresponds to the value of\n",
    "    x[row_id][column_id], where column_id is a key in the dictionary.\n",
    "       \n",
    "    Example\n",
    "    >>> sparse_matrix, map_key_to_index = sframe_to_scipy(sframe, column_name)\n",
    "    '''\n",
    "    assert type(x[column_name][0]) == dict, \\\n",
    "        'The chosen column must be dict type, representing sparse data.'\n",
    "    \n",
    "    # 1. Add a row number (id)\n",
    "    x = x.add_row_number()\n",
    "\n",
    "    # 2. Stack will transform x to have a row for each unique (row, key) pair.\n",
    "    x = x.stack(column_name, ['feature', 'value'])\n",
    "\n",
    "    # Map feature words to integers \n",
    "    unique_words = sorted(x['feature'].unique())\n",
    "    mapping = {word:i for i, word in enumerate(unique_words)}\n",
    "    x['feature_id'] = x['feature'].apply(lambda x: mapping[x])\n",
    "\n",
    "    # Create numpy arrays that contain the data for the sparse matrix.\n",
    "    row_id = np.array(x['id'])\n",
    "    col_id = np.array(x['feature_id'])\n",
    "    data = np.array(x['value'])\n",
    "    \n",
    "    width = x['id'].max() + 1\n",
    "    height = x['feature_id'].max() + 1\n",
    "    \n",
    "    # Create a sparse matrix.\n",
    "    mat = csr_matrix((data, (row_id, col_id)), shape=(width, height))\n",
    "    return mat, mapping"
   ]
  },
  {
   "cell_type": "code",
   "execution_count": 5,
   "metadata": {},
   "outputs": [
    {
     "name": "stdout",
     "output_type": "stream",
     "text": [
      "CPU times: user 3min 13s, sys: 31.2 s, total: 3min 44s\n",
      "Wall time: 1min\n"
     ]
    }
   ],
   "source": [
    "%%time\n",
    "# The conversion will take about a minute or two.\n",
    "tf_idf, map_index_to_word = sframe_to_scipy(wiki, 'tf_idf')"
   ]
  },
  {
   "cell_type": "markdown",
   "metadata": {},
   "source": [
    "The above matrix contains a TF-IDF score for each of the 59071 pages in the data set and each of the 547979 unique words."
   ]
  },
  {
   "cell_type": "code",
   "execution_count": 6,
   "metadata": {},
   "outputs": [
    {
     "data": {
      "text/plain": [
       "(59071, 547979)"
      ]
     },
     "execution_count": 6,
     "metadata": {},
     "output_type": "execute_result"
    }
   ],
   "source": [
    "tf_idf.shape"
   ]
  },
  {
   "cell_type": "markdown",
   "metadata": {},
   "source": [
    "## Normalize all vectors"
   ]
  },
  {
   "cell_type": "markdown",
   "metadata": {},
   "source": [
    "As discussed in the previous assignment, Euclidean distance can be a poor metric of similarity between documents, as it unfairly penalizes long articles. For a reasonable assessment of similarity, we should disregard the length information and use length-agnostic metrics, such as cosine distance.\n",
    "\n",
    "The k-means algorithm does not directly work with cosine distance, so we take an alternative route to remove length information: we normalize all vectors to be unit length. It turns out that Euclidean distance closely mimics cosine distance when all vectors are unit length. In particular, the squared Euclidean distance between any two vectors of length one is directly proportional to their cosine distance.\n",
    "\n",
    "We can prove this as follows. Let $\\mathbf{x}$ and $\\mathbf{y}$ be normalized vectors, i.e. unit vectors, so that $\\|\\mathbf{x}\\|=\\|\\mathbf{y}\\|=1$. Write the squared Euclidean distance as the dot product of $(\\mathbf{x} - \\mathbf{y})$ to itself:\n",
    "\\begin{align*}\n",
    "\\|\\mathbf{x} - \\mathbf{y}\\|^2 &= (\\mathbf{x} - \\mathbf{y})^T(\\mathbf{x} - \\mathbf{y})\\\\\n",
    "                              &= (\\mathbf{x}^T \\mathbf{x}) - 2(\\mathbf{x}^T \\mathbf{y}) + (\\mathbf{y}^T \\mathbf{y})\\\\\n",
    "                              &= \\|\\mathbf{x}\\|^2 - 2(\\mathbf{x}^T \\mathbf{y}) + \\|\\mathbf{y}\\|^2\\\\\n",
    "                              &= 2 - 2(\\mathbf{x}^T \\mathbf{y})\\\\\n",
    "                              &= 2(1 - (\\mathbf{x}^T \\mathbf{y}))\\\\\n",
    "                              &= 2\\left(1 - \\frac{\\mathbf{x}^T \\mathbf{y}}{\\|\\mathbf{x}\\|\\|\\mathbf{y}\\|}\\right)\\\\\n",
    "                              &= 2\\left[\\text{cosine distance}\\right]\n",
    "\\end{align*}\n",
    "\n",
    "This tells us that two **unit vectors** that are close in Euclidean distance are also close in cosine distance. Thus, the k-means algorithm (which naturally uses Euclidean distances) on normalized vectors will produce the same results as clustering using cosine distance as a distance metric.\n",
    "\n",
    "We import the [`normalize()` function](http://scikit-learn.org/stable/modules/generated/sklearn.preprocessing.normalize.html) from scikit-learn to normalize all vectors to unit length."
   ]
  },
  {
   "cell_type": "code",
   "execution_count": 122,
   "metadata": {},
   "outputs": [],
   "source": [
    "from sklearn.preprocessing import normalize\n",
    "tf_idf = normalize(tf_idf)"
   ]
  },
  {
   "cell_type": "markdown",
   "metadata": {},
   "source": [
    "## Implement k-means"
   ]
  },
  {
   "cell_type": "markdown",
   "metadata": {},
   "source": [
    "Let us implement the k-means algorithm. First, we choose an initial set of centroids. A common practice is to choose randomly from the data points.\n",
    "\n",
    "**Note:** We specify a seed here, so that everyone gets the same answer. In practice, we highly recommend to use different seeds every time (for instance, by using the current timestamp)."
   ]
  },
  {
   "cell_type": "code",
   "execution_count": 79,
   "metadata": {},
   "outputs": [],
   "source": [
    "def get_initial_centroids(data, k, seed=None):\n",
    "    '''Randomly choose k data points as initial centroids'''\n",
    "    if seed is not None: # useful for obtaining consistent results\n",
    "        np.random.seed(seed)\n",
    "    n = data.shape[0] # number of data points\n",
    "        \n",
    "    # Pick K indices from range [0, N).\n",
    "    rand_indices = np.random.randint(0, n, k)\n",
    "    \n",
    "    # Keep centroids as dense format, as many entries will be nonzero due to averaging.\n",
    "    # As long as at least one document in a cluster contains a word,\n",
    "    # it will carry a nonzero weight in the TF-IDF vector of the centroid.\n",
    "    centroids = data[rand_indices,:].toarray()\n",
    "    \n",
    "    return centroids"
   ]
  },
  {
   "cell_type": "markdown",
   "metadata": {},
   "source": [
    "After initialization, the k-means algorithm iterates between the following two steps:\n",
    "1. Assign each data point to the closest centroid.\n",
    "$$\n",
    "z_i \\gets \\mathrm{argmin}_j \\|\\mu_j - \\mathbf{x}_i\\|^2\n",
    "$$\n",
    "2. Revise centroids as the mean of the assigned data points.\n",
    "$$\n",
    "\\mu_j \\gets \\frac{1}{n_j}\\sum_{i:z_i=j} \\mathbf{x}_i\n",
    "$$"
   ]
  },
  {
   "cell_type": "markdown",
   "metadata": {},
   "source": [
    "In pseudocode, we iteratively do the following:\n",
    "```\n",
    "cluster_assignment = assign_clusters(data, centroids)\n",
    "centroids = revise_centroids(data, k, cluster_assignment)\n",
    "```"
   ]
  },
  {
   "cell_type": "markdown",
   "metadata": {},
   "source": [
    "### Assigning clusters"
   ]
  },
  {
   "cell_type": "markdown",
   "metadata": {},
   "source": [
    "How do we implement Step 1 of the main k-means loop above? First import `pairwise_distances` function from scikit-learn, which calculates Euclidean distances between rows of given arrays. See [this documentation](http://scikit-learn.org/stable/modules/generated/sklearn.metrics.pairwise.pairwise_distances.html) for more information.\n",
    "\n",
    "For the sake of demonstration, let's look at documents 100 through 102 as query documents and compute the distances between each of these documents and every other document in the corpus. In the k-means algorithm, we will have to compute pairwise distances between the set of centroids and the set of documents."
   ]
  },
  {
   "cell_type": "code",
   "execution_count": 9,
   "metadata": {},
   "outputs": [
    {
     "name": "stdout",
     "output_type": "stream",
     "text": [
      "[[1.41000789 1.36894636]\n",
      " [1.40935215 1.41023886]\n",
      " [1.39855967 1.40890299]\n",
      " ...\n",
      " [1.41108296 1.39123646]\n",
      " [1.41022804 1.31468652]\n",
      " [1.39899784 1.41072448]]\n"
     ]
    }
   ],
   "source": [
    "from sklearn.metrics import pairwise_distances\n",
    "\n",
    "# Get the TF-IDF vectors for documents 100 through 102.\n",
    "queries = tf_idf[100:102,:]\n",
    "\n",
    "# Compute pairwise distances from every data point to each query vector.\n",
    "dist = pairwise_distances(tf_idf, queries, metric='euclidean')\n",
    "\n",
    "print(dist)"
   ]
  },
  {
   "cell_type": "markdown",
   "metadata": {},
   "source": [
    "More formally, `dist[i,j]` is assigned the distance between the `i`th row of `X` (i.e., `X[i,:]`) and the `j`th row of `Y` (i.e., `Y[j,:]`)."
   ]
  },
  {
   "cell_type": "markdown",
   "metadata": {},
   "source": [
    "**Checkpoint:** For a moment, suppose that we initialize three centroids with the first 3 rows of `tf_idf`. Write code to compute distances from each of the centroids to all data points in `tf_idf`. Then find the distance between row 430 of `tf_idf` and the second centroid and save it to `dist`."
   ]
  },
  {
   "cell_type": "code",
   "execution_count": 29,
   "metadata": {
    "scrolled": true
   },
   "outputs": [],
   "source": [
    "# Students should write code here\n",
    "queries = tf_idf[0:3,:]\n",
    "distances = pairwise_distances(tf_idf, queries, metric='euclidean')\n",
    "dist = distances[430][1]"
   ]
  },
  {
   "cell_type": "code",
   "execution_count": 30,
   "metadata": {},
   "outputs": [
    {
     "name": "stdout",
     "output_type": "stream",
     "text": [
      "Pass\n"
     ]
    }
   ],
   "source": [
    "'''Test cell'''\n",
    "if np.allclose(dist, pairwise_distances(tf_idf[430,:], tf_idf[1,:])):\n",
    "    print('Pass')\n",
    "else:\n",
    "    print('Check your code again')"
   ]
  },
  {
   "cell_type": "markdown",
   "metadata": {},
   "source": [
    "**Checkpoint:** Next, given the pairwise distances, we take the minimum of the distances for each data point. Fittingly, NumPy provides an `argmin` function. See [this documentation](http://docs.scipy.org/doc/numpy-1.10.1/reference/generated/numpy.argmin.html) for details.\n",
    "\n",
    "Read the documentation and write code to produce a 1D array whose i-th entry indicates the centroid that is the closest to the i-th data point. Use the list of distances from the previous checkpoint and save them as `distances`. The value 0 indicates closeness to the first centroid, 1 indicates closeness to the second centroid, and so forth. Save this array as `closest_cluster`.\n",
    "\n",
    "**Hint:** the resulting array should be as long as the number of data points."
   ]
  },
  {
   "cell_type": "code",
   "execution_count": 33,
   "metadata": {},
   "outputs": [
    {
     "data": {
      "text/plain": [
       "array([[0.        , 1.40775177, 1.38784582],\n",
       "       [1.40775177, 0.        , 1.39867641]])"
      ]
     },
     "execution_count": 33,
     "metadata": {},
     "output_type": "execute_result"
    }
   ],
   "source": [
    "dists = distances[0:2]\n",
    "dists"
   ]
  },
  {
   "cell_type": "code",
   "execution_count": 36,
   "metadata": {},
   "outputs": [
    {
     "data": {
      "text/plain": [
       "array([0, 1])"
      ]
     },
     "execution_count": 36,
     "metadata": {},
     "output_type": "execute_result"
    }
   ],
   "source": [
    "np.argmin(dists, axis=1)"
   ]
  },
  {
   "cell_type": "code",
   "execution_count": 37,
   "metadata": {},
   "outputs": [],
   "source": [
    "# Students should write code here\n",
    "closest_cluster = np.argmin(distances, axis=1)"
   ]
  },
  {
   "cell_type": "code",
   "execution_count": 38,
   "metadata": {},
   "outputs": [
    {
     "name": "stdout",
     "output_type": "stream",
     "text": [
      "Pass\n"
     ]
    }
   ],
   "source": [
    "'''Test cell'''\n",
    "reference = [list(row).index(min(row)) for row in distances]\n",
    "if np.allclose(closest_cluster, reference):\n",
    "    print('Pass')\n",
    "else:\n",
    "    print('Check your code again')"
   ]
  },
  {
   "cell_type": "markdown",
   "metadata": {},
   "source": [
    "**Checkpoint:** Let's put these steps together.  First, initialize three centroids with the first 3 rows of `tf_idf`. Then, compute distances from each of the centroids to all data points in `tf_idf`. Finally, use these distance calculations to compute cluster assignments and assign them to `cluster_assignment`."
   ]
  },
  {
   "cell_type": "code",
   "execution_count": 39,
   "metadata": {},
   "outputs": [],
   "source": [
    "# Students should write code here\n",
    "initial_centroids = tf_idf[0:3,:]\n",
    "distances = pairwise_distances(tf_idf, initial_centroids, metric='euclidean')\n",
    "cluster_assignment = np.argmin(distances, axis=1)"
   ]
  },
  {
   "cell_type": "code",
   "execution_count": 40,
   "metadata": {},
   "outputs": [
    {
     "name": "stdout",
     "output_type": "stream",
     "text": [
      "Pass\n"
     ]
    }
   ],
   "source": [
    "if len(cluster_assignment)==59071 and \\\n",
    "   np.array_equal(np.bincount(cluster_assignment), np.array([23061, 10086, 25924])):\n",
    "    print('Pass') # count number of data points for each cluster\n",
    "else:\n",
    "    print('Check your code again.')"
   ]
  },
  {
   "cell_type": "markdown",
   "metadata": {},
   "source": [
    "Now we are ready to fill in the blanks in this function:"
   ]
  },
  {
   "cell_type": "code",
   "execution_count": 41,
   "metadata": {},
   "outputs": [],
   "source": [
    "def assign_clusters(data, centroids):\n",
    "    \n",
    "    # Compute distances between each data point and the set of centroids:\n",
    "    # Fill in the blank (RHS only)\n",
    "    distances_from_centroids = pairwise_distances(data, centroids, metric='euclidean')   # YOUR CODE HERE\n",
    "    \n",
    "    # Compute cluster assignments for each data point:\n",
    "    # Fill in the blank (RHS only)\n",
    "    cluster_assignment = np.argmin(distances_from_centroids, axis=1)   # YOUR CODE HERE\n",
    "    \n",
    "    return cluster_assignment"
   ]
  },
  {
   "cell_type": "markdown",
   "metadata": {},
   "source": [
    "**Checkpoint**. For the last time, let us check if Step 1 was implemented correctly. With rows 0, 2, 4, and 6 of `tf_idf` as an initial set of centroids, we assign cluster labels to rows 0, 10, 20, ..., and 90 of `tf_idf`. The resulting cluster labels should be `[0, 1, 1, 0, 0, 2, 0, 2, 2, 1]`."
   ]
  },
  {
   "cell_type": "code",
   "execution_count": 42,
   "metadata": {},
   "outputs": [
    {
     "name": "stdout",
     "output_type": "stream",
     "text": [
      "Pass\n"
     ]
    }
   ],
   "source": [
    "if np.allclose(assign_clusters(tf_idf[0:100:10], tf_idf[0:8:2]), np.array([0, 1, 1, 0, 0, 2, 0, 2, 2, 1])):\n",
    "    print('Pass')\n",
    "else:\n",
    "    print('Check your code again.')"
   ]
  },
  {
   "cell_type": "markdown",
   "metadata": {},
   "source": [
    "### Revising clusters"
   ]
  },
  {
   "cell_type": "markdown",
   "metadata": {},
   "source": [
    "Let's turn to Step 2, where we compute the new centroids given the cluster assignments. "
   ]
  },
  {
   "cell_type": "markdown",
   "metadata": {},
   "source": [
    "SciPy and NumPy arrays allow for filtering via Boolean masks. For instance, we filter all data points that are assigned to cluster 0 by writing\n",
    "```\n",
    "data[cluster_assignment==0,:]\n",
    "```"
   ]
  },
  {
   "cell_type": "markdown",
   "metadata": {},
   "source": [
    "To develop intuition about filtering, let's look at a toy example consisting of 3 data points and 2 clusters."
   ]
  },
  {
   "cell_type": "code",
   "execution_count": 48,
   "metadata": {},
   "outputs": [],
   "source": [
    "data = np.array([[1., 2., 0.],\n",
    "                 [0., 0., 0.],\n",
    "                 [2., 2., 0.]])\n",
    "centroids = np.array([[0.5, 0.5, 0.],\n",
    "                      [0., -0.5, 0.]])"
   ]
  },
  {
   "cell_type": "markdown",
   "metadata": {},
   "source": [
    "Let's assign these data points to the closest centroid."
   ]
  },
  {
   "cell_type": "code",
   "execution_count": 49,
   "metadata": {},
   "outputs": [
    {
     "name": "stdout",
     "output_type": "stream",
     "text": [
      "[0 1 0]\n"
     ]
    }
   ],
   "source": [
    "cluster_assignment = assign_clusters(data, centroids)\n",
    "print(cluster_assignment)"
   ]
  },
  {
   "cell_type": "markdown",
   "metadata": {},
   "source": [
    "The expression `cluster_assignment==1` gives a list of Booleans that says whether each data point is assigned to cluster 1 or not:"
   ]
  },
  {
   "cell_type": "code",
   "execution_count": 50,
   "metadata": {},
   "outputs": [
    {
     "data": {
      "text/plain": [
       "array([False,  True, False])"
      ]
     },
     "execution_count": 50,
     "metadata": {},
     "output_type": "execute_result"
    }
   ],
   "source": [
    "cluster_assignment==1"
   ]
  },
  {
   "cell_type": "markdown",
   "metadata": {},
   "source": [
    "Likewise for cluster 0:"
   ]
  },
  {
   "cell_type": "code",
   "execution_count": 51,
   "metadata": {},
   "outputs": [
    {
     "data": {
      "text/plain": [
       "array([ True, False,  True])"
      ]
     },
     "execution_count": 51,
     "metadata": {},
     "output_type": "execute_result"
    }
   ],
   "source": [
    "cluster_assignment==0"
   ]
  },
  {
   "cell_type": "markdown",
   "metadata": {},
   "source": [
    "In lieu of indices, we can put in the list of Booleans to pick and choose rows. Only the rows that correspond to a `True` entry will be retained.\n",
    "\n",
    "First, let's look at the data points (i.e., their values) assigned to cluster 1:"
   ]
  },
  {
   "cell_type": "code",
   "execution_count": 54,
   "metadata": {},
   "outputs": [
    {
     "data": {
      "text/plain": [
       "array([[0., 0., 0.]])"
      ]
     },
     "execution_count": 54,
     "metadata": {},
     "output_type": "execute_result"
    }
   ],
   "source": [
    "data[cluster_assignment==1]"
   ]
  },
  {
   "cell_type": "markdown",
   "metadata": {},
   "source": [
    "This makes sense since [0 0 0] is closer to [0 -0.5 0] than to [0.5 0.5 0].\n",
    "\n",
    "Now let's look at the data points assigned to cluster 0:"
   ]
  },
  {
   "cell_type": "code",
   "execution_count": 55,
   "metadata": {},
   "outputs": [
    {
     "data": {
      "text/plain": [
       "array([[1., 2., 0.],\n",
       "       [2., 2., 0.]])"
      ]
     },
     "execution_count": 55,
     "metadata": {},
     "output_type": "execute_result"
    }
   ],
   "source": [
    "data[cluster_assignment==0]"
   ]
  },
  {
   "cell_type": "markdown",
   "metadata": {},
   "source": [
    "Again, this makes sense since these values are each closer to [0.5 0.5 0] than to [0 -0.5 0].\n",
    "\n",
    "Given all the data points in a cluster, it only remains to compute the mean. Use [np.mean()](http://docs.scipy.org/doc/numpy-1.10.0/reference/generated/numpy.mean.html). By default, the function averages all elements in a 2D array. To compute row-wise or column-wise means, add the `axis` argument. See the linked documentation for details. \n",
    "\n",
    "Use this function to average the data points in cluster 0:"
   ]
  },
  {
   "cell_type": "code",
   "execution_count": 56,
   "metadata": {},
   "outputs": [
    {
     "data": {
      "text/plain": [
       "array([1.5, 2. , 0. ])"
      ]
     },
     "execution_count": 56,
     "metadata": {},
     "output_type": "execute_result"
    }
   ],
   "source": [
    "data[cluster_assignment==0].mean(axis=0)"
   ]
  },
  {
   "cell_type": "markdown",
   "metadata": {},
   "source": [
    "We are now ready to complete this function:"
   ]
  },
  {
   "cell_type": "code",
   "execution_count": 57,
   "metadata": {},
   "outputs": [],
   "source": [
    "def revise_centroids(data, k, cluster_assignment):\n",
    "    new_centroids = []\n",
    "    for i in range(k):\n",
    "        # Select all data points that belong to cluster i. Fill in the blank (RHS only)\n",
    "        member_data_points = data[cluster_assignment==i]   # YOUR CODE HERE\n",
    "        # Compute the mean of the data points. Fill in the blank (RHS only)\n",
    "        centroid = member_data_points.mean(axis=0)  # YOUR CODE HERE\n",
    "        \n",
    "        # Convert numpy.matrix type to numpy.ndarray type\n",
    "        centroid = centroid.A1\n",
    "        new_centroids.append(centroid)\n",
    "    new_centroids = np.array(new_centroids)\n",
    "    \n",
    "    return new_centroids"
   ]
  },
  {
   "cell_type": "markdown",
   "metadata": {},
   "source": [
    "**Checkpoint**. Let's check our Step 2 implementation. Letting rows 0, 10, ..., 90 of `tf_idf` as the data points and the cluster labels `[0, 1, 1, 0, 0, 2, 0, 2, 2, 1]`, we compute the next set of centroids. Each centroid is given by the average of all member data points in corresponding cluster."
   ]
  },
  {
   "cell_type": "code",
   "execution_count": 58,
   "metadata": {},
   "outputs": [
    {
     "name": "stdout",
     "output_type": "stream",
     "text": [
      "Pass\n"
     ]
    }
   ],
   "source": [
    "result = revise_centroids(tf_idf[0:100:10], 3, np.array([0, 1, 1, 0, 0, 2, 0, 2, 2, 1]))\n",
    "if np.allclose(result[0], np.mean(tf_idf[[0,30,40,60]].toarray(), axis=0)) and \\\n",
    "   np.allclose(result[1], np.mean(tf_idf[[10,20,90]].toarray(), axis=0))   and \\\n",
    "   np.allclose(result[2], np.mean(tf_idf[[50,70,80]].toarray(), axis=0)):\n",
    "    print('Pass')\n",
    "else:\n",
    "    print('Check your code')"
   ]
  },
  {
   "cell_type": "markdown",
   "metadata": {},
   "source": [
    "### Assessing convergence"
   ]
  },
  {
   "cell_type": "markdown",
   "metadata": {},
   "source": [
    "How can we tell if the k-means algorithm is converging? We can look at the cluster assignments and see if they stabilize over time. In fact, we'll be running the algorithm until the cluster assignments stop changing at all. To be extra safe, and to assess the clustering performance, we'll be looking at an additional criteria: the sum of all squared distances between data points and centroids. This is defined as\n",
    "$$\n",
    "J(\\mathcal{Z},\\mu) = \\sum_{j=1}^k \\sum_{i:z_i = j} \\|\\mathbf{x}_i - \\mu_j\\|^2.\n",
    "$$\n",
    "The smaller the distances, the more homogeneous the clusters are. In other words, we'd like to have \"tight\" clusters."
   ]
  },
  {
   "cell_type": "code",
   "execution_count": 59,
   "metadata": {},
   "outputs": [],
   "source": [
    "def compute_heterogeneity(data, k, centroids, cluster_assignment):\n",
    "    \n",
    "    heterogeneity = 0.0\n",
    "    for i in range(k):\n",
    "        \n",
    "        # Select all data points that belong to cluster i. Fill in the blank (RHS only)\n",
    "        member_data_points = data[cluster_assignment==i, :]\n",
    "        \n",
    "        if member_data_points.shape[0] > 0: # check if i-th cluster is non-empty\n",
    "            # Compute distances from centroid to data points (RHS only)\n",
    "            distances = pairwise_distances(member_data_points, [centroids[i]], metric='euclidean')\n",
    "            squared_distances = distances**2\n",
    "            heterogeneity += np.sum(squared_distances)\n",
    "        \n",
    "    return heterogeneity"
   ]
  },
  {
   "cell_type": "markdown",
   "metadata": {},
   "source": [
    "Let's compute the cluster heterogeneity for the 2-cluster example we've been considering based on our current cluster assignments and centroids."
   ]
  },
  {
   "cell_type": "code",
   "execution_count": 60,
   "metadata": {},
   "outputs": [
    {
     "data": {
      "text/plain": [
       "7.25"
      ]
     },
     "execution_count": 60,
     "metadata": {},
     "output_type": "execute_result"
    }
   ],
   "source": [
    "compute_heterogeneity(data, 2, centroids, cluster_assignment)"
   ]
  },
  {
   "cell_type": "markdown",
   "metadata": {},
   "source": [
    "### Combining into a single function"
   ]
  },
  {
   "cell_type": "markdown",
   "metadata": {},
   "source": [
    "Once the two k-means steps have been implemented, as well as our heterogeneity metric we wish to monitor, it is only a matter of putting these functions together to write a k-means algorithm that\n",
    "\n",
    "* Repeatedly performs Steps 1 and 2\n",
    "* Tracks convergence metrics\n",
    "* Stops if either no assignment changed or we reach a certain number of iterations."
   ]
  },
  {
   "cell_type": "code",
   "execution_count": 77,
   "metadata": {},
   "outputs": [],
   "source": [
    "# Fill in the blanks\n",
    "def kmeans(data, k, initial_centroids, maxiter, record_heterogeneity=None, verbose=False):\n",
    "    '''This function runs k-means on given data and initial set of centroids.\n",
    "       maxiter: maximum number of iterations to run.\n",
    "       record_heterogeneity: (optional) a list, to store the history of heterogeneity as function of iterations\n",
    "                             if None, do not store the history.\n",
    "       verbose: if True, print how many data points changed their cluster labels in each iteration'''\n",
    "    centroids = initial_centroids[:]\n",
    "    prev_cluster_assignment = None\n",
    "    \n",
    "    for itr in range(maxiter):        \n",
    "        if verbose:\n",
    "            print(itr)\n",
    "        \n",
    "        # 1. Make cluster assignments using nearest centroids\n",
    "        # YOUR CODE HERE\n",
    "        cluster_assignment = assign_clusters(data, centroids)\n",
    "            \n",
    "        # 2. Compute a new centroid for each of the k clusters, averaging all data points assigned to that cluster.\n",
    "        # YOUR CODE HERE\n",
    "        centroids = revise_centroids(data, k, cluster_assignment)\n",
    "            \n",
    "        # Check for convergence: if none of the assignments changed, stop\n",
    "        if prev_cluster_assignment is not None and \\\n",
    "          (prev_cluster_assignment==cluster_assignment).all():\n",
    "            break\n",
    "        \n",
    "        # Print number of new assignments \n",
    "        if prev_cluster_assignment is not None:\n",
    "            num_changed = np.sum(prev_cluster_assignment!=cluster_assignment)\n",
    "            if verbose:\n",
    "                print('    {0:5d} elements changed their cluster assignment.'.format(num_changed))   \n",
    "        \n",
    "        # Record heterogeneity convergence metric\n",
    "        if record_heterogeneity is not None:\n",
    "            # YOUR CODE HERE\n",
    "            score = compute_heterogeneity(data, k, centroids, cluster_assignment)\n",
    "            record_heterogeneity.append(score)\n",
    "        \n",
    "        prev_cluster_assignment = cluster_assignment[:]\n",
    "        \n",
    "    return centroids, cluster_assignment"
   ]
  },
  {
   "cell_type": "markdown",
   "metadata": {},
   "source": [
    "## Plotting convergence metric"
   ]
  },
  {
   "cell_type": "markdown",
   "metadata": {},
   "source": [
    "We can use the above function to plot the convergence metric across iterations."
   ]
  },
  {
   "cell_type": "code",
   "execution_count": 65,
   "metadata": {},
   "outputs": [],
   "source": [
    "def plot_heterogeneity(heterogeneity, k):\n",
    "    plt.figure(figsize=(7,4))\n",
    "    plt.plot(heterogeneity, linewidth=4)\n",
    "    plt.xlabel('# Iterations')\n",
    "    plt.ylabel('Heterogeneity')\n",
    "    plt.title('Heterogeneity of clustering over time, K={0:d}'.format(k))\n",
    "    plt.rcParams.update({'font.size': 16})\n",
    "    plt.tight_layout()"
   ]
  },
  {
   "cell_type": "markdown",
   "metadata": {},
   "source": [
    "Let's consider running k-means with K=3 clusters for a maximum of 400 iterations, recording cluster heterogeneity at every step.  Then, let's plot the heterogeneity over iterations using the plotting function above."
   ]
  },
  {
   "cell_type": "code",
   "execution_count": 117,
   "metadata": {
    "scrolled": true
   },
   "outputs": [
    {
     "name": "stdout",
     "output_type": "stream",
     "text": [
      "0\n",
      "1\n",
      "[1 0 0 ... 1 1 0]\n",
      "[58324.51355736017]\n"
     ]
    },
    {
     "data": {
      "image/png": "[encoded data removed]",
      "text/plain": [
       "<Figure size 504x288 with 1 Axes>"
      ]
     },
     "metadata": {
      "needs_background": "light"
     },
     "output_type": "display_data"
    }
   ],
   "source": [
    "k = 3\n",
    "heterogeneity = []\n",
    "initial_centroids = get_initial_centroids(tf_idf, k, seed=0)\n",
    "centroids, cluster_assignment = kmeans(tf_idf, k, initial_centroids, maxiter=400,\n",
    "                                       record_heterogeneity=heterogeneity, verbose=True)\n",
    "\n",
    "print(cluster_assignment)\n",
    "print(heterogeneity)\n",
    "plot_heterogeneity(heterogeneity, k)"
   ]
  },
  {
   "cell_type": "markdown",
   "metadata": {},
   "source": [
    "**Quiz Question**. (True/False) The clustering objective (heterogeneity) is non-increasing for this example."
   ]
  },
  {
   "cell_type": "markdown",
   "metadata": {},
   "source": [
    "**Quiz Question**. Let's step back from this particular example. If the clustering objective (heterogeneity) would ever increase when running k-means, that would indicate: (choose one)\n",
    "\n",
    "1. k-means algorithm got stuck in a bad local minimum\n",
    "2. There is a bug in the k-means code\n",
    "3. All data points consist of exact duplicates\n",
    "4. Nothing is wrong. The objective should generally go down sooner or later."
   ]
  },
  {
   "cell_type": "markdown",
   "metadata": {},
   "source": [
    "**Quiz Question**. Which of the cluster contains the greatest number of data points in the end? Hint: Use [`np.bincount()`](http://docs.scipy.org/doc/numpy-1.11.0/reference/generated/numpy.bincount.html) to count occurrences of each cluster label.\n",
    " 1. Cluster #0\n",
    " 2. Cluster #1\n",
    " 3. Cluster #2"
   ]
  },
  {
   "cell_type": "code",
   "execution_count": 74,
   "metadata": {},
   "outputs": [
    {
     "data": {
      "text/plain": [
       "array([30294, 24796,  3981])"
      ]
     },
     "execution_count": 74,
     "metadata": {},
     "output_type": "execute_result"
    }
   ],
   "source": [
    "np.bincount(cluster_assignment) "
   ]
  },
  {
   "cell_type": "markdown",
   "metadata": {},
   "source": [
    "## Beware of local maxima"
   ]
  },
  {
   "cell_type": "markdown",
   "metadata": {},
   "source": [
    "One weakness of k-means is that it tends to get stuck in a local minimum. To see this, let us run k-means multiple times, with different initial centroids created using different random seeds.\n",
    "\n",
    "**Note:** Again, in practice, you should set different seeds for every run. We give you a list of seeds for this assignment so that everyone gets the same answer.\n",
    "\n",
    "This may take several minutes to run."
   ]
  },
  {
   "cell_type": "code",
   "execution_count": 82,
   "metadata": {
    "scrolled": false
   },
   "outputs": [
    {
     "name": "stdout",
     "output_type": "stream",
     "text": [
      "seed=000000, heterogeneity=58078.14518, cluster_distribution=[ 9855  9087  1378  4487  3424 13967  4968  7540  2034  2331]\n",
      "seed=020000, heterogeneity=58112.06217, cluster_distribution=[ 3712  1525  3344  4098  3887 16183  3336  3534 13774  5678]\n",
      "seed=040000, heterogeneity=58066.42772, cluster_distribution=[ 4319  2698   326 10374 11803  2358 15754  7777  2092  1570]\n",
      "seed=060000, heterogeneity=57982.31570, cluster_distribution=[5593 6541 7609 9604 5996 9498 5557 1811 3365 3497]\n",
      "seed=080000, heterogeneity=57942.05828, cluster_distribution=[ 2426  4149  3917  2875  7526  1514 11851 10209  6867  7737]\n",
      "seed=100000, heterogeneity=57922.64620, cluster_distribution=[9951 2115 6516 6158 3189 8701 5562 9105 4394 3380]\n",
      "seed=120000, heterogeneity=58044.72254, cluster_distribution=[12272  6542  6372 15201  2351  2608  1158  6777  2152  3638]\n",
      "8.364381790161133\n"
     ]
    }
   ],
   "source": [
    "k = 10\n",
    "heterogeneity = {}\n",
    "cluster_assignment_dict = {}\n",
    "import time\n",
    "start = time.time()\n",
    "for seed in [0, 20000, 40000, 60000, 80000, 100000, 120000]:\n",
    "    initial_centroids = get_initial_centroids(tf_idf, k, seed)\n",
    "    centroids, cluster_assignment = kmeans(tf_idf, k, initial_centroids, maxiter=400,\n",
    "                                           record_heterogeneity=None, verbose=False)\n",
    "    # To save time, compute heterogeneity only once in the end\n",
    "    heterogeneity[seed] = compute_heterogeneity(tf_idf, k, centroids, cluster_assignment)\n",
    "\n",
    "    # This is the line we added for the next quiz question\n",
    "    cluster_assignment_dict[seed] = np.bincount(cluster_assignment)\n",
    "    \n",
    "#    print('seed={0:06d}, heterogeneity={1:.5f}'.format(seed, heterogeneity[seed]))\n",
    "    # And this is the modified print statement\n",
    "    print('seed={0:06d}, heterogeneity={1:.5f}, cluster_distribution={2}'.format(seed, heterogeneity[seed], \n",
    "                                           cluster_assignment_dict[seed]))\n",
    "    sys.stdout.flush()\n",
    "end = time.time()\n",
    "print(end-start)"
   ]
  },
  {
   "cell_type": "markdown",
   "metadata": {},
   "source": [
    "Notice the variation in heterogeneity for different initializations. This indicates that k-means sometimes gets stuck at a bad local minimum."
   ]
  },
  {
   "cell_type": "markdown",
   "metadata": {},
   "source": [
    "**Quiz Question**. Another way to capture the effect of changing initialization is to look at the distribution of cluster assignments. Add a line to the code above to compute the size (# of member data points) of clusters for each run of k-means. Look at the size of the largest cluster (most # of member data points) across multiple runs, with seeds 0, 20000, ..., 120000. How much does this measure vary across the runs? What is the minimum and maximum values this quantity takes?"
   ]
  },
  {
   "cell_type": "markdown",
   "metadata": {},
   "source": [
    "One effective way to counter this tendency is to use **k-means++** to provide a smart initialization. This method tries to spread out the initial set of centroids so that they are not too close together. It is known to improve the quality of local optima and lower average runtime."
   ]
  },
  {
   "cell_type": "code",
   "execution_count": 86,
   "metadata": {},
   "outputs": [],
   "source": [
    "def smart_initialize(data, k, seed=None):\n",
    "    '''Use k-means++ to initialize a good set of centroids'''\n",
    "    if seed is not None: # useful for obtaining consistent results\n",
    "        np.random.seed(seed)\n",
    "    centroids = np.zeros((k, data.shape[1]))\n",
    "    \n",
    "    # Randomly choose the first centroid.\n",
    "    # Since we have no prior knowledge, choose uniformly at random\n",
    "    idx = np.random.randint(data.shape[0])\n",
    "    centroids[0] = data[idx,:].toarray()\n",
    "    # Compute distances from the first centroid chosen to all the other data points\n",
    "    squared_distances = pairwise_distances(data, centroids[0:1], metric='euclidean').flatten()**2\n",
    "    \n",
    "    for i in range(1, k):\n",
    "        # Choose the next centroid randomly, so that the probability for each data point to be chosen\n",
    "        # is directly proportional to its squared distance from the nearest centroid.\n",
    "        # Roughtly speaking, a new centroid should be as far as from ohter centroids as possible.\n",
    "        idx = np.random.choice(data.shape[0], 1, p=squared_distances/sum(squared_distances))\n",
    "        centroids[i] = data[idx,:].toarray()\n",
    "        # Now compute distances from the centroids to all data points\n",
    "        squared_distances = np.min(pairwise_distances(data, centroids[0:i+1], metric='euclidean')**2,axis=1)\n",
    "    \n",
    "    return centroids"
   ]
  },
  {
   "cell_type": "markdown",
   "metadata": {},
   "source": [
    "Let's now rerun k-means with 10 clusters using the same set of seeds, but always using k-means++ to initialize the algorithm.\n",
    "\n",
    "This may take several minutes to run."
   ]
  },
  {
   "cell_type": "code",
   "execution_count": 84,
   "metadata": {},
   "outputs": [
    {
     "name": "stdout",
     "output_type": "stream",
     "text": [
      "seed=000000, heterogeneity=58110.52893\n",
      "seed=020000, heterogeneity=58028.82870\n",
      "seed=040000, heterogeneity=58046.03279\n",
      "seed=060000, heterogeneity=58114.98151\n",
      "seed=080000, heterogeneity=57953.24396\n",
      "seed=100000, heterogeneity=57919.88568\n",
      "seed=120000, heterogeneity=57962.89642\n",
      "CPU times: user 18.9 s, sys: 2.57 s, total: 21.5 s\n",
      "Wall time: 21.7 s\n"
     ]
    }
   ],
   "source": [
    "%%time \n",
    "\n",
    "k = 10\n",
    "heterogeneity_smart = {}\n",
    "seeds = [0, 20000, 40000, 60000, 80000, 100000, 120000]\n",
    "for seed in seeds:\n",
    "    initial_centroids = smart_initialize(tf_idf, k, seed)\n",
    "    centroids, cluster_assignment = kmeans(tf_idf, k, initial_centroids, maxiter=400,\n",
    "                                           record_heterogeneity=None, verbose=False)\n",
    "    # To save time, compute heterogeneity only once in the end\n",
    "    heterogeneity_smart[seed] = compute_heterogeneity(tf_idf, k, centroids, cluster_assignment)\n",
    "    print('seed={0:06d}, heterogeneity={1:.5f}'.format(seed, heterogeneity_smart[seed]))\n",
    "    sys.stdout.flush()\n"
   ]
  },
  {
   "cell_type": "markdown",
   "metadata": {},
   "source": [
    "Let's compare the set of cluster heterogeneities we got from our 7 restarts of k-means using random initialization compared to the 7 restarts of k-means using k-means++ as a smart initialization.\n",
    "\n",
    "The following code produces a [box plot](http://matplotlib.org/api/pyplot_api.html) for each of these methods, indicating the spread of values produced by each method."
   ]
  },
  {
   "cell_type": "code",
   "execution_count": 85,
   "metadata": {},
   "outputs": [
    {
     "data": {
      "image/png": "[encoded data removed]",
      "text/plain": [
       "<Figure size 576x360 with 1 Axes>"
      ]
     },
     "metadata": {
      "needs_background": "light"
     },
     "output_type": "display_data"
    }
   ],
   "source": [
    "plt.figure(figsize=(8,5))\n",
    "plt.boxplot([list(heterogeneity.values()), list(heterogeneity_smart.values())], vert=False)\n",
    "plt.yticks([1, 2], ['k-means', 'k-means++'])\n",
    "plt.rcParams.update({'font.size': 16})\n",
    "plt.tight_layout()"
   ]
  },
  {
   "cell_type": "markdown",
   "metadata": {},
   "source": [
    "A few things to notice from the box plot:\n",
    "* On average, k-means++ produces a better clustering than Random initialization.\n",
    "* Variation in clustering quality is smaller for k-means++."
   ]
  },
  {
   "cell_type": "markdown",
   "metadata": {},
   "source": [
    "**In general, you should run k-means at least a few times with different initializations and then return the run resulting in the lowest heterogeneity.** Let us write a function that runs k-means multiple times and picks the best run that minimizes heterogeneity. The function accepts an optional list of seed values to be used for the multiple runs; if no such list is provided, the current UTC time is used as seed values."
   ]
  },
  {
   "cell_type": "code",
   "execution_count": 87,
   "metadata": {},
   "outputs": [],
   "source": [
    "def kmeans_multiple_runs(data, k, maxiter, num_runs, seed_list=None, verbose=False):\n",
    "    heterogeneity = {}\n",
    "    \n",
    "    min_heterogeneity_achieved = float('inf')\n",
    "    best_seed = None\n",
    "    final_centroids = None\n",
    "    final_cluster_assignment = None\n",
    "    \n",
    "    for i in range(num_runs):\n",
    "        \n",
    "        # Use UTC time if no seeds are provided \n",
    "        if seed_list is not None: \n",
    "            seed = seed_list[i]\n",
    "            np.random.seed(seed)\n",
    "        else: \n",
    "            seed = int(time.time())\n",
    "            np.random.seed(seed)\n",
    "        \n",
    "        # Use k-means++ initialization\n",
    "        # YOUR CODE HERE\n",
    "        initial_centroids = smart_initialize(data, k, seed)\n",
    "        \n",
    "        # Run k-means\n",
    "        # YOUR CODE HERE\n",
    "        centroids, cluster_assignment = kmeans(data, k, initial_centroids, maxiter)\n",
    "        \n",
    "        # To save time, compute heterogeneity only once in the end\n",
    "        # YOUR CODE HERE\n",
    "        heterogeneity[seed] = compute_heterogeneity(data, k, centroids, cluster_assignment)\n",
    "        \n",
    "        if verbose:\n",
    "            print('seed={0:06d}, heterogeneity={1:.5f}'.format(seed, heterogeneity[seed]))\n",
    "            sys.stdout.flush()\n",
    "        \n",
    "        # if current measurement of heterogeneity is lower than previously seen,\n",
    "        # update the minimum record of heterogeneity.\n",
    "        if heterogeneity[seed] < min_heterogeneity_achieved:\n",
    "            min_heterogeneity_achieved = heterogeneity[seed]\n",
    "            best_seed = seed\n",
    "            final_centroids = centroids\n",
    "            final_cluster_assignment = cluster_assignment\n",
    "    \n",
    "    # Return the centroids and cluster assignments that minimize heterogeneity.\n",
    "    return final_centroids, final_cluster_assignment"
   ]
  },
  {
   "cell_type": "markdown",
   "metadata": {},
   "source": [
    "## How to choose K"
   ]
  },
  {
   "cell_type": "markdown",
   "metadata": {},
   "source": [
    "Since we are measuring the tightness of the clusters, a higher value of K reduces the possible heterogeneity metric by definition.  For example, if we have N data points and set K=N clusters, then we could have 0 cluster heterogeneity by setting the N centroids equal to the values of the N data points. (Note: Not all runs for larger K will result in lower heterogeneity than a single run with smaller K due to local optima.)  Let's explore this general trend for ourselves by performing the following analysis."
   ]
  },
  {
   "cell_type": "markdown",
   "metadata": {},
   "source": [
    "Use the `kmeans_multiple_runs` function to run k-means with five different values of K.  For each K, use k-means++ and multiple runs to pick the best solution.  In what follows, we consider K=2,10,25,50,100 and 7 restarts for each setting.\n",
    "\n",
    "**IMPORTANT: The code block below will take about 10 minutes to finish**\n",
    "\n",
    "In order to speed up the computations, we run them with only one random seed, but for better performance, one should use more seeds and compare the results. If you don't mind running the code for approximately one hour, feel free to uncomment the following line of code below:\n",
    "\n",
    "`seed_list = [0]#, 20000, 40000, 60000, 80000, 100000, 120000]`\n",
    "\n",
    "Side note: In practice, a good implementation of k-means would utilize parallelism to run multiple runs of k-means at once. For an example, see [scikit-learn's KMeans](http://scikit-learn.org/stable/modules/generated/sklearn.cluster.KMeans.html)."
   ]
  },
  {
   "cell_type": "code",
   "execution_count": 88,
   "metadata": {
    "scrolled": false
   },
   "outputs": [
    {
     "name": "stdout",
     "output_type": "stream",
     "text": [
      "seed=000000, heterogeneity=58337.23304\n",
      "seed=000000, heterogeneity=58110.52893\n",
      "seed=000000, heterogeneity=57715.12384\n",
      "seed=000000, heterogeneity=57425.50277\n",
      "seed=000000, heterogeneity=56960.98481\n",
      "CPU times: user 2min 4s, sys: 17 s, total: 2min 21s\n",
      "Wall time: 2min 22s\n"
     ]
    }
   ],
   "source": [
    "%%time\n",
    "import numpy as np \n",
    "\n",
    "def plot_k_vs_heterogeneity(k_values, heterogeneity_values):\n",
    "    plt.figure(figsize=(7,4))\n",
    "    plt.plot(k_values, heterogeneity_values, linewidth=4)\n",
    "    plt.xlabel('K')\n",
    "    plt.ylabel('Heterogeneity')\n",
    "    plt.title('K vs. Heterogeneity')\n",
    "    plt.rcParams.update({'font.size': 16})\n",
    "    plt.tight_layout()\n",
    "\n",
    "centroids = {}\n",
    "cluster_assignment = {}\n",
    "heterogeneity_values = []\n",
    "k_list = [2, 10, 25, 50, 100]\n",
    "seed_list = [0]\n",
    "# Uncomment the following line to run the plot with all the seeds (it may take about an hour to finish).\n",
    "#seed_list = [0, 20000, 40000, 60000, 80000, 100000, 120000]\n",
    "\n",
    "for k in k_list:\n",
    "    heterogeneity = []\n",
    "    centroids[k], cluster_assignment[k] = kmeans_multiple_runs(tf_idf, k, maxiter=400,\n",
    "                                                               num_runs=len(seed_list),                                                               seed_list=seed_list,\n",
    "                                                               verbose=True)\n",
    "    score = compute_heterogeneity(tf_idf, k, centroids[k], cluster_assignment[k])\n",
    "    heterogeneity_values.append(score)"
   ]
  },
  {
   "cell_type": "code",
   "execution_count": 89,
   "metadata": {},
   "outputs": [
    {
     "data": {
      "image/png": "[encoded data removed]",
      "text/plain": [
       "<Figure size 504x288 with 1 Axes>"
      ]
     },
     "metadata": {
      "needs_background": "light"
     },
     "output_type": "display_data"
    }
   ],
   "source": [
    "plot_k_vs_heterogeneity(k_list, heterogeneity_values)"
   ]
  },
  {
   "cell_type": "markdown",
   "metadata": {},
   "source": [
    "In the above plot we show that heterogeneity goes down as we increase the number of clusters. Does this mean we should always favor a higher K? **Not at all!** As we will see in the following section, setting K too high may end up separating data points that are actually pretty alike. At the extreme, we can set individual data points to be their own clusters (K=N) and achieve zero heterogeneity, but separating each data point into its own cluster is hardly a desirable outcome. In the following section, we will learn how to detect a K set \"too large\"."
   ]
  },
  {
   "cell_type": "markdown",
   "metadata": {},
   "source": [
    "## Visualize clusters of documents"
   ]
  },
  {
   "cell_type": "markdown",
   "metadata": {},
   "source": [
    "Let's start visualizing some clustering results to see if we think the clustering makes sense.  We can use such visualizations to help us assess whether we have set K too large or too small for a given application.  Following the theme of this course, we will judge whether the clustering makes sense in the context of document analysis.\n",
    "\n",
    "What are we looking for in a good clustering of documents?\n",
    "* Documents in the same cluster should be similar.\n",
    "* Documents from different clusters should be less similar.\n",
    "\n",
    "So a bad clustering exhibits either of two symptoms:\n",
    "* Documents in a cluster have mixed content.\n",
    "* Documents with similar content are divided up and put into different clusters.\n",
    "\n",
    "To help visualize the clustering, we do the following:\n",
    "* Fetch nearest neighbors of each centroid from the set of documents assigned to that cluster. We will consider these documents as being representative of the cluster.\n",
    "* Print titles and first sentences of those nearest neighbors.\n",
    "* Print top 5 words that have highest tf-idf weights in each centroid."
   ]
  },
  {
   "cell_type": "code",
   "execution_count": 94,
   "metadata": {},
   "outputs": [],
   "source": [
    "def visualize_document_clusters(wiki, tf_idf, centroids, cluster_assignment, k, map_word_to_index, display_content=True):\n",
    "    '''wiki: original dataframe\n",
    "       tf_idf: data matrix, sparse matrix format\n",
    "       map_index_to_word: SFrame specifying the mapping betweeen words and column indices\n",
    "       display_content: if True, display 8 nearest neighbors of each centroid'''\n",
    "    map_index_to_word =  {v:k for k,v in map_word_to_index.items()}\n",
    "    print('==========================================================')\n",
    "    # Visualize each cluster c\n",
    "    for c in range(k):\n",
    "        # Cluster heading\n",
    "        print('Cluster {0:d}    '.format(c)),\n",
    "        # Print top 5 words with largest TF-IDF weights in the cluster\n",
    "        idx = centroids[c].argsort()[::-1]\n",
    "        for i in range(5): # Print each word along with the TF-IDF weight\n",
    "            print('{0:s}:{1:.3f}'.format(map_index_to_word[idx[i]], centroids[c][idx[i]])),\n",
    "        print('')\n",
    "        \n",
    "        if display_content:\n",
    "            # Compute distances from the centroid to all data points in the cluster,\n",
    "            # and compute nearest neighbors of the centroids within the cluster.\n",
    "            distances = pairwise_distances(tf_idf, centroids[c].reshape(1, -1), metric='euclidean').flatten()\n",
    "            distances[cluster_assignment!=c] = float('inf') # remove non-members from consideration\n",
    "            \n",
    "            nearest_neighbors = distances.argsort()\n",
    "            \n",
    "            # For 8 nearest neighbors, print the title as well as first 180 characters of text.\n",
    "            # Wrap the text at 80-character mark.\n",
    "            for i in range(8):\n",
    "                text = ' '.join(wiki[nearest_neighbors[i]]['text'].split(None, 25)[0:25])\n",
    "                print('\\n* {0:50s} {1:.5f}\\n  {2:s}\\n  {3:s}'.format(wiki[nearest_neighbors[i]]['name'],\n",
    "                    distances[nearest_neighbors[i]], text[:90], text[90:180] if len(text) > 90 else ''))\n",
    "        print('==========================================================')"
   ]
  },
  {
   "cell_type": "markdown",
   "metadata": {},
   "source": [
    "Let us first look at the 2 cluster case (K=2)."
   ]
  },
  {
   "cell_type": "code",
   "execution_count": 95,
   "metadata": {},
   "outputs": [
    {
     "name": "stdout",
     "output_type": "stream",
     "text": [
      "==========================================================\n",
      "Cluster 0    \n",
      "she:0.021\n",
      "her:0.014\n",
      "he:0.012\n",
      "university:0.012\n",
      "research:0.008\n",
      "\n",
      "\n",
      "* %C3%81ine Hyland                                   0.97608\n",
      "  ine hyland ne donlon is emeritus professor of education and former vicepresident of univer\n",
      "  sity college cork ireland she was born in 1942 in athboy co\n",
      "\n",
      "* Anita Kunz                                         0.97733\n",
      "  anita e kunz oc born 1956 is a canadianborn artist and illustratorkunz has lived in london\n",
      "   new york and toronto contributing to magazines and working\n",
      "\n",
      "* Vanessa Gilmore                                    0.97838\n",
      "  vanessa diane gilmore born october 1956 is a judge on the united states district court for\n",
      "   the southern district of texas she was appointed to\n",
      "\n",
      "* Pat Studdy-Clift                                   0.97839\n",
      "  pat studdyclift is an australian author specialising in historical fiction and nonfictionb\n",
      "  orn in 1925 she lived in gunnedah until she was sent to a boarding\n",
      "\n",
      "* Margaret Catley-Carlson                            0.97846\n",
      "  margaret catleycarlson oc born 6 october 1942 is a canadian civil servant she was chair an\n",
      "  d is now a patron of the global water partnership\n",
      "\n",
      "* Liz Cunningham                                     0.97874\n",
      "  elizabeth anne liz cunningham is an australian politician she was an independent member of\n",
      "   the legislative assembly of queensland from 1995 to 2015 representing the\n",
      "\n",
      "* Raylawni Branch                                    0.97921\n",
      "  raylawni branch born 1941 hattiesburg forrest county mississippi united states is a black \n",
      "  mississippi pioneer of the africanamerican civil rights movement 19551968 a professional n\n",
      "\n",
      "* Alexandra Potter                                   0.97962\n",
      "  alexandra potter born 1970 is a british author of romantic comediesborn in bradford yorksh\n",
      "  ire england and educated at liverpool university gaining an honors degree in\n",
      "==========================================================\n",
      "Cluster 1    \n",
      "she:0.023\n",
      "film:0.019\n",
      "her:0.017\n",
      "music:0.015\n",
      "he:0.012\n",
      "\n",
      "\n",
      "* Maggie Smith                                       0.97216\n",
      "  dame margaret natalie maggie smith ch dbe born 28 december 1934 is an english actress she \n",
      "  made her stage debut in 1952 and has had\n",
      "\n",
      "* Madonna (entertainer)                              0.97233\n",
      "  madonna louise ciccone tkoni born august 16 1958 is an american singer songwriter actress \n",
      "  and businesswoman she achieved popularity by pushing the boundaries of lyrical\n",
      "\n",
      "* Janet Jackson                                      0.97277\n",
      "  janet damita jo jackson born may 16 1966 is an american singer songwriter and actress know\n",
      "  n for a series of sonically innovative socially conscious and\n",
      "\n",
      "* Natashia Williams                                  0.97334\n",
      "  natashia williamsblach born august 2 1978 is an american actress and former wonderbra camp\n",
      "  aign model who is perhaps best known for her role as shane\n",
      "\n",
      "* Jane Fonda                                         0.97470\n",
      "  jane fonda born lady jayne seymour fonda december 21 1937 is an american actress writer po\n",
      "  litical activist former fashion model and fitness guru she is\n",
      "\n",
      "* Judi Dench                                         0.97472\n",
      "  dame judith olivia dench ch dbe frsa born 9 december 1934 is an english actress and author\n",
      "   dench made her professional debut in 1957 with\n",
      "\n",
      "* Glenn Close                                        0.97473\n",
      "  glenn close born march 19 1947 is an american film television and stage actress throughout\n",
      "   her long and varied career she has been consistently acclaimed\n",
      "\n",
      "* Cher                                               0.97474\n",
      "  cher r born cherilyn sarkisian may 20 1946 is an american singer actress and television ho\n",
      "  st described as embodying female autonomy in a maledominated industry\n",
      "==========================================================\n"
     ]
    }
   ],
   "source": [
    "'''Notice the extra pairs of parentheses for centroids and cluster_assignment.\n",
    "   The centroid and cluster_assignment are still inside the npz file,\n",
    "   and we need to explicitly indicate when to load them into memory.'''\n",
    "visualize_document_clusters(wiki, tf_idf, centroids[2], cluster_assignment[2], 2, map_index_to_word)"
   ]
  },
  {
   "cell_type": "markdown",
   "metadata": {},
   "source": [
    "Both clusters have mixed content, although cluster 1 is much purer than cluster 0:\n",
    "* Cluster 0: academia, law\n",
    "* Cluster 1: female figures, baseball players\n",
    "\n",
    "Roughly speaking, the entire dataset was divided into athletes and non-athletes. It would be better if we sub-divided non-atheletes into more categories. So let us use more clusters. How about `K=10`?"
   ]
  },
  {
   "cell_type": "code",
   "execution_count": 96,
   "metadata": {
    "scrolled": true
   },
   "outputs": [
    {
     "name": "stdout",
     "output_type": "stream",
     "text": [
      "==========================================================\n",
      "Cluster 0    \n",
      "de:0.023\n",
      "she:0.021\n",
      "book:0.016\n",
      "her:0.015\n",
      "published:0.012\n",
      "\n",
      "\n",
      "* Alberto Blanco (poet)                              0.97319\n",
      "  alberto blanco is considered one of mexicos most important poets born in mexico city on fe\n",
      "  bruary 18 1951 he spent his childhood and adolescence in\n",
      "\n",
      "* Ruth Rosen                                         0.97611\n",
      "  ruth rosen born 1956 is a pioneering historian of gender and society an awardwinning journ\n",
      "  alist and a professor emerita at university of california davisshe is\n",
      "\n",
      "* Tang Xiyang                                        0.97826\n",
      "  tang xiyang born january 30 1930 in miluo hunan province is a chinese environmentalist he \n",
      "  was awarded the 2007 ramon magsaysay award for peace and\n",
      "\n",
      "* Evelin Lindner                                     0.97869\n",
      "  evelin gerda lindner born may 13 1954 in hameln germany is a transdisciplinary scholar in \n",
      "  social sciences and humanities she holds two doctorates one in\n",
      "\n",
      "* Ana Maria de Martinez                              0.97874\n",
      "  ana mara de martnez may 28 1937 in santa ana el salvador december 17 2012 in san salvador \n",
      "  el salvador was a salvadoran artist she\n",
      "\n",
      "* Kcho                                               0.97902\n",
      "  kchosometimes spelled kcho born alexis leiva machado on the isla de pinos 1970 is a contem\n",
      "  porary cuban artist kcho has had art showings around the\n",
      "\n",
      "* Daisy Zamora                                       0.97921\n",
      "  daisy zamora 20 june 1950 in managua nicaragua is one of the most prominent figures in con\n",
      "  temporary latin american poetry her work is known for\n",
      "\n",
      "* Luciano L'Abate                                    0.97978\n",
      "  luciano labate born 1928 is the father of relational theory and author coauthor editor or \n",
      "  coeditor of more than 55 books in the field of\n",
      "==========================================================\n",
      "Cluster 1    \n",
      "film:0.051\n",
      "she:0.029\n",
      "television:0.020\n",
      "her:0.020\n",
      "films:0.019\n",
      "\n",
      "\n",
      "* Shona Auerbach                                     0.95527\n",
      "  shona auerbach is a british film director and cinematographerauerbach began her career as \n",
      "  a stills photographer she studied film at manchester university and cinematography at\n",
      "\n",
      "* Justin Edgar                                       0.95773\n",
      "  justin edgar is a british film directorborn in handsworth birmingham on 18 august 1971 edg\n",
      "  ar graduated from portsmouth university in 1996 with a first class\n",
      "\n",
      "* Laura Neri                                         0.95878\n",
      "  laura neri greek is a director of greek and italian origins born in brussels belgium she g\n",
      "  raduated from the usc school of cinematic arts in\n",
      "\n",
      "* Maggie Smith                                       0.95909\n",
      "  dame margaret natalie maggie smith ch dbe born 28 december 1934 is an english actress she \n",
      "  made her stage debut in 1952 and has had\n",
      "\n",
      "* Robert Braiden                                     0.96103\n",
      "  robert braiden is an australian film director and writer born in sydney he grew up in moor\n",
      "  ebank liverpool new south wales and now currently lives\n",
      "\n",
      "* Judi Dench                                         0.96111\n",
      "  dame judith olivia dench ch dbe frsa born 9 december 1934 is an english actress and author\n",
      "   dench made her professional debut in 1957 with\n",
      "\n",
      "* Bill Bennett (director)                            0.96117\n",
      "  bill bennett born 1953 is an australian film director producer and screenwriterhe dropped \n",
      "  out of medicine at queensland university in 1972 and joined the australian\n",
      "\n",
      "* Singeetam Srinivasa Rao                            0.96151\n",
      "  singeetam srinivasa rao born 21 september 1931 is an indian film director producer screenw\n",
      "  riter composer singer lyricist and actor known for his works in telugu\n",
      "==========================================================\n",
      "Cluster 2    \n",
      "football:0.019\n",
      "league:0.017\n",
      "university:0.015\n",
      "state:0.015\n",
      "he:0.015\n",
      "\n",
      "\n",
      "* Pete Richardson                                    0.97272\n",
      "  pete richardson born october 17 1946 in youngstown ohio is a former american football defe\n",
      "  nsive back in the national football league and former college head\n",
      "\n",
      "* Ashley Prescott                                    0.97305\n",
      "  ashley prescott born 11 september 1972 is a former australian rules footballer he played w\n",
      "  ith the richmond and fremantle football clubs in the afl between\n",
      "\n",
      "* Todd Williams                                      0.97362\n",
      "  todd michael williams born february 13 1971 in syracuse new york is a former major league \n",
      "  baseball relief pitcher he attended east syracuseminoa high school\n",
      "\n",
      "* Todd Curley                                        0.97373\n",
      "  todd curley born 14 january 1973 is a former australian rules footballer who played for co\n",
      "  llingwood and the western bulldogs in the australian football league\n",
      "\n",
      "* Karl Morgan                                        0.97428\n",
      "  karl morgan born february 23 1961 is an american football coach and former player he is cu\n",
      "  rrently the head football coach at coahoma community college\n",
      "\n",
      "* Barry Sullivan (lawyer)                            0.97538\n",
      "  barry sullivan is a chicago lawyer and as of july 1 2009 the cooney conway chair in advoca\n",
      "  cy at loyola university chicago school of law\n",
      "\n",
      "* Les Robinson                                       0.97562\n",
      "  les robinson is a former american basketball coach and former athletic director of north c\n",
      "  arolina state and the citadelrobinson graduated in 1965 with a bachelors\n",
      "\n",
      "* Earl Spalding                                      0.97595\n",
      "  earl spalding born 11 march 1965 in south perth is a former australian rules footballer wh\n",
      "  o played for melbourne and carlton in the victorian football\n",
      "==========================================================\n",
      "Cluster 3    \n",
      "election:0.029\n",
      "mayor:0.024\n",
      "she:0.020\n",
      "party:0.020\n",
      "elected:0.017\n",
      "\n",
      "\n",
      "* Liz Cunningham                                     0.96414\n",
      "  elizabeth anne liz cunningham is an australian politician she was an independent member of\n",
      "   the legislative assembly of queensland from 1995 to 2015 representing the\n",
      "\n",
      "* Kayee Griffin                                      0.96451\n",
      "  kayee frances griffin born 6 february 1950 is an australian politician and former australi\n",
      "  an labor party member of the new south wales legislative council serving\n",
      "\n",
      "* Marcelle Mersereau                                 0.96520\n",
      "  marcelle mersereau born february 14 1942 in pointeverte new brunswick is a canadian politi\n",
      "  cian a civil servant for most of her career she also served\n",
      "\n",
      "* Don Bell                                           0.96697\n",
      "  donald h bell born march 10 1942 in new westminster british columbia is a canadian politic\n",
      "  ian he is currently serving as a councillor for the\n",
      "\n",
      "* Ray Brunka                                         0.96858\n",
      "  raymond brunka is a politician in manitoba canada he was a member of the winnipeg city cou\n",
      "  ncil from 1974 to 1977 and has since become\n",
      "\n",
      "* Ruth Bennett                                       0.96862\n",
      "  ruth bennett is vicechair of outright libertarians and was formerly chair of the libertari\n",
      "  an party of washington and the libertarian party of coloradoraised in longview\n",
      "\n",
      "* Patsy Kinsey                                       0.96937\n",
      "  patsy kinsey born 1941 is an american politician and member of the democratic party who se\n",
      "  rved as the mayor of charlotte north carolina for five\n",
      "\n",
      "* Orlando Smith                                      0.96978\n",
      "  d orlando smith obe born 28 august 1944 is the current premier of the british virgin islan\n",
      "  ds he also formerly served as chief minister of\n",
      "==========================================================\n",
      "Cluster 4    \n",
      "music:0.023\n",
      "she:0.019\n",
      "jazz:0.019\n",
      "her:0.013\n",
      "he:0.013\n",
      "\n",
      "\n",
      "* Brenton Broadstock                                 0.97261\n",
      "  brenton broadstock ao born 1952 is an australian composerbroadstock was born in melbourne \n",
      "  he studied history politics and music at monash university and later composition\n",
      "\n",
      "* Madonna (entertainer)                              0.97401\n",
      "  madonna louise ciccone tkoni born august 16 1958 is an american singer songwriter actress \n",
      "  and businesswoman she achieved popularity by pushing the boundaries of lyrical\n",
      "\n",
      "* Laura Kaminsky                                     0.97506\n",
      "  laura kaminsky born 28 september 1956 is an american composer producer of musical and mult\n",
      "  idisciplinary cultural events and educator she was born in new york\n",
      "\n",
      "* Michael Joseph Smith                               0.97543\n",
      "  michael joseph smith is an american jazz and american classical composer and pianist born \n",
      "  in tiline kentucky he has worked extensively in europe and asia\n",
      "\n",
      "* Michael Colgrass                                   0.97552\n",
      "  michael colgrass born april 22 1932 chicago illinois is an americanborn canadian musician \n",
      "  composer and educatorhis musical career began in chicago as a jazz musician\n",
      "\n",
      "* Anita Kunz                                         0.97563\n",
      "  anita e kunz oc born 1956 is a canadianborn artist and illustratorkunz has lived in london\n",
      "   new york and toronto contributing to magazines and working\n"
     ]
    },
    {
     "name": "stdout",
     "output_type": "stream",
     "text": [
      "\n",
      "* Luciana Souza                                      0.97626\n",
      "  luciana souza july 12 1966 so paulo brazil is a brazilian jazz singer and composer who has\n",
      "   crossed over into classical musicdaughter of poet tereza\n",
      "\n",
      "* Frederique Trunk                                   0.97630\n",
      "  frederique trunk was born in colmar france and graduated in 1986 from the conservatoire de\n",
      "   music de strasbourg with honors in piano ear training and\n",
      "==========================================================\n",
      "Cluster 5    \n",
      "she:0.030\n",
      "country:0.026\n",
      "her:0.026\n",
      "album:0.023\n",
      "song:0.018\n",
      "\n",
      "\n",
      "* Keith Urban                                        0.95658\n",
      "  keith lionel urban born 26 october 1967 is a new zealand born australian country music sin\n",
      "  ger songwriter guitarist entrepreneur and music competition judge in 1991\n",
      "\n",
      "* Kelly Clarkson                                     0.95704\n",
      "  kelly brianne clarkson born april 24 1982 is an american singer and songwriter in 2002 she\n",
      "   rose to fame after winning the first season of\n",
      "\n",
      "* Dolly Parton                                       0.95805\n",
      "  dolly rebecca parton dhl born january 19 1946 is an american singersongwriter instrumental\n",
      "  ist actress author and philanthropist known primarily for her work in country music\n",
      "\n",
      "* Jay Sean                                           0.95823\n",
      "  kamaljit singh jhooti born 26 march 1979 better known by his stage name jay sean is a brit\n",
      "  ish singersongwriter and rapper he debuted in the\n",
      "\n",
      "* Miranda Lambert                                    0.95839\n",
      "  miranda leigh lambertshelton born november 10 1983 is an american country music artist who\n",
      "   gained fame as a finalist on the 2003 season of nashville\n",
      "\n",
      "* Leona Lewis                                        0.95895\n",
      "  leona louise lewis born 3 april 1985 is a british singer songwriter vocal producer and ani\n",
      "  mal welfare campaigner she was born and raised in the\n",
      "\n",
      "* Carrie Underwood                                   0.95977\n",
      "  carrie marie underwood born march 10 1983 is an american singer songwriter and actress she\n",
      "   rose to fame as the winner of the fourth season\n",
      "\n",
      "* Rodney Atkins                                      0.95995\n",
      "  rodney allan atkins born march 28 1969 is an american country music artist signed to curb \n",
      "  records in 1996 he charted his first single on\n",
      "==========================================================\n",
      "Cluster 6    \n",
      "music:0.031\n",
      "album:0.027\n",
      "she:0.025\n",
      "her:0.021\n",
      "band:0.020\n",
      "\n",
      "\n",
      "* Laura Smith                                        0.96689\n",
      "  laura smith is a canadian folk singersongwriter she is best known for her 1995 single shad\n",
      "  e of your love one of the years biggest hits\n",
      "\n",
      "* Kate Walsh (singer)                                0.96816\n",
      "  kate walsh born february 20 1983 is an english singer from burnhamoncrouch essex a graduat\n",
      "  e of the brighton institute of modern music her first album\n",
      "\n",
      "* Anne Harris (musician)                             0.96868\n",
      "  anne harris is a singer songwriter violinist recording artist and actor based in chicago i\n",
      "  llinois she has independently produced and released four studio albums on\n",
      "\n",
      "* Peter Combe                                        0.96901\n",
      "  peter combe born 20 october 1948 is an australian childrens entertainer and musicianmusica\n",
      "  l genre childrens musiche has had 22 releases including seven gold albums two\n",
      "\n",
      "* Lady Gaga                                          0.96927\n",
      "  stefani joanne angelina germanotta stfni drmnt stefnee jurmnot born march 28 1986 better k\n",
      "  nown by her stage name lady gaga is an american singer and\n",
      "\n",
      "* Lizzie West                                        0.96935\n",
      "  lizzie west born in brooklyn ny on july 21 1973 is a singersongwriter her music can be des\n",
      "  cribed as a blend of many genres including\n",
      "\n",
      "* Kendel Carson                                      0.96970\n",
      "  kendel carson born c 1985 is a canadian singer and fiddler she performs with the folk musi\n",
      "  c band the paperboys but is best known internationally\n",
      "\n",
      "* Princess (singer)                                  0.96975\n",
      "  desiree heslop best known as princess is a british singer who found chart success in the m\n",
      "  id1980s in the late1970s she worked with the group\n",
      "==========================================================\n",
      "Cluster 7    \n",
      "she:0.038\n",
      "minister:0.026\n",
      "her:0.019\n",
      "policy:0.016\n",
      "government:0.013\n",
      "\n",
      "\n",
      "* Carol Skelton                                      0.96587\n",
      "  carol skelton pc born december 12 1945 in biggar saskatchewan is a canadian politician she\n",
      "   is a member of the security intelligence review committee which\n",
      "\n",
      "* Helen Clark                                        0.96605\n",
      "  helen elizabeth clark onz ssi born 26 february 1950 is the administrator of the united nat\n",
      "  ions development programme undp and was the 37th prime minister\n",
      "\n",
      "* Ruth Lea                                           0.96650\n",
      "  ruth jane lea cbe born 22 september 1947 is a british political economist working in the f\n",
      "  inancial sector she has also worked as a civil\n",
      "\n",
      "* Mary Collins                                       0.96727\n",
      "  mary collins pc born september 26 1940 is a former canadian politicianshe was first electe\n",
      "  d to the canadian house of commons in the 1984 federal\n",
      "\n",
      "* Lucienne Robillard                                 0.96760\n",
      "  lucienne robillard pc born june 16 1945 is a canadian politician and a member of the liber\n",
      "  al party of canada she sat in the house\n",
      "\n",
      "* Lieve Fransen                                      0.96897\n",
      "  lieve fransen md phd is since 2011 the director for social policies in the directorate for\n",
      "   employment and social affairs for the european commission before\n",
      "\n",
      "* Kathleen Taperell                                  0.96907\n",
      "  kathleen joan taperell am also known as kathleen tucker born 15 february 1939 is an austra\n",
      "  lian public servant and feministshe was born in sydney and\n",
      "\n",
      "* Berit Andnor                                       0.96932\n",
      "  berit andnor born 20 november 1954 is a swedish social democratic politician she was minis\n",
      "  ter for social affairs of sweden 20042006berit andnor grew up in\n",
      "==========================================================\n",
      "Cluster 8    \n",
      "german:0.022\n",
      "she:0.020\n",
      "season:0.019\n",
      "her:0.014\n",
      "league:0.014\n",
      "\n",
      "\n",
      "* Patty Moise                                        0.97499\n",
      "  patricia moisesawyer is a former nascar driver she drove in five winston cup races from 19\n",
      "  87 to 1989 and 133 busch series races from 1986\n",
      "\n",
      "* Justin Knoedler                                    0.97563\n",
      "  justin joseph knoedler born july 17 1980 in springfield illinois is a former major league \n",
      "  baseball catcherknoedler was originally drafted by the st louis cardinals\n",
      "\n",
      "* Fernando Gonz%C3%A1lez (baseball)                  0.97747\n",
      "  jos fernando gonzlez quinones born june 19 1950 in utuado puerto rico is a retired major l\n",
      "  eague baseball infielder after which he spent one season\n",
      "\n",
      "* Gareth Howell                                      0.97759\n",
      "  gareth howell born 6 january 1981 is a british racing driver and multiple british touring \n",
      "  car championship race winner from 2000 to 2008he drove his\n",
      "\n",
      "* Kati Wilhelm                                       0.97776\n",
      "  kati wilhelm born 2 august 1976 in schmalkalden thuringia is a german former professional \n",
      "  biathlete like most german biathletes she is also a member of\n",
      "\n",
      "* Mark Taylor (racing driver)                        0.97822\n",
      "  mark taylor born december 16 1977 in wimbledon england is a racing driver who drove in the\n",
      "   indy racing league indycar series he drove in\n",
      "\n",
      "* Barbara Rittner                                    0.97853\n",
      "  barbara rittner born 25 april 1973 is a former professional tennis player who comes from g\n",
      "  ermany her career high ranking was no 24 in the\n",
      "\n",
      "* Gareth John                                        0.97867\n",
      "  gareth john born 17 january 1972 is a former australian rules footballer who played with t\n",
      "  he sydney swans and north melbourne in the australian football\n",
      "==========================================================\n",
      "Cluster 9    \n",
      "research:0.026\n",
      "india:0.020\n",
      "science:0.019\n",
      "university:0.019\n",
      "indian:0.019\n",
      "\n",
      "\n",
      "* A. P. J. Abdul Kalam                               0.96959\n",
      "  avul pakir jainulabdeen abdul kalam bdl klm born 15 october 1931 is an indian scientist an\n",
      "  d administrator who served as the 11th president of india\n",
      "\n",
      "* Daniel Berg (educator)                             0.97030\n",
      "  daniel berg is a scientist educator and was the fifteenth president of rensselaer polytech\n",
      "  nic institutehe was born on june 1 1929 in new york city\n",
      "\n",
      "* K. R. Sreenivasan                                  0.97095\n",
      "  katepalli r sreenivasan is an engineer and leader in international scholarship he was appo\n",
      "  inted the president of polytechnic institute of new york university on april10th\n",
      "\n",
      "* Guorui Jiang                                       0.97126\n",
      "  guorui jiang is a professor of information management and information systems as well as a\n",
      "  n associate dean of the economics and management school at beijing\n"
     ]
    },
    {
     "name": "stdout",
     "output_type": "stream",
     "text": [
      "\n",
      "* Sajeev John                                        0.97141\n",
      "  sajeev john born 1957 is a professor of physics at the university of toronto and canada re\n",
      "  search chair holderhe received his bachelors degree in physics\n",
      "\n",
      "* T. N. Srinivasan                                   0.97222\n",
      "  t n srinivasan in full thirukodikaval nilakanta srinivasan born march 27 1933 is an indian\n",
      "   economist who since 1980 has taught and worked in the\n",
      "\n",
      "* Baldev Raj                                         0.97225\n",
      "  dr baldev raj has assumed responsibilities as the director of the national institute of ad\n",
      "  vanced studies bangalore one of indias leading multidisciplinary institutions a distinguis\n",
      "\n",
      "* R. C. T. Lee                                       0.97236\n",
      "  r c t lee lee chiatung chinese born 1939 in shanghai china also known as richard c t lee r\n",
      "  eceived his bsc degree from the\n",
      "==========================================================\n"
     ]
    }
   ],
   "source": [
    "k = 10\n",
    "visualize_document_clusters(wiki, tf_idf, centroids[k], cluster_assignment[k], k, map_index_to_word)"
   ]
  },
  {
   "cell_type": "markdown",
   "metadata": {},
   "source": [
    "Clusters 0, 1, and 5 appear to be still mixed, but others are quite consistent in content.\n",
    "* Cluster 0: artists, book, him/his - 5483\n",
    "* Cluster 1: film, theatre, films, tv, actor - 7861\n",
    "* Cluster 2: baseball players - 12438\n",
    "* Cluster 3: elections, ministers - 3399\n",
    "* Cluster 4: music, orchestra, symphony - 5913\n",
    "* Cluster 5: female figures from various fields - 2174\n",
    "* Cluster 6: composers, songwriters, singers, music producers - 8972\n",
    "* Cluster 7: law, courts, justice - 4796\n",
    "* Cluster 8: football - 2852\n",
    "* Cluster 9: academia - 5183\n",
    "\n",
    "Clusters are now more pure, but some are qualitatively \"bigger\" than others. For instance, the category of scholars is more general than the category of baseball players. Increasing the number of clusters may split larger clusters. Another way to look at the size of the clusters is to count the number of articles in each cluster."
   ]
  },
  {
   "cell_type": "code",
   "execution_count": 121,
   "metadata": {},
   "outputs": [
    {
     "data": {
      "text/plain": [
       "array([1, 3, 1, 1, 0, 0, 0, 1])"
      ]
     },
     "execution_count": 121,
     "metadata": {},
     "output_type": "execute_result"
    }
   ],
   "source": [
    "np.bincount(np.array([0, 1, 1, 3, 2, 1, 7]))"
   ]
  },
  {
   "cell_type": "code",
   "execution_count": 93,
   "metadata": {},
   "outputs": [
    {
     "data": {
      "text/plain": [
       "array([ 5483,  7861, 12438,  3399,  5913,  2174,  8972,  4796,  2852,\n",
       "        5183])"
      ]
     },
     "execution_count": 93,
     "metadata": {},
     "output_type": "execute_result"
    }
   ],
   "source": [
    "np.bincount(cluster_assignment[10])"
   ]
  },
  {
   "cell_type": "markdown",
   "metadata": {},
   "source": [
    "**Quiz Question**. Which of the 10 clusters above contains the greatest number of articles?\n",
    "\n",
    "1. * Cluster 0: artists, book, him/his\n",
    "2. * Cluster 4: music, orchestra, symphony \n",
    "3. * Cluster 5: female figures from various fields\n",
    "4. * Cluster 7: law, courts, justice \n",
    "5. * Cluster 9: academia"
   ]
  },
  {
   "cell_type": "markdown",
   "metadata": {},
   "source": [
    "**Quiz Question**. Which of the 10 clusters contains the least number of articles?\n",
    "\n",
    "1. * Cluster 1: film, theatre, films, tv, actor \n",
    "2. * Cluster 3: elections, ministers\n",
    "3. * Cluster 6: composers, songwriters, singers, music producers\n",
    "4. * Cluster 7: law, courts, justice \n",
    "5. * Cluster 8: football "
   ]
  },
  {
   "cell_type": "markdown",
   "metadata": {},
   "source": [
    "There appears to be at least some connection between the topical consistency of a cluster and the number of its member data points."
   ]
  },
  {
   "cell_type": "markdown",
   "metadata": {},
   "source": [
    "Let us visualize the case for K=25. For the sake of brevity, we do not print the content of documents. It turns out that the top words with highest TF-IDF weights in each cluster are representative of the cluster."
   ]
  },
  {
   "cell_type": "code",
   "execution_count": 97,
   "metadata": {
    "scrolled": false
   },
   "outputs": [
    {
     "name": "stdout",
     "output_type": "stream",
     "text": [
      "==========================================================\n",
      "Cluster 0    \n",
      "brazilian:0.025\n",
      "research:0.022\n",
      "psychology:0.022\n",
      "de:0.020\n",
      "brazil:0.019\n",
      "\n",
      "==========================================================\n",
      "Cluster 1    \n",
      "film:0.080\n",
      "films:0.030\n",
      "television:0.026\n",
      "directed:0.024\n",
      "festival:0.022\n",
      "\n",
      "==========================================================\n",
      "Cluster 2    \n",
      "president:0.027\n",
      "university:0.023\n",
      "state:0.023\n",
      "served:0.022\n",
      "law:0.020\n",
      "\n",
      "==========================================================\n",
      "Cluster 3    \n",
      "mayor:0.042\n",
      "election:0.034\n",
      "republican:0.021\n",
      "votes:0.019\n",
      "elected:0.019\n",
      "\n",
      "==========================================================\n",
      "Cluster 4    \n",
      "music:0.050\n",
      "jazz:0.029\n",
      "orchestra:0.023\n",
      "symphony:0.016\n",
      "musical:0.014\n",
      "\n",
      "==========================================================\n",
      "Cluster 5    \n",
      "album:0.045\n",
      "country:0.044\n",
      "song:0.043\n",
      "chart:0.040\n",
      "billboard:0.040\n",
      "\n",
      "==========================================================\n",
      "Cluster 6    \n",
      "music:0.053\n",
      "album:0.027\n",
      "song:0.023\n",
      "folk:0.016\n",
      "guitar:0.016\n",
      "\n",
      "==========================================================\n",
      "Cluster 7    \n",
      "minister:0.029\n",
      "policy:0.026\n",
      "economics:0.019\n",
      "she:0.019\n",
      "prime:0.018\n",
      "\n",
      "==========================================================\n",
      "Cluster 8    \n",
      "german:0.049\n",
      "daniel:0.028\n",
      "der:0.018\n",
      "germany:0.015\n",
      "he:0.013\n",
      "\n",
      "==========================================================\n",
      "Cluster 9    \n",
      "research:0.031\n",
      "india:0.029\n",
      "indian:0.027\n",
      "engineering:0.022\n",
      "science:0.021\n",
      "\n",
      "==========================================================\n",
      "Cluster 10    \n",
      "czech:0.064\n",
      "prince:0.036\n",
      "prague:0.034\n",
      "minister:0.030\n",
      "austrian:0.025\n",
      "\n",
      "==========================================================\n",
      "Cluster 11    \n",
      "league:0.043\n",
      "season:0.034\n",
      "played:0.027\n",
      "team:0.021\n",
      "games:0.020\n",
      "\n",
      "==========================================================\n",
      "Cluster 12    \n",
      "fiction:0.024\n",
      "art:0.021\n",
      "works:0.021\n",
      "prize:0.020\n",
      "published:0.019\n",
      "\n",
      "==========================================================\n",
      "Cluster 13    \n",
      "war:0.025\n",
      "marco:0.018\n",
      "nazi:0.015\n",
      "had:0.013\n",
      "that:0.013\n",
      "\n",
      "==========================================================\n",
      "Cluster 14    \n",
      "party:0.033\n",
      "minister:0.025\n",
      "election:0.025\n",
      "parliament:0.022\n",
      "member:0.020\n",
      "\n",
      "==========================================================\n",
      "Cluster 15    \n",
      "radio:0.057\n",
      "show:0.043\n",
      "host:0.022\n",
      "presenter:0.019\n",
      "television:0.019\n",
      "\n",
      "==========================================================\n",
      "Cluster 16    \n",
      "church:0.042\n",
      "bishop:0.034\n",
      "theology:0.026\n",
      "catholic:0.024\n",
      "oxford:0.024\n",
      "\n",
      "==========================================================\n",
      "Cluster 17    \n",
      "she:0.066\n",
      "de:0.042\n",
      "her:0.034\n",
      "la:0.022\n",
      "opera:0.016\n",
      "\n",
      "==========================================================\n",
      "Cluster 18    \n",
      "jazz:0.061\n",
      "music:0.054\n",
      "orchestra:0.034\n",
      "ensemble:0.021\n",
      "bass:0.020\n",
      "\n",
      "==========================================================\n",
      "Cluster 19    \n",
      "she:0.075\n",
      "her:0.052\n",
      "book:0.013\n",
      "i:0.012\n",
      "art:0.011\n",
      "\n",
      "==========================================================\n",
      "Cluster 20    \n",
      "racing:0.091\n",
      "race:0.058\n",
      "formula:0.049\n",
      "car:0.041\n",
      "championship:0.036\n",
      "\n",
      "==========================================================\n",
      "Cluster 21    \n",
      "championships:0.037\n",
      "tour:0.034\n",
      "world:0.028\n",
      "won:0.026\n",
      "olympics:0.025\n",
      "\n",
      "==========================================================\n",
      "Cluster 22    \n",
      "league:0.053\n",
      "season:0.036\n",
      "football:0.029\n",
      "signed:0.028\n",
      "town:0.027\n",
      "\n",
      "==========================================================\n",
      "Cluster 23    \n",
      "album:0.060\n",
      "band:0.050\n",
      "released:0.035\n",
      "her:0.029\n",
      "she:0.028\n",
      "\n",
      "==========================================================\n",
      "Cluster 24    \n",
      "football:0.062\n",
      "coach:0.040\n",
      "team:0.031\n",
      "season:0.028\n",
      "league:0.027\n",
      "\n",
      "==========================================================\n"
     ]
    }
   ],
   "source": [
    "visualize_document_clusters(wiki, tf_idf, centroids[25], cluster_assignment[25], 25,\n",
    "                            map_index_to_word, display_content=False) # turn off text for brevity"
   ]
  },
  {
   "cell_type": "markdown",
   "metadata": {},
   "source": [
    "Looking at the representative examples and top words, we classify each cluster as follows.\n",
    "\n",
    "* Cluster 0: Literature\n",
    "* Cluster 1: Film and theater\n",
    "* Cluster 2: Law\n",
    "* Cluster 3: Politics\n",
    "* Cluster 4: Classical music\n",
    "* Cluster 5: Popular music\n",
    "* Cluster 6: Jazz music\n",
    "* Cluster 7: Business and economics\n",
    "* Cluster 8: (mixed; no clear theme)\n",
    "* Cluster 9: Academia and research\n",
    "* Cluster 10: International affairs\n",
    "* Cluster 11: Baseball\n",
    "* Cluster 12: Art\n",
    "* Cluster 13: Military\n",
    "* Cluster 14: Politics\n",
    "* Cluster 15: Radio and TV\n",
    "* Cluster 16: Catholic church\n",
    "* Cluster 17: Opera and ballet\n",
    "* Cluster 18: Orchestra music\n",
    "* Cluster 19: Females from various fields\n",
    "* Cluster 20: Car racing\n",
    "* Cluster 21: General sports\n",
    "* Cluster 22: Rugby\n",
    "* Cluster 23: Rock music\n",
    "* Cluster 24: Team sports\n",
    "\n",
    "Indeed, increasing K achieved the desired effect of breaking up large clusters.  Depending on the application, this may or may not be preferable to the K=10 analysis.\n",
    "\n",
    "Let's take it to the extreme and set K=100. We have a suspicion that this value is too large. Let us look at the top words from each cluster:"
   ]
  },
  {
   "cell_type": "code",
   "execution_count": 98,
   "metadata": {},
   "outputs": [
    {
     "name": "stdout",
     "output_type": "stream",
     "text": [
      "==========================================================\n",
      "Cluster 0    \n",
      "brazilian:0.062\n",
      "psychology:0.044\n",
      "brazil:0.042\n",
      "de:0.039\n",
      "paulo:0.029\n",
      "\n",
      "==========================================================\n",
      "Cluster 1    \n",
      "film:0.112\n",
      "directed:0.039\n",
      "films:0.036\n",
      "short:0.030\n",
      "festival:0.027\n",
      "\n",
      "==========================================================\n",
      "Cluster 2    \n",
      "ohio:0.048\n",
      "president:0.032\n",
      "university:0.027\n",
      "state:0.026\n",
      "law:0.026\n",
      "\n",
      "==========================================================\n",
      "Cluster 3    \n",
      "mayor:0.060\n",
      "election:0.032\n",
      "percent:0.030\n",
      "battle:0.023\n",
      "votes:0.023\n",
      "\n",
      "==========================================================\n",
      "Cluster 4    \n",
      "music:0.051\n",
      "saxophone:0.030\n",
      "albums:0.027\n",
      "japan:0.025\n",
      "orchestra:0.020\n",
      "\n",
      "==========================================================\n",
      "Cluster 5    \n",
      "album:0.065\n",
      "chart:0.059\n",
      "billboard:0.056\n",
      "country:0.054\n",
      "song:0.048\n",
      "\n",
      "==========================================================\n",
      "Cluster 6    \n",
      "music:0.047\n",
      "album:0.044\n",
      "song:0.030\n",
      "wood:0.027\n",
      "songs:0.023\n",
      "\n",
      "==========================================================\n",
      "Cluster 7    \n",
      "family:0.024\n",
      "social:0.022\n",
      "uk:0.020\n",
      "chief:0.018\n",
      "dr:0.017\n",
      "\n",
      "==========================================================\n",
      "Cluster 8    \n",
      "german:0.075\n",
      "daniel:0.041\n",
      "der:0.034\n",
      "germany:0.019\n",
      "he:0.013\n",
      "\n",
      "==========================================================\n",
      "Cluster 9    \n",
      "india:0.068\n",
      "indian:0.062\n",
      "research:0.019\n",
      "institute:0.018\n",
      "engineering:0.018\n",
      "\n",
      "==========================================================\n",
      "Cluster 10    \n",
      "czech:0.126\n",
      "prague:0.063\n",
      "prince:0.056\n",
      "austrian:0.034\n",
      "republic:0.027\n",
      "\n",
      "==========================================================\n",
      "Cluster 11    \n",
      "club:0.046\n",
      "league:0.041\n",
      "season:0.040\n",
      "goals:0.038\n",
      "scored:0.029\n",
      "\n",
      "==========================================================\n",
      "Cluster 12    \n",
      "fiction:0.053\n",
      "published:0.030\n",
      "literary:0.029\n",
      "novel:0.029\n",
      "literature:0.029\n",
      "\n",
      "==========================================================\n",
      "Cluster 13    \n",
      "marco:0.029\n",
      "nazi:0.028\n",
      "war:0.027\n",
      "catalan:0.020\n",
      "detention:0.016\n",
      "\n",
      "==========================================================\n",
      "Cluster 14    \n",
      "labor:0.036\n",
      "party:0.034\n",
      "australian:0.033\n",
      "parliament:0.032\n",
      "election:0.029\n",
      "\n",
      "==========================================================\n",
      "Cluster 15    \n",
      "radio:0.047\n",
      "matt:0.045\n",
      "presenter:0.035\n",
      "show:0.031\n",
      "fm:0.030\n",
      "\n",
      "==========================================================\n",
      "Cluster 16    \n",
      "bishop:0.060\n",
      "church:0.053\n",
      "theology:0.047\n",
      "catholic:0.041\n",
      "archbishop:0.034\n",
      "\n",
      "==========================================================\n",
      "Cluster 17    \n",
      "de:0.088\n",
      "la:0.040\n",
      "el:0.027\n",
      "french:0.023\n",
      "y:0.023\n",
      "\n",
      "==========================================================\n",
      "Cluster 18    \n",
      "clarinet:0.060\n",
      "music:0.053\n",
      "flute:0.048\n",
      "bass:0.038\n",
      "orchestra:0.033\n",
      "\n",
      "==========================================================\n",
      "Cluster 19    \n",
      "i:0.032\n",
      "novel:0.030\n",
      "fiction:0.027\n",
      "book:0.026\n",
      "she:0.024\n",
      "\n",
      "==========================================================\n",
      "Cluster 20    \n",
      "racing:0.102\n",
      "nascar:0.083\n",
      "car:0.060\n",
      "series:0.057\n",
      "race:0.054\n",
      "\n",
      "==========================================================\n",
      "Cluster 21    \n",
      "tennis:0.078\n",
      "doubles:0.069\n",
      "open:0.068\n",
      "tour:0.065\n",
      "pga:0.046\n",
      "\n",
      "==========================================================\n",
      "Cluster 22    \n",
      "town:0.062\n",
      "league:0.060\n",
      "club:0.050\n",
      "season:0.046\n",
      "football:0.045\n",
      "\n",
      "==========================================================\n",
      "Cluster 23    \n",
      "album:0.093\n",
      "released:0.055\n",
      "records:0.030\n",
      "music:0.028\n",
      "band:0.028\n",
      "\n",
      "==========================================================\n",
      "Cluster 24    \n",
      "fc:0.066\n",
      "football:0.044\n",
      "club:0.032\n",
      "cup:0.028\n",
      "league:0.027\n",
      "\n",
      "==========================================================\n",
      "Cluster 25    \n",
      "league:0.066\n",
      "baseball:0.057\n",
      "game:0.053\n",
      "games:0.046\n",
      "season:0.040\n",
      "\n",
      "==========================================================\n",
      "Cluster 26    \n",
      "air:0.151\n",
      "force:0.094\n",
      "commander:0.044\n",
      "command:0.043\n",
      "pilot:0.033\n",
      "\n",
      "==========================================================\n",
      "Cluster 27    \n",
      "physics:0.095\n",
      "theory:0.069\n",
      "quantum:0.036\n",
      "professor:0.034\n",
      "research:0.034\n",
      "\n",
      "==========================================================\n",
      "Cluster 28    \n",
      "cruz:0.075\n",
      "indigenous:0.054\n",
      "santa:0.036\n",
      "sierra:0.035\n",
      "territory:0.029\n",
      "\n",
      "==========================================================\n",
      "Cluster 29    \n",
      "russian:0.069\n",
      "martial:0.067\n",
      "soviet:0.067\n",
      "arts:0.022\n",
      "union:0.020\n",
      "\n",
      "==========================================================\n",
      "Cluster 30    \n",
      "harris:0.092\n",
      "episodes:0.021\n",
      "episode:0.020\n",
      "series:0.019\n",
      "television:0.018\n",
      "\n",
      "==========================================================\n",
      "Cluster 31    \n",
      "theatre:0.149\n",
      "play:0.031\n",
      "directed:0.027\n",
      "plays:0.024\n",
      "playwright:0.023\n",
      "\n",
      "==========================================================\n",
      "Cluster 32    \n",
      "linguistics:0.084\n",
      "language:0.064\n",
      "slovenian:0.055\n",
      "slovenia:0.039\n",
      "ljubljana:0.032\n",
      "\n",
      "==========================================================\n",
      "Cluster 33    \n",
      "policy:0.052\n",
      "public:0.032\n",
      "health:0.025\n",
      "political:0.022\n",
      "economics:0.022\n",
      "\n",
      "==========================================================\n",
      "Cluster 34    \n",
      "radio:0.071\n",
      "she:0.051\n",
      "show:0.048\n",
      "host:0.036\n",
      "her:0.027\n",
      "\n",
      "==========================================================\n",
      "Cluster 35    \n",
      "rights:0.127\n",
      "human:0.100\n",
      "law:0.048\n",
      "cullen:0.042\n",
      "property:0.025\n",
      "\n",
      "==========================================================\n",
      "Cluster 36    \n",
      "office:0.024\n",
      "general:0.020\n",
      "appointed:0.017\n",
      "governor:0.017\n",
      "ireland:0.016\n",
      "\n",
      "==========================================================\n",
      "Cluster 37    \n",
      "statistics:0.053\n",
      "comics:0.044\n",
      "mathematics:0.035\n",
      "statistical:0.033\n",
      "analysis:0.031\n",
      "\n",
      "==========================================================\n",
      "Cluster 38    \n",
      "beck:0.063\n",
      "mexico:0.061\n",
      "anthropology:0.023\n",
      "stem:0.019\n",
      "spanish:0.017\n",
      "\n",
      "==========================================================\n",
      "Cluster 39    \n",
      "film:0.098\n",
      "documentary:0.042\n",
      "films:0.039\n",
      "festival:0.032\n",
      "australian:0.022\n",
      "\n",
      "==========================================================\n",
      "Cluster 40    \n",
      "singapore:0.084\n",
      "marketing:0.051\n",
      "chinese:0.049\n",
      "hong:0.022\n",
      "company:0.019\n",
      "\n",
      "==========================================================\n",
      "Cluster 41    \n",
      "evans:0.061\n",
      "film:0.030\n",
      "actor:0.030\n",
      "role:0.028\n",
      "broadway:0.021\n",
      "\n",
      "==========================================================\n",
      "Cluster 42    \n",
      "league:0.059\n",
      "football:0.058\n",
      "cup:0.041\n",
      "played:0.039\n",
      "season:0.037\n",
      "\n",
      "==========================================================\n",
      "Cluster 43    \n",
      "band:0.094\n",
      "guitar:0.043\n",
      "album:0.039\n",
      "guitarist:0.032\n",
      "bands:0.027\n",
      "\n",
      "==========================================================\n",
      "Cluster 44    \n",
      "telenovela:0.064\n",
      "actor:0.064\n",
      "miguel:0.035\n",
      "el:0.035\n",
      "de:0.028\n",
      "\n",
      "==========================================================\n",
      "Cluster 45    \n",
      "giants:0.051\n",
      "hawaii:0.049\n",
      "baseball:0.046\n",
      "base:0.039\n",
      "league:0.034\n",
      "\n",
      "==========================================================\n",
      "Cluster 46    \n",
      "racing:0.098\n",
      "jockey:0.060\n",
      "stakes:0.048\n",
      "horse:0.043\n",
      "race:0.041\n",
      "\n",
      "==========================================================\n",
      "Cluster 47    \n",
      "ancient:0.097\n",
      "mbira:0.094\n",
      "zimbabwe:0.058\n",
      "spirits:0.054\n",
      "harare:0.029\n",
      "\n",
      "==========================================================\n",
      "Cluster 48    \n",
      "art:0.082\n",
      "artist:0.023\n",
      "work:0.020\n",
      "posters:0.019\n",
      "artists:0.014\n",
      "\n",
      "==========================================================\n",
      "Cluster 49    \n",
      "she:0.099\n",
      "her:0.079\n",
      "film:0.016\n",
      "actress:0.014\n",
      "show:0.013\n",
      "\n",
      "==========================================================\n",
      "Cluster 50    \n",
      "game:0.059\n",
      "comic:0.049\n",
      "video:0.040\n",
      "games:0.039\n",
      "comics:0.030\n",
      "\n",
      "==========================================================\n",
      "Cluster 51    \n",
      "drama:0.047\n",
      "bbc:0.046\n",
      "comedy:0.039\n",
      "series:0.038\n",
      "television:0.034\n",
      "\n",
      "==========================================================\n",
      "Cluster 52    \n",
      "formula:0.116\n",
      "racing:0.092\n",
      "car:0.067\n",
      "driver:0.065\n",
      "championship:0.059\n",
      "\n",
      "==========================================================\n",
      "Cluster 53    \n",
      "church:0.082\n",
      "lds:0.039\n",
      "christian:0.032\n",
      "christ:0.025\n",
      "jesus:0.023\n",
      "\n",
      "==========================================================\n",
      "Cluster 54    \n",
      "museum:0.082\n",
      "art:0.057\n",
      "arts:0.029\n",
      "gallery:0.027\n",
      "boston:0.027\n",
      "\n",
      "==========================================================\n",
      "Cluster 55    \n",
      "financial:0.046\n",
      "book:0.031\n",
      "law:0.024\n",
      "economic:0.024\n",
      "books:0.020\n",
      "\n",
      "==========================================================\n",
      "Cluster 56    \n",
      "ethiopian:0.052\n",
      "ethiopia:0.048\n",
      "agricultural:0.042\n",
      "research:0.039\n",
      "saudi:0.025\n",
      "\n",
      "==========================================================\n",
      "Cluster 57    \n",
      "oregon:0.084\n",
      "oklahoma:0.058\n",
      "yards:0.038\n",
      "referee:0.038\n",
      "nfl:0.035\n",
      "\n",
      "==========================================================\n",
      "Cluster 58    \n",
      "music:0.047\n",
      "folk:0.031\n",
      "rock:0.027\n",
      "album:0.023\n",
      "band:0.021\n",
      "\n",
      "==========================================================\n",
      "Cluster 59    \n",
      "afghanistan:0.061\n",
      "iraq:0.058\n",
      "afghan:0.028\n",
      "iraqi:0.028\n",
      "kabul:0.025\n",
      "\n",
      "==========================================================\n",
      "Cluster 60    \n",
      "technology:0.036\n",
      "research:0.029\n",
      "design:0.028\n",
      "computer:0.022\n",
      "engineering:0.022\n",
      "\n",
      "==========================================================\n",
      "Cluster 61    \n",
      "league:0.093\n",
      "baseball:0.067\n",
      "manager:0.060\n",
      "dodgers:0.052\n",
      "season:0.040\n",
      "\n",
      "==========================================================\n",
      "Cluster 62    \n"
     ]
    },
    {
     "name": "stdout",
     "output_type": "stream",
     "text": [
      "swimming:0.068\n",
      "marathon:0.059\n",
      "freestyle:0.053\n",
      "swim:0.040\n",
      "swimmer:0.039\n",
      "\n",
      "==========================================================\n",
      "Cluster 63    \n",
      "song:0.109\n",
      "eurovision:0.074\n",
      "contest:0.051\n",
      "she:0.026\n",
      "singer:0.025\n",
      "\n",
      "==========================================================\n",
      "Cluster 64    \n",
      "bbc:0.067\n",
      "kapoor:0.040\n",
      "she:0.038\n",
      "court:0.033\n",
      "justice:0.025\n",
      "\n",
      "==========================================================\n",
      "Cluster 65    \n",
      "military:0.079\n",
      "lgbt:0.042\n",
      "gay:0.030\n",
      "army:0.026\n",
      "us:0.021\n",
      "\n",
      "==========================================================\n",
      "Cluster 66    \n",
      "jazz:0.123\n",
      "music:0.042\n",
      "orchestra:0.034\n",
      "melbourne:0.028\n",
      "band:0.024\n",
      "\n",
      "==========================================================\n",
      "Cluster 67    \n",
      "gay:0.050\n",
      "york:0.041\n",
      "new:0.028\n",
      "aids:0.025\n",
      "cancer:0.018\n",
      "\n",
      "==========================================================\n",
      "Cluster 68    \n",
      "turkish:0.045\n",
      "network:0.032\n",
      "media:0.030\n",
      "turkey:0.029\n",
      "social:0.022\n",
      "\n",
      "==========================================================\n",
      "Cluster 69    \n",
      "thai:0.090\n",
      "party:0.064\n",
      "thailand:0.032\n",
      "minister:0.029\n",
      "political:0.025\n",
      "\n",
      "==========================================================\n",
      "Cluster 70    \n",
      "miss:0.181\n",
      "pageant:0.105\n",
      "usa:0.074\n",
      "she:0.052\n",
      "teen:0.041\n",
      "\n",
      "==========================================================\n",
      "Cluster 71    \n",
      "illinois:0.070\n",
      "district:0.045\n",
      "she:0.037\n",
      "republican:0.034\n",
      "chicago:0.023\n",
      "\n",
      "==========================================================\n",
      "Cluster 72    \n",
      "football:0.052\n",
      "norwegian:0.046\n",
      "team:0.041\n",
      "coach:0.027\n",
      "womens:0.023\n",
      "\n",
      "==========================================================\n",
      "Cluster 73    \n",
      "poetry:0.059\n",
      "novel:0.053\n",
      "zimbabwe:0.046\n",
      "novels:0.032\n",
      "zimbabwean:0.031\n",
      "\n",
      "==========================================================\n",
      "Cluster 74    \n",
      "baseball:0.140\n",
      "league:0.061\n",
      "golf:0.042\n",
      "pitcher:0.029\n",
      "played:0.029\n",
      "\n",
      "==========================================================\n",
      "Cluster 75    \n",
      "italian:0.041\n",
      "photography:0.038\n",
      "online:0.024\n",
      "di:0.022\n",
      "rome:0.020\n",
      "\n",
      "==========================================================\n",
      "Cluster 76    \n",
      "rugby:0.129\n",
      "league:0.041\n",
      "coach:0.040\n",
      "played:0.037\n",
      "cup:0.036\n",
      "\n",
      "==========================================================\n",
      "Cluster 77    \n",
      "sexual:0.030\n",
      "autism:0.020\n",
      "she:0.020\n",
      "clients:0.018\n",
      "her:0.017\n",
      "\n",
      "==========================================================\n",
      "Cluster 78    \n",
      "band:0.060\n",
      "drummer:0.035\n",
      "trucks:0.033\n",
      "allman:0.033\n",
      "brothers:0.025\n",
      "\n",
      "==========================================================\n",
      "Cluster 79    \n",
      "championships:0.076\n",
      "marathon:0.047\n",
      "race:0.043\n",
      "athletics:0.042\n",
      "world:0.042\n",
      "\n",
      "==========================================================\n",
      "Cluster 80    \n",
      "soccer:0.089\n",
      "season:0.052\n",
      "goals:0.048\n",
      "played:0.041\n",
      "league:0.038\n",
      "\n",
      "==========================================================\n",
      "Cluster 81    \n",
      "rights:0.033\n",
      "human:0.029\n",
      "news:0.019\n",
      "law:0.019\n",
      "president:0.017\n",
      "\n",
      "==========================================================\n",
      "Cluster 82    \n",
      "computer:0.066\n",
      "research:0.050\n",
      "science:0.040\n",
      "computing:0.035\n",
      "software:0.031\n",
      "\n",
      "==========================================================\n",
      "Cluster 83    \n",
      "minister:0.067\n",
      "party:0.043\n",
      "election:0.042\n",
      "prime:0.027\n",
      "government:0.024\n",
      "\n",
      "==========================================================\n",
      "Cluster 84    \n",
      "music:0.108\n",
      "orchestra:0.046\n",
      "composition:0.043\n",
      "piano:0.035\n",
      "composer:0.033\n",
      "\n",
      "==========================================================\n",
      "Cluster 85    \n",
      "sri:0.204\n",
      "lanka:0.115\n",
      "lankan:0.061\n",
      "colombo:0.026\n",
      "ceylon:0.023\n",
      "\n",
      "==========================================================\n",
      "Cluster 86    \n",
      "basketball:0.142\n",
      "coach:0.069\n",
      "nba:0.058\n",
      "ncaa:0.035\n",
      "team:0.034\n",
      "\n",
      "==========================================================\n",
      "Cluster 87    \n",
      "cricket:0.144\n",
      "firstclass:0.073\n",
      "cricketer:0.048\n",
      "batsman:0.043\n",
      "wickets:0.039\n",
      "\n",
      "==========================================================\n",
      "Cluster 88    \n",
      "league:0.091\n",
      "baseball:0.076\n",
      "major:0.044\n",
      "season:0.043\n",
      "games:0.042\n",
      "\n",
      "==========================================================\n",
      "Cluster 89    \n",
      "she:0.065\n",
      "senate:0.030\n",
      "party:0.024\n",
      "committee:0.024\n",
      "minister:0.023\n",
      "\n",
      "==========================================================\n",
      "Cluster 90    \n",
      "university:0.047\n",
      "biology:0.045\n",
      "research:0.042\n",
      "science:0.036\n",
      "professor:0.033\n",
      "\n",
      "==========================================================\n",
      "Cluster 91    \n",
      "vancouver:0.085\n",
      "bc:0.033\n",
      "columbia:0.032\n",
      "improv:0.031\n",
      "british:0.028\n",
      "\n",
      "==========================================================\n",
      "Cluster 92    \n",
      "metres:0.143\n",
      "championships:0.074\n",
      "jump:0.053\n",
      "she:0.044\n",
      "indoor:0.039\n",
      "\n",
      "==========================================================\n",
      "Cluster 93    \n",
      "education:0.046\n",
      "university:0.029\n",
      "president:0.024\n",
      "college:0.023\n",
      "community:0.022\n",
      "\n",
      "==========================================================\n",
      "Cluster 94    \n",
      "football:0.099\n",
      "coach:0.082\n",
      "nfl:0.072\n",
      "defensive:0.044\n",
      "bowl:0.037\n",
      "\n",
      "==========================================================\n",
      "Cluster 95    \n",
      "rabbi:0.213\n",
      "jewish:0.139\n",
      "yeshiva:0.053\n",
      "israel:0.044\n",
      "synagogue:0.029\n",
      "\n",
      "==========================================================\n",
      "Cluster 96    \n",
      "york:0.027\n",
      "award:0.025\n",
      "new:0.021\n",
      "opera:0.019\n",
      "maps:0.017\n",
      "\n",
      "==========================================================\n",
      "Cluster 97    \n",
      "chess:0.161\n",
      "championship:0.033\n",
      "grandmaster:0.032\n",
      "she:0.031\n",
      "bosnia:0.029\n",
      "\n",
      "==========================================================\n",
      "Cluster 98    \n",
      "ballet:0.174\n",
      "dance:0.056\n",
      "opera:0.055\n",
      "dancer:0.037\n",
      "de:0.032\n",
      "\n",
      "==========================================================\n",
      "Cluster 99    \n",
      "art:0.113\n",
      "museum:0.065\n",
      "gallery:0.052\n",
      "arts:0.027\n",
      "artist:0.026\n",
      "\n",
      "==========================================================\n"
     ]
    }
   ],
   "source": [
    "k=100\n",
    "visualize_document_clusters(wiki, tf_idf, centroids[k], cluster_assignment[k], k,\n",
    "                            map_index_to_word, display_content=False)\n",
    "# turn off text for brevity -- turn it on if you are curious ;)"
   ]
  },
  {
   "cell_type": "markdown",
   "metadata": {},
   "source": [
    "The class of team sports has been broken into several clusters, soccer (association football) (11, 22, 24), rugby (76), hockey (80), basketball (86), cricket (87), and American football (85).\n",
    "\n",
    "The class of baseball has been broken into San Francisco Giants (45), baseball (61, 74), and baseball stats (88).\n",
    "\n",
    "The class of car racing has been broken into Nascar (20) and Formula 1 (52).\n",
    "\n",
    "**A high value of K encourages pure clusters, but we cannot keep increasing K. For large enough K, related documents end up going to different clusters.**\n",
    "\n",
    "That said, the result for K=100 is not entirely bad. After all, it gives us separate clusters for such categories as Brazil, wrestling, computer science and the Mormon Church. If we set K somewhere between 25 and 100, we should be able to avoid breaking up clusters while discovering new ones.\n",
    "\n",
    "Also, we should ask ourselves how much **granularity** we want in our clustering. If we wanted a rough sketch of Wikipedia, we don't want too detailed clusters. On the other hand, having many clusters can be valuable when we are zooming into a certain part of Wikipedia.\n",
    "\n",
    "**There is no golden rule for choosing K. It all depends on the particular application and domain we are in.**\n",
    "\n",
    "Another heuristic people use that does not rely on so much visualization, which can be hard in many applications (including here!) is as follows.  Track heterogeneity versus K and look for the \"elbow\" of the curve where the heterogeneity decrease rapidly before this value of K, but then only gradually for larger values of K.  This naturally trades off between trying to minimize heterogeneity, but reduce model complexity.  In the heterogeneity versus K plot made above, we did not yet really see a flattening out of the heterogeneity, which might indicate that indeed K=100 is \"reasonable\" and we only see real overfitting for larger values of K (which are even harder to visualize using the methods we attempted above.)"
   ]
  },
  {
   "cell_type": "markdown",
   "metadata": {
    "collapsed": true
   },
   "source": [
    "**Quiz Question**. Another sign of too large K is having lots of small clusters. Look at the distribution of cluster sizes (by number of member data points). How many of the 100 clusters have fewer than 236 articles, i.e. 0.4% of the dataset?"
   ]
  },
  {
   "cell_type": "code",
   "execution_count": 113,
   "metadata": {},
   "outputs": [
    {
     "data": {
      "text/plain": [
       "59071"
      ]
     },
     "execution_count": 113,
     "metadata": {},
     "output_type": "execute_result"
    }
   ],
   "source": [
    "np.sum(np.bincount(cluster_assignment[100]))"
   ]
  },
  {
   "cell_type": "code",
   "execution_count": 115,
   "metadata": {},
   "outputs": [
    {
     "data": {
      "text/plain": [
       "236.284"
      ]
     },
     "execution_count": 115,
     "metadata": {},
     "output_type": "execute_result"
    }
   ],
   "source": [
    "59071 * 0.004"
   ]
  },
  {
   "cell_type": "code",
   "execution_count": 116,
   "metadata": {},
   "outputs": [
    {
     "data": {
      "text/plain": [
       "27"
      ]
     },
     "execution_count": 116,
     "metadata": {},
     "output_type": "execute_result"
    }
   ],
   "source": [
    "np.sum(np.array(np.bincount(cluster_assignment[100]) < 236, dtype=int))"
   ]
  },
  {
   "cell_type": "markdown",
   "metadata": {},
   "source": [
    "### Takeaway\n",
    "\n",
    "Keep in mind though that tiny clusters aren't necessarily bad. A tiny cluster of documents that really look like each others is definitely preferable to a medium-sized cluster of documents with mixed content. However, having too few articles in a cluster may cause overfitting by reading too much into a limited pool of training data."
   ]
  }
 ],
 "metadata": {
  "kernelspec": {
   "display_name": "Python 3",
   "language": "python",
   "name": "python3"
  },
  "language_info": {
   "codemirror_mode": {
    "name": "ipython",
    "version": 3
   },
   "file_extension": ".py",
   "mimetype": "text/x-python",
   "name": "python",
   "nbconvert_exporter": "python",
   "pygments_lexer": "ipython3",
   "version": "3.6.6"
  }
 },
 "nbformat": 4,
 "nbformat_minor": 1
}
