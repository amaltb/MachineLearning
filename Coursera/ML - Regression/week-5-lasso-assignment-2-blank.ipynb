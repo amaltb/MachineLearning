{
 "cells": [
  {
   "cell_type": "markdown",
   "metadata": {},
   "source": [
    "# Regression Week 5: LASSO (coordinate descent)"
   ]
  },
  {
   "cell_type": "markdown",
   "metadata": {},
   "source": [
    "In this notebook, you will implement your very own LASSO solver via coordinate descent. You will:\n",
    "* Write a function to normalize features\n",
    "* Implement coordinate descent for LASSO\n",
    "* Explore effects of L1 penalty"
   ]
  },
  {
   "cell_type": "markdown",
   "metadata": {},
   "source": [
    "# Fire up graphlab create"
   ]
  },
  {
   "cell_type": "markdown",
   "metadata": {},
   "source": [
    "Make sure you have the latest version of graphlab (>= 1.7)"
   ]
  },
  {
   "cell_type": "code",
   "execution_count": 1,
   "metadata": {},
   "outputs": [],
   "source": [
    "import graphlab"
   ]
  },
  {
   "cell_type": "markdown",
   "metadata": {},
   "source": [
    "# Load in house sales data\n",
    "\n",
    "Dataset is from house sales in King County, the region where the city of Seattle, WA is located."
   ]
  },
  {
   "cell_type": "code",
   "execution_count": 3,
   "metadata": {},
   "outputs": [],
   "source": [
    "sales = graphlab.SFrame('data/kc_house_data.gl/')\n",
    "# In the dataset, 'floors' was defined with type string, \n",
    "# so we'll convert them to int, before using it below\n",
    "sales['floors'] = sales['floors'].astype(int) "
   ]
  },
  {
   "cell_type": "markdown",
   "metadata": {},
   "source": [
    "If we want to do any \"feature engineering\" like creating new features or adjusting existing ones we should do this directly using the SFrames as seen in the first notebook of Week 2. For this notebook, however, we will work with the existing features."
   ]
  },
  {
   "cell_type": "markdown",
   "metadata": {},
   "source": [
    "# Import useful functions from previous notebook"
   ]
  },
  {
   "cell_type": "markdown",
   "metadata": {},
   "source": [
    "As in Week 2, we convert the SFrame into a 2D Numpy array. Copy and paste `get_num_data()` from the second notebook of Week 2."
   ]
  },
  {
   "cell_type": "code",
   "execution_count": 4,
   "metadata": {},
   "outputs": [],
   "source": [
    "import numpy as np # note this allows us to refer to numpy as np instead "
   ]
  },
  {
   "cell_type": "code",
   "execution_count": 5,
   "metadata": {},
   "outputs": [],
   "source": [
    "def get_numpy_data(data_sframe, features, output):\n",
    "    data_sframe['constant'] = 1\n",
    "    features = ['constant'] + features\n",
    "    features_sframe = data_sframe[features]\n",
    "    \n",
    "    features_matrix = features_sframe.to_numpy()\n",
    "    \n",
    "    output_sarray = data_sframe[output]\n",
    "    output_array = output_sarray.to_numpy()\n",
    "    \n",
    "    return(features_matrix, output_array)"
   ]
  },
  {
   "cell_type": "markdown",
   "metadata": {},
   "source": [
    "Also, copy and paste the `predict_output()` function to compute the predictions for an entire matrix of features given the matrix and the weights:"
   ]
  },
  {
   "cell_type": "code",
   "execution_count": 6,
   "metadata": {},
   "outputs": [],
   "source": [
    "def predict_output(feature_matrix, weights):\n",
    "    predictions = np.dot(feature_matrix, weights)\n",
    "    return(predictions)"
   ]
  },
  {
   "cell_type": "markdown",
   "metadata": {},
   "source": [
    "# Normalize features\n",
    "In the house dataset, features vary wildly in their relative magnitude: `sqft_living` is very large overall compared to `bedrooms`, for instance. As a result, weight for `sqft_living` would be much smaller than weight for `bedrooms`. This is problematic because \"small\" weights are dropped first as `l1_penalty` goes up. \n",
    "\n",
    "To give equal considerations for all features, we need to **normalize features** as discussed in the lectures: we divide each feature by its 2-norm so that the transformed feature has norm 1.\n",
    "\n",
    "Let's see how we can do this normalization easily with Numpy: let us first consider a small matrix."
   ]
  },
  {
   "cell_type": "code",
   "execution_count": 7,
   "metadata": {},
   "outputs": [
    {
     "name": "stdout",
     "output_type": "stream",
     "text": [
      "[[ 3.  5.  8.]\n",
      " [ 4. 12. 15.]]\n"
     ]
    }
   ],
   "source": [
    "X = np.array([[3.,5.,8.],[4.,12.,15.]])\n",
    "print X"
   ]
  },
  {
   "cell_type": "markdown",
   "metadata": {},
   "source": [
    "Numpy provides a shorthand for computing 2-norms of each column:"
   ]
  },
  {
   "cell_type": "code",
   "execution_count": 8,
   "metadata": {},
   "outputs": [
    {
     "name": "stdout",
     "output_type": "stream",
     "text": [
      "[ 5. 13. 17.]\n"
     ]
    }
   ],
   "source": [
    "norms = np.linalg.norm(X, axis=0) # gives [norm(X[:,0]), norm(X[:,1]), norm(X[:,2])]\n",
    "print norms"
   ]
  },
  {
   "cell_type": "markdown",
   "metadata": {},
   "source": [
    "To normalize, apply element-wise division:"
   ]
  },
  {
   "cell_type": "code",
   "execution_count": 9,
   "metadata": {},
   "outputs": [
    {
     "name": "stdout",
     "output_type": "stream",
     "text": [
      "[[0.6        0.38461538 0.47058824]\n",
      " [0.8        0.92307692 0.88235294]]\n"
     ]
    }
   ],
   "source": [
    "print X / norms # gives [X[:,0]/norm(X[:,0]), X[:,1]/norm(X[:,1]), X[:,2]/norm(X[:,2])]"
   ]
  },
  {
   "cell_type": "code",
   "execution_count": null,
   "metadata": {},
   "outputs": [],
   "source": []
  },
  {
   "cell_type": "markdown",
   "metadata": {},
   "source": [
    "Using the shorthand we just covered, write a short function called `normalize_features(feature_matrix)`, which normalizes columns of a given feature matrix. The function should return a pair `(normalized_features, norms)`, where the second item contains the norms of original features. As discussed in the lectures, we will use these norms to normalize the test data in the same way as we normalized the training data. "
   ]
  },
  {
   "cell_type": "code",
   "execution_count": 12,
   "metadata": {},
   "outputs": [],
   "source": [
    "def normalize_features(feature_matrix):\n",
    "    norms = np.linalg.norm(feature_matrix, axis=0)\n",
    "    return (feature_matrix/norms, norms)"
   ]
  },
  {
   "cell_type": "markdown",
   "metadata": {},
   "source": [
    "To test the function, run the following:"
   ]
  },
  {
   "cell_type": "code",
   "execution_count": 13,
   "metadata": {},
   "outputs": [
    {
     "name": "stdout",
     "output_type": "stream",
     "text": [
      "[[0.6 0.6 0.6]\n",
      " [0.8 0.8 0.8]]\n",
      "[ 5. 10. 15.]\n"
     ]
    }
   ],
   "source": [
    "features, norms = normalize_features(np.array([[3.,6.,9.],[4.,8.,12.]]))\n",
    "print features\n",
    "# should print\n",
    "# [[ 0.6  0.6  0.6]\n",
    "#  [ 0.8  0.8  0.8]]\n",
    "print norms\n",
    "# should print\n",
    "# [5.  10.  15.]"
   ]
  },
  {
   "cell_type": "markdown",
   "metadata": {},
   "source": [
    "# Implementing Coordinate Descent with normalized features"
   ]
  },
  {
   "cell_type": "markdown",
   "metadata": {},
   "source": [
    "We seek to obtain a sparse set of weights by minimizing the LASSO cost function\n",
    "```\n",
    "SUM[ (prediction - output)^2 ] + lambda*( |w[1]| + ... + |w[k]|).\n",
    "```\n",
    "(By convention, we do not include `w[0]` in the L1 penalty term. We never want to push the intercept to zero.)\n",
    "\n",
    "The absolute value sign makes the cost function non-differentiable, so simple gradient descent is not viable (you would need to implement a method called subgradient descent). Instead, we will use **coordinate descent**: at each iteration, we will fix all weights but weight `i` and find the value of weight `i` that minimizes the objective. That is, we look for\n",
    "```\n",
    "argmin_{w[i]} [ SUM[ (prediction - output)^2 ] + lambda*( |w[1]| + ... + |w[k]|) ]\n",
    "```\n",
    "where all weights other than `w[i]` are held to be constant. We will optimize one `w[i]` at a time, circling through the weights multiple times.  \n",
    "  1. Pick a coordinate `i`\n",
    "  2. Compute `w[i]` that minimizes the cost function `SUM[ (prediction - output)^2 ] + lambda*( |w[1]| + ... + |w[k]|)`\n",
    "  3. Repeat Steps 1 and 2 for all coordinates, multiple times"
   ]
  },
  {
   "cell_type": "markdown",
   "metadata": {},
   "source": [
    "For this notebook, we use **cyclical coordinate descent with normalized features**, where we cycle through coordinates 0 to (d-1) in order, and assume the features were normalized as discussed above. The formula for optimizing each coordinate is as follows:\n",
    "```\n",
    "       ┌ (ro[i] + lambda/2)     if ro[i] < -lambda/2\n",
    "w[i] = ├ 0                      if -lambda/2 <= ro[i] <= lambda/2\n",
    "       └ (ro[i] - lambda/2)     if ro[i] > lambda/2\n",
    "```\n",
    "where\n",
    "```\n",
    "ro[i] = SUM[ [feature_i]*(output - prediction + w[i]*[feature_i]) ].\n",
    "```\n",
    "\n",
    "Note that we do not regularize the weight of the constant feature (intercept) `w[0]`, so, for this weight, the update is simply:\n",
    "```\n",
    "w[0] = ro[i]\n",
    "```"
   ]
  },
  {
   "cell_type": "markdown",
   "metadata": {},
   "source": [
    "## Effect of L1 penalty"
   ]
  },
  {
   "cell_type": "markdown",
   "metadata": {},
   "source": [
    "Let us consider a simple model with 2 features:"
   ]
  },
  {
   "cell_type": "code",
   "execution_count": 14,
   "metadata": {},
   "outputs": [],
   "source": [
    "simple_features = ['sqft_living', 'bedrooms']\n",
    "my_output = 'price'\n",
    "(simple_feature_matrix, output) = get_numpy_data(sales, simple_features, my_output)"
   ]
  },
  {
   "cell_type": "markdown",
   "metadata": {},
   "source": [
    "Don't forget to normalize features:"
   ]
  },
  {
   "cell_type": "code",
   "execution_count": 15,
   "metadata": {},
   "outputs": [],
   "source": [
    "simple_feature_matrix, norms = normalize_features(simple_feature_matrix)"
   ]
  },
  {
   "cell_type": "markdown",
   "metadata": {},
   "source": [
    "We assign some random set of initial weights and inspect the values of `ro[i]`:"
   ]
  },
  {
   "cell_type": "code",
   "execution_count": 16,
   "metadata": {},
   "outputs": [],
   "source": [
    "weights = np.array([1., 4., 1.])"
   ]
  },
  {
   "cell_type": "markdown",
   "metadata": {},
   "source": [
    "Use `predict_output()` to make predictions on this data."
   ]
  },
  {
   "cell_type": "code",
   "execution_count": 17,
   "metadata": {},
   "outputs": [],
   "source": [
    "prediction = predict_output(simple_feature_matrix, weights)"
   ]
  },
  {
   "cell_type": "markdown",
   "metadata": {},
   "source": [
    "Compute the values of `ro[i]` for each feature in this simple model, using the formula given above, using the formula:\n",
    "```\n",
    "ro[i] = SUM[ [feature_i]*(output - prediction + w[i]*[feature_i]) ]\n",
    "```\n",
    "\n",
    "*Hint: You can get a Numpy vector for feature_i using:*\n",
    "```\n",
    "simple_feature_matrix[:,i]\n",
    "```"
   ]
  },
  {
   "cell_type": "code",
   "execution_count": 31,
   "metadata": {},
   "outputs": [],
   "source": [
    "ro_is = []\n",
    "for i in range(1, 3):\n",
    "    feature_i = simple_feature_matrix[:,i]\n",
    "    diff = output - prediction + (weights[i] * feature_i)\n",
    "    ro_i = sum(feature_i * diff)\n",
    "    \n",
    "    ro_is.append((i, ro_i))"
   ]
  },
  {
   "cell_type": "code",
   "execution_count": 32,
   "metadata": {},
   "outputs": [
    {
     "data": {
      "text/plain": [
       "[(1, 87939470.7729908), (2, 80966698.67596525)]"
      ]
     },
     "execution_count": 32,
     "metadata": {},
     "output_type": "execute_result"
    }
   ],
   "source": [
    "ro_is"
   ]
  },
  {
   "cell_type": "markdown",
   "metadata": {},
   "source": [
    "***QUIZ QUESTION***\n",
    "\n",
    "Recall that, whenever `ro[i]` falls between `-l1_penalty/2` and `l1_penalty/2`, the corresponding weight `w[i]` is sent to zero. Now suppose we were to take one step of coordinate descent on either feature 1 or feature 2. What range of values of `l1_penalty` **would not** set `w[1]` zero, but **would** set `w[2]` to zero, if we were to take a step in that coordinate? "
   ]
  },
  {
   "cell_type": "code",
   "execution_count": null,
   "metadata": {},
   "outputs": [],
   "source": []
  },
  {
   "cell_type": "markdown",
   "metadata": {},
   "source": [
    "***QUIZ QUESTION***\n",
    "\n",
    "What range of values of `l1_penalty` would set **both** `w[1]` and `w[2]` to zero, if we were to take a step in that coordinate? "
   ]
  },
  {
   "cell_type": "code",
   "execution_count": null,
   "metadata": {},
   "outputs": [],
   "source": []
  },
  {
   "cell_type": "markdown",
   "metadata": {},
   "source": [
    "So we can say that `ro[i]` quantifies the significance of the i-th feature: the larger `ro[i]` is, the more likely it is for the i-th feature to be retained."
   ]
  },
  {
   "cell_type": "markdown",
   "metadata": {},
   "source": [
    "## Single Coordinate Descent Step"
   ]
  },
  {
   "cell_type": "markdown",
   "metadata": {},
   "source": [
    "Using the formula above, implement coordinate descent that minimizes the cost function over a single feature i. Note that the intercept (weight 0) is not regularized. The function should accept feature matrix, output, current weights, l1 penalty, and index of feature to optimize over. The function should return new weight for feature i."
   ]
  },
  {
   "cell_type": "code",
   "execution_count": 38,
   "metadata": {},
   "outputs": [],
   "source": [
    "def lasso_coordinate_descent_step(i, feature_matrix, output, weights, l1_penalty):\n",
    "    # compute prediction\n",
    "    prediction = predict_output(feature_matrix, weights)\n",
    "    # compute ro[i] = SUM[ [feature_i]*(output - prediction + weight[i]*[feature_i]) ]\n",
    "    feature_i = feature_matrix[:,i]\n",
    "    ro_i = sum(feature_i * (output - prediction + feature_i * weights[i]))\n",
    "\n",
    "    if i == 0: # intercept -- do not regularize\n",
    "        new_weight_i = ro_i \n",
    "    elif ro_i < -l1_penalty/2.:\n",
    "        new_weight_i = ro_i + l1_penalty/2\n",
    "    elif ro_i > l1_penalty/2.:\n",
    "        new_weight_i = ro_i - l1_penalty/2\n",
    "    else:\n",
    "        new_weight_i = 0.\n",
    "    \n",
    "    return new_weight_i"
   ]
  },
  {
   "cell_type": "markdown",
   "metadata": {},
   "source": [
    "To test the function, run the following cell:"
   ]
  },
  {
   "cell_type": "code",
   "execution_count": 39,
   "metadata": {},
   "outputs": [
    {
     "name": "stdout",
     "output_type": "stream",
     "text": [
      "0.4255588466910251\n"
     ]
    }
   ],
   "source": [
    "# should print 0.425558846691\n",
    "import math\n",
    "print lasso_coordinate_descent_step(1, np.array([[3./math.sqrt(13),1./math.sqrt(10)],[2./math.sqrt(13),3./math.sqrt(10)]]), \n",
    "                                   np.array([1., 1.]), np.array([1., 4.]), 0.1)"
   ]
  },
  {
   "cell_type": "markdown",
   "metadata": {
    "collapsed": true
   },
   "source": [
    "## Cyclical coordinate descent "
   ]
  },
  {
   "cell_type": "markdown",
   "metadata": {},
   "source": [
    "Now that we have a function that optimizes the cost function over a single coordinate, let us implement cyclical coordinate descent where we optimize coordinates 0, 1, ..., (d-1) in order and repeat.\n",
    "\n",
    "When do we know to stop? Each time we scan all the coordinates (features) once, we measure the change in weight for each coordinate. If no coordinate changes by more than a specified threshold, we stop."
   ]
  },
  {
   "cell_type": "markdown",
   "metadata": {},
   "source": [
    "For each iteration:\n",
    "1. As you loop over features in order and perform coordinate descent, measure how much each coordinate changes.\n",
    "2. After the loop, if the maximum change across all coordinates is falls below the tolerance, stop. Otherwise, go back to step 1.\n",
    "\n",
    "Return weights\n",
    "\n",
    "**IMPORTANT: when computing a new weight for coordinate i, make sure to incorporate the new weights for coordinates 0, 1, ..., i-1. One good way is to update your weights variable in-place. See following pseudocode for illustration.**\n",
    "```\n",
    "for i in range(len(weights)):\n",
    "    old_weights_i = weights[i] # remember old value of weight[i], as it will be overwritten\n",
    "    # the following line uses new values for weight[0], weight[1], ..., weight[i-1]\n",
    "    #     and old values for weight[i], ..., weight[d-1]\n",
    "    weights[i] = lasso_coordinate_descent_step(i, feature_matrix, output, weights, l1_penalty)\n",
    "    \n",
    "    # use old_weights_i to compute change in coordinate\n",
    "    ...\n",
    "```"
   ]
  },
  {
   "cell_type": "code",
   "execution_count": 49,
   "metadata": {},
   "outputs": [
    {
     "data": {
      "text/plain": [
       "[1, 2, 4]"
      ]
     },
     "execution_count": 49,
     "metadata": {},
     "output_type": "execute_result"
    }
   ],
   "source": [
    "l1 = [1, 2, 3]\n",
    "l1[2] = 4\n",
    "l1"
   ]
  },
  {
   "cell_type": "code",
   "execution_count": 115,
   "metadata": {},
   "outputs": [],
   "source": [
    "def lasso_cyclical_coordinate_descent(feature_matrix, output, weights, l1_penalty, tolerance):\n",
    "    print(\"Weights:\" + str(weights))\n",
    "    coordinate_changes = []\n",
    "    for i in range(len(initial_weights)):\n",
    "        new_weight_i = lasso_coordinate_descent_step(i, feature_matrix, output, weights, l1_penalty)\n",
    "        coordinate_changes.append(abs(weights[i] - new_weight_i))\n",
    "        weights[i] = new_weight_i\n",
    "    \n",
    "    print(\"Coordinate Changes: \" + str(coordinate_changes))\n",
    "    if max(coordinate_changes) >= tolerance:\n",
    "        return lasso_cyclical_coordinate_descent(feature_matrix, output, weights, l1_penalty, tolerance)\n",
    "    else:\n",
    "        return weights"
   ]
  },
  {
   "cell_type": "markdown",
   "metadata": {},
   "source": [
    "Using the following parameters, learn the weights on the sales dataset. "
   ]
  },
  {
   "cell_type": "code",
   "execution_count": 77,
   "metadata": {},
   "outputs": [],
   "source": [
    "simple_features = ['sqft_living', 'bedrooms']\n",
    "my_output = 'price'\n",
    "initial_weights = np.zeros(3)\n",
    "l1_penalty = 1e7\n",
    "tolerance = 1.0"
   ]
  },
  {
   "cell_type": "code",
   "execution_count": 50,
   "metadata": {},
   "outputs": [
    {
     "data": {
      "text/plain": [
       "5000000.0"
      ]
     },
     "execution_count": 50,
     "metadata": {},
     "output_type": "execute_result"
    }
   ],
   "source": [
    "1e7 / 2"
   ]
  },
  {
   "cell_type": "markdown",
   "metadata": {},
   "source": [
    "First create a normalized version of the feature matrix, `normalized_simple_feature_matrix`."
   ]
  },
  {
   "cell_type": "code",
   "execution_count": 78,
   "metadata": {},
   "outputs": [],
   "source": [
    "(simple_feature_matrix, output) = get_numpy_data(sales, simple_features, my_output)\n",
    "(normalized_simple_feature_matrix, simple_norms) = normalize_features(simple_feature_matrix) # normalize features"
   ]
  },
  {
   "cell_type": "markdown",
   "metadata": {},
   "source": [
    "Then, run your implementation of LASSO coordinate descent:"
   ]
  },
  {
   "cell_type": "code",
   "execution_count": 79,
   "metadata": {},
   "outputs": [
    {
     "name": "stdout",
     "output_type": "stream",
     "text": [
      "Weights:[0. 0. 0.]\n",
      "Coordinate Changes: [79400304.65805142, 10305258.636020651, 299724.11449879874]\n",
      "Weights:[79400304.65805142 10305258.63602065  -299724.1144988 ]\n",
      "Coordinate Changes: [9138168.366497353, 8642336.998722883, 299724.11449879874]\n",
      "Weights:[70262136.29155406 18947595.63474353        0.        ]\n",
      "Coordinate Changes: [8194809.409369849, 7213612.451021705, 0.0]\n",
      "Weights:[62067326.88218421 26161208.08576524        0.        ]\n",
      "Coordinate Changes: [6598905.038273573, 6036579.868936997, 0.0]\n",
      "Weights:[55468421.84391064 32197787.95470224        0.        ]\n",
      "Coordinate Changes: [5522173.194295108, 5051601.643624671, 0.0]\n",
      "Weights:[49946248.64961553 37249389.59832691        0.        ]\n",
      "Coordinate Changes: [4621129.810313255, 4227340.600127637, 0.0]\n",
      "Weights:[45325118.83930228 41476730.19845454        0.        ]\n",
      "Coordinate Changes: [3867108.1062485054, 3537572.7957573086, 0.0]\n",
      "Weights:[41458010.73305377 45014302.99421185        0.        ]\n",
      "Coordinate Changes: [3236118.81060721, 2960353.2028868124, 0.0]\n",
      "Weights:[38221891.92244656 47974656.19709866        0.        ]\n",
      "Coordinate Changes: [2708086.939551182, 2477317.5258336663, 0.0]\n",
      "Weights:[35513804.98289538 50451973.72293233        0.        ]\n",
      "Coordinate Changes: [2266213.1093987785, 2073097.939062938, 0.0]\n",
      "Weights:[33247591.8734966  52525071.66199527        0.        ]\n",
      "Coordinate Changes: [1896439.0626471266, 1734834.158370912, 0.0]\n",
      "Weights:[31351152.81084948 54259905.82036618        0.        ]\n",
      "Coordinate Changes: [1587000.403192252, 1451764.2897324413, 0.0]\n",
      "Weights:[29764152.40765722 55711670.11009862        0.        ]\n",
      "Coordinate Changes: [1328052.3109532446, 1214882.4386315122, 0.0]\n",
      "Weights:[28436100.09670398 56926552.54873013        0.        ]\n",
      "Coordinate Changes: [1111356.3280017972, 1016652.1866769716, 0.0]\n",
      "Weights:[27324743.76870218 57943204.73540711        0.        ]\n",
      "Coordinate Changes: [930018.2512415648, 850766.8197416514, 0.0]\n",
      "Weights:[26394725.51746062 58793971.55514876        0.        ]\n",
      "Coordinate Changes: [778268.7926895991, 711948.6792614236, 0.0]\n",
      "Weights:[25616456.72477102 59505920.23441018        0.        ]\n",
      "Coordinate Changes: [651280.0290382728, 595781.253030464, 0.0]\n",
      "Weights:[24965176.69573275 60101701.48744065        0.        ]\n",
      "Coordinate Changes: [545011.8008175492, 498568.6634479016, 0.0]\n",
      "Weights:[24420164.8949152  60600270.15088855        0.        ]\n",
      "Coordinate Changes: [456083.1743442416, 417218.0828239918, 0.0]\n",
      "Weights:[23964081.72057096 61017488.23371254        0.        ]\n",
      "Coordinate Changes: [381664.8769947849, 349141.3347793147, 0.0]\n",
      "Weights:[23582416.84357617 61366629.56849185        0.        ]\n",
      "Coordinate Changes: [319389.2836337276, 292172.55116695166, 0.0]\n",
      "Weights:[23263027.55994244 61658802.11965881        0.        ]\n",
      "Coordinate Changes: [267275.0903976597, 244499.2647724077, 0.0]\n",
      "Weights:[22995752.46954478 61903301.38443121        0.        ]\n",
      "Coordinate Changes: [223664.27932137996, 204604.7455027923, 0.0]\n",
      "Weights:[22772088.1902234  62107906.12993401        0.        ]\n",
      "Coordinate Changes: [187169.3683463335, 171219.74547124654, 0.0]\n",
      "Weights:[22584918.82187707 62279125.87540525        0.        ]\n",
      "Coordinate Changes: [156629.268443916, 143282.1177586317, 0.0]\n",
      "Weights:[22428289.55343315 62422407.99316388        0.        ]\n",
      "Coordinate Changes: [131072.343460612, 119903.02411152422, 0.0]\n",
      "Weights:[22297217.20997254 62542311.01727541        0.        ]\n",
      "Coordinate Changes: [109685.49742394313, 100338.65646153688, 0.0]\n",
      "Weights:[22187531.7125486  62642649.67373694        0.        ]\n",
      "Coordinate Changes: [91788.30581126735, 83966.57261361182, 0.0]\n",
      "Weights:[22095743.40673733 62726616.24635056        0.        ]\n",
      "Coordinate Changes: [76811.36778949946, 70265.89317698777, 0.0]\n",
      "Weights:[22018932.03894783 62796882.13952754        0.        ]\n",
      "Coordinate Changes: [64278.190664336085, 58800.72974571586, 0.0]\n",
      "Weights:[21954653.8482835  62855682.86927326        0.        ]\n",
      "Coordinate Changes: [53790.03022508696, 49206.31706674397, 0.0]\n",
      "Weights:[21900863.81805841 62904889.18634           0.        ]\n",
      "Coordinate Changes: [45013.20466154441, 41177.407997220755, 0.0]\n",
      "Weights:[21855850.61339686 62946066.59433722        0.        ]\n",
      "Coordinate Changes: [37668.478441372514, 34458.56203958392, 0.0]\n",
      "Weights:[21818182.13495549 62980525.15637681        0.        ]\n",
      "Coordinate Changes: [31522.178409054875, 28836.01847715676, 0.0]\n",
      "Weights:[21786659.95654644 63009361.17485397        0.        ]\n",
      "Coordinate Changes: [26378.759449850768, 24130.89555515349, 0.0]\n",
      "Weights:[21760281.19709659 63033492.07040912        0.        ]\n",
      "Coordinate Changes: [22074.58320490271, 20193.499348849058, 0.0]\n",
      "Weights:[21738206.61389168 63053685.56975797        0.        ]\n",
      "Coordinate Changes: [18472.711903847754, 16898.561224251986, 0.0]\n",
      "Weights:[21719733.90198784 63070584.13098222        0.        ]\n",
      "Coordinate Changes: [15458.551670253277, 14141.252415716648, 0.0]\n",
      "Weights:[21704275.35031758 63084725.38339794        0.        ]\n",
      "Coordinate Changes: [12936.206712722778, 11833.848884254694, 0.0]\n",
      "Weights:[21691339.14360486 63096559.23228219        0.        ]\n",
      "Coordinate Changes: [10825.428390506655, 9902.940369337797, 0.0]\n",
      "Weights:[21680513.71521435 63106462.17265153        0.        ]\n",
      "Coordinate Changes: [9059.062091361731, 8287.094833403826, 0.0]\n",
      "Weights:[21671454.65312299 63114749.26748493        0.        ]\n",
      "Coordinate Changes: [7580.9107045046985, 6934.904000774026, 0.0]\n",
      "Weights:[21663873.74241849 63121684.17148571        0.        ]\n",
      "Coordinate Changes: [6343.94670663029, 5803.347790494561, 0.0]\n",
      "Weights:[21657529.79571186 63127487.5192762         0.        ]\n",
      "Coordinate Changes: [5308.815968886018, 4856.425637722015, 0.0]\n",
      "Weights:[21652220.97974297 63132343.94491392        0.        ]\n",
      "Coordinate Changes: [4442.585712317377, 4064.0111230909824, 0.0]\n",
      "Weights:[21647778.39403065 63136407.95603701        0.        ]\n",
      "Coordinate Changes: [3717.6967375054955, 3400.8935052752495, 0.0]\n",
      "Weights:[21644060.69729315 63139808.84954229        0.        ]\n",
      "Coordinate Changes: [3111.08663527295, 2845.9756341427565, 0.0]\n",
      "Weights:[21640949.61065787 63142654.82517643        0.        ]\n",
      "Coordinate Changes: [2603.4560461454093, 2381.6027456223965, 0.0]\n",
      "Weights:[21638346.15461173 63145036.42792206        0.        ]\n",
      "Coordinate Changes: [2178.65465657413, 1993.0007732063532, 0.0]\n",
      "Weights:[21636167.49995515 63147029.42869526        0.        ]\n",
      "Coordinate Changes: [1823.167370673269, 1667.8063082396984, 0.0]\n",
      "Weights:[21634344.33258448 63148697.2350035         0.        ]\n",
      "Coordinate Changes: [1525.684325736016, 1395.6732560098171, 0.0]\n",
      "Weights:[21632818.64825875 63150092.90825951        0.        ]\n",
      "Coordinate Changes: [1276.7410702183843, 1167.9436813890934, 0.0]\n",
      "Weights:[21631541.90718853 63151260.8519409         0.        ]\n",
      "Coordinate Changes: [1068.4174532070756, 977.3723446428776, 0.0]\n",
      "Weights:[21630473.48973532 63152238.22428554        0.        ]\n",
      "Coordinate Changes: [894.0856378264725, 817.8962011039257, 0.0]\n",
      "Weights:[21629579.40409749 63153056.12048665        0.        ]\n",
      "Coordinate Changes: [748.199241284281, 684.4415024369955, 0.0]\n",
      "Weights:[21628831.20485621 63153740.56198908        0.        ]\n",
      "Coordinate Changes: [626.1168740205467, 572.762374162674, 0.0]\n",
      "Weights:[21628205.08798219 63154313.32436325        0.        ]\n",
      "Coordinate Changes: [523.9544740691781, 479.30573523044586, 0.0]\n",
      "Weights:[21627681.13350812 63154792.63009848        0.        ]\n",
      "Coordinate Changes: [438.4617348536849, 401.0982528477907, 0.0]\n",
      "Weights:[21627242.67177327 63155193.72835132        0.        ]\n",
      "Coordinate Changes: [366.918696988374, 335.6517495661974, 0.0]\n",
      "Weights:[21626875.75307628 63155529.38010089        0.        ]\n",
      "Coordinate Changes: [307.04921232908964, 280.88403782248497, 0.0]\n",
      "Weights:[21626568.70386395 63155810.26413871        0.        ]\n",
      "Coordinate Changes: [256.948526956141, 235.05267889797688, 0.0]\n",
      "Weights:[21626311.75533699 63156045.31681761        0.        ]\n",
      "Coordinate Changes: [215.02268339321017, 196.69954209029675, 0.0]\n",
      "Weights:[21626096.7326536 63156242.0163597        0.       ]\n",
      "Coordinate Changes: [179.93780647590756, 164.6044207662344, 0.0]\n",
      "Weights:[21625916.79484712 63156406.62078047        0.        ]\n",
      "Coordinate Changes: [150.57766798883677, 137.74620382487774, 0.0]\n",
      "Weights:[21625766.21717913 63156544.36698429        0.        ]\n",
      "Coordinate Changes: [126.00817193463445, 115.27039527893066, 0.0]\n",
      "Weights:[21625640.2090072  63156659.63737957        0.        ]\n",
      "Coordinate Changes: [105.44763769209385, 96.46192556619644, 0.0]\n",
      "Weights:[21625534.76136951 63156756.09930514        0.        ]\n",
      "Coordinate Changes: [88.24193018302321, 80.72240100800991, 0.0]\n",
      "Weights:[21625446.51943932 63156836.82170615        0.        ]\n",
      "Coordinate Changes: [73.84364790096879, 67.55106803774834, 0.0]\n",
      "Weights:[21625372.67579142 63156904.37277418        0.        ]\n",
      "Coordinate Changes: [61.79470952600241, 56.52887807786465, 0.0]\n",
      "Weights:[21625310.8810819  63156960.90165226        0.        ]\n",
      "Coordinate Changes: [51.711773961782455, 47.30515871942043, 0.0]\n",
      "Weights:[21625259.16930794 63157008.20681098        0.        ]\n",
      "Coordinate Changes: [43.27405349910259, 39.58645884692669, 0.0]\n",
      "Weights:[21625215.89525444 63157047.79326983        0.        ]\n",
      "Coordinate Changes: [36.21310190111399, 33.12720553576946, 0.0]\n",
      "Weights:[21625179.68215254 63157080.92047536        0.        ]\n",
      "Coordinate Changes: [30.30427325516939, 27.72189709544182, 0.0]\n",
      "Weights:[21625149.37787928 63157108.64237246        0.        ]\n",
      "Coordinate Changes: [25.35957796499133, 23.198563277721405, 0.0]\n",
      "Weights:[21625124.01830132 63157131.84093574        0.        ]\n",
      "Coordinate Changes: [21.221699558198452, 19.413294196128845, 0.0]\n",
      "Weights:[21625102.79660176 63157151.25422993        0.        ]\n",
      "Coordinate Changes: [17.75899165868759, 16.245661169290543, 0.0]\n",
      "Weights:[21625085.0376101 63157167.4998911        0.       ]\n"
     ]
    },
    {
     "name": "stdout",
     "output_type": "stream",
     "text": [
      "Coordinate Changes: [14.861288469284773, 13.594884440302849, 0.0]\n",
      "Weights:[21625070.17632163 63157181.09477554        0.        ]\n",
      "Coordinate Changes: [12.436397407203913, 11.376630917191505, 0.0]\n",
      "Weights:[21625057.73992422 63157192.47140646        0.        ]\n",
      "Coordinate Changes: [10.407172374427319, 9.52032558619976, 0.0]\n",
      "Weights:[21625047.33275185 63157201.99173205        0.        ]\n",
      "Coordinate Changes: [8.709051750600338, 7.966910764575005, 0.0]\n",
      "Weights:[21625038.6237001  63157209.95864281        0.        ]\n",
      "Coordinate Changes: [7.288011036813259, 6.666963666677475, 0.0]\n",
      "Weights:[21625031.33568906 63157216.62560648        0.        ]\n",
      "Coordinate Changes: [6.098838798701763, 5.579127252101898, 0.0]\n",
      "Weights:[21625025.23685026 63157222.20473373        0.        ]\n",
      "Coordinate Changes: [5.103702429682016, 4.668790593743324, 0.0]\n",
      "Weights:[21625020.13314783 63157226.87352432        0.        ]\n",
      "Coordinate Changes: [4.270939916372299, 3.9069920629262924, 0.0]\n",
      "Weights:[21625015.86220792 63157230.78051639        0.        ]\n",
      "Coordinate Changes: [3.5740582644939423, 3.2694954723119736, 0.0]\n",
      "Weights:[21625012.28814965 63157234.05001186        0.        ]\n",
      "Coordinate Changes: [2.9908854961395264, 2.736016571521759, 0.0]\n",
      "Weights:[21625009.29726416 63157236.78602843        0.        ]\n",
      "Coordinate Changes: [2.502867203205824, 2.289585903286934, 0.0]\n",
      "Weights:[21625006.79439695 63157239.07561433        0.        ]\n",
      "Coordinate Changes: [2.0944790467619896, 1.9159978479146957, 0.0]\n",
      "Weights:[21625004.69991791 63157240.99161218        0.        ]\n",
      "Coordinate Changes: [1.7527262419462204, 1.6033681631088257, 0.0]\n",
      "Weights:[21625002.94719166 63157242.59498034        0.        ]\n",
      "Coordinate Changes: [1.4667372703552246, 1.3417495489120483, 0.0]\n",
      "Weights:[21625001.48045439 63157243.93672989        0.        ]\n",
      "Coordinate Changes: [1.227412361651659, 1.1228182464838028, 0.0]\n",
      "Weights:[21625000.25304203 63157245.05954814        0.        ]\n",
      "Coordinate Changes: [1.027137503027916, 0.9396097660064697, 0.0]\n",
      "Weights:[21624999.22590453 63157245.99915791        0.        ]\n",
      "Coordinate Changes: [0.8595410063862801, 0.7862952798604965, 0.0]\n"
     ]
    }
   ],
   "source": [
    "weights = lasso_cyclical_coordinate_descent(normalized_simple_feature_matrix, output,\n",
    "                                            initial_weights, l1_penalty, tolerance)"
   ]
  },
  {
   "cell_type": "code",
   "execution_count": 80,
   "metadata": {},
   "outputs": [
    {
     "name": "stdout",
     "output_type": "stream",
     "text": [
      "[21624998.36636352 63157246.78545319        0.        ]\n"
     ]
    }
   ],
   "source": [
    "print(weights)"
   ]
  },
  {
   "cell_type": "code",
   "execution_count": 81,
   "metadata": {},
   "outputs": [
    {
     "data": {
      "text/plain": [
       "1630492481484499.5"
      ]
     },
     "execution_count": 81,
     "metadata": {},
     "output_type": "execute_result"
    }
   ],
   "source": [
    "predictions = predict_output(normalized_simple_feature_matrix, weights)\n",
    "sum((predictions - output)**2)"
   ]
  },
  {
   "cell_type": "code",
   "execution_count": 82,
   "metadata": {},
   "outputs": [
    {
     "data": {
      "text/plain": [
       "True"
      ]
     },
     "execution_count": 82,
     "metadata": {},
     "output_type": "execute_result"
    }
   ],
   "source": [
    "1e15 < 1630492481484499.5 < 3e15"
   ]
  },
  {
   "cell_type": "markdown",
   "metadata": {},
   "source": [
    "***QUIZ QUESTIONS***\n",
    "1. What is the RSS of the learned model on the normalized dataset? (Hint: use the normalized feature matrix when you make predictions.)\n",
    "2. Which features had weight zero at convergence?"
   ]
  },
  {
   "cell_type": "markdown",
   "metadata": {},
   "source": [
    "# Evaluating LASSO fit with more features"
   ]
  },
  {
   "cell_type": "markdown",
   "metadata": {},
   "source": [
    "Let us split the sales dataset into training and test sets."
   ]
  },
  {
   "cell_type": "code",
   "execution_count": 83,
   "metadata": {},
   "outputs": [],
   "source": [
    "train_data,test_data = sales.random_split(.8,seed=0)"
   ]
  },
  {
   "cell_type": "markdown",
   "metadata": {},
   "source": [
    "Let us consider the following set of features."
   ]
  },
  {
   "cell_type": "code",
   "execution_count": 84,
   "metadata": {},
   "outputs": [],
   "source": [
    "all_features = ['bedrooms',\n",
    "                'bathrooms',\n",
    "                'sqft_living',\n",
    "                'sqft_lot',\n",
    "                'floors',\n",
    "                'waterfront', \n",
    "                'view', \n",
    "                'condition', \n",
    "                'grade',\n",
    "                'sqft_above',\n",
    "                'sqft_basement',\n",
    "                'yr_built', \n",
    "                'yr_renovated']"
   ]
  },
  {
   "cell_type": "markdown",
   "metadata": {},
   "source": [
    "First, create a normalized feature matrix from the TRAINING data with these features.  (Make you store the norms for the normalization, since we'll use them later)"
   ]
  },
  {
   "cell_type": "code",
   "execution_count": 87,
   "metadata": {},
   "outputs": [],
   "source": [
    "all_feat_matrix, output = get_numpyall_feat_matrix, output = get_numpy_data(sales, all_features, my_output)\n",
    "norm_feat_matrix, norms = normalize_features(all_feat_matrix)"
   ]
  },
  {
   "cell_type": "markdown",
   "metadata": {},
   "source": [
    "First, learn the weights with `l1_penalty=1e7`, on the training data. Initialize weights to all zeros, and set the `tolerance=1`.  Call resulting weights `weights1e7`, you will need them later."
   ]
  },
  {
   "cell_type": "code",
   "execution_count": 116,
   "metadata": {},
   "outputs": [],
   "source": [
    "initial_weights = np.zeros(14)\n",
    "l1_penalty = 1e7\n",
    "tolerance = 1.0"
   ]
  },
  {
   "cell_type": "code",
   "execution_count": 117,
   "metadata": {
    "scrolled": true
   },
   "outputs": [
    {
     "name": "stdout",
     "output_type": "stream",
     "text": [
      "Weights:[0. 0. 0. 0. 0. 0. 0. 0. 0. 0. 0. 0. 0. 0.]\n",
      "Coordinate Changes: [79400304.65805142, 0.0, 4698536.82947805, 5776463.7871389575, 0.0, 88695.29018316232, 8144113.544721436, 8445943.304970175, 7231648.057170596, 0.0, 1349249.77559626, 2364615.543230309, 3190664.53548815, 0.0]\n",
      "Weights:[79400304.65805142        0.          4698536.82947805  5776463.78713896\n",
      "        0.           -88695.29018316  8144113.54472144  8445943.30497018\n",
      " -7231648.0571706         0.          1349249.77559626  2364615.54323031\n",
      " -3190664.53548815        0.        ]\n",
      "Coordinate Changes: [5024423.989266425, 0.0, 2481113.245323712, 4642999.414444713, 0.0, 88695.29018316232, 3341952.8313904665, 1936828.7712633293, 1240009.33330453, 0.0, 148172.5905278679, 249081.0037214039, 983174.5864634356, 0.0]\n",
      "Weights:[74375880.66878499        0.          7179650.07480176 10419463.20158367\n",
      "        0.                0.          4802160.71333097 10382772.0762335\n",
      " -8471657.39047513        0.          1497422.36612413  2613696.54695171\n",
      " -4173839.12195159        0.        ]\n",
      "Coordinate Changes: [5008022.34860906, 0.0, 1612070.781767007, 4324175.86280152, 0.0, 0.0, 896647.032542713, 165006.83695538528, 301508.93193296716, 0.0, 669103.8421177547, 289981.2960814964, 26659.790467990562, 0.0]\n",
      "Weights:[69367858.32017593        0.          8791720.85656877 14743639.06438519\n",
      "        0.                0.          3905513.68078826 10547778.91318889\n",
      " -8170148.45854216        0.           828318.52400637  2323715.25087022\n",
      " -4147179.3314836         0.        ]\n",
      "Coordinate Changes: [4996955.120336808, 0.0, 1073377.8248289675, 4132393.274472121, 0.0, 0.0, 168006.63557303883, 154294.64582455158, 1018369.6125062611, 0.0, 828318.5240063732, 695037.5920068827, 392661.41699417494, 0.0]\n",
      "Weights:[64370903.19983912        0.          9865098.68139774 18876032.33885731\n",
      "        0.                0.          3737507.04521522 10393484.26736434\n",
      " -7151778.8460359         0.                0.          1628677.65886333\n",
      " -3754517.91448942        0.        ]\n",
      "Coordinate Changes: [4988079.048176274, 0.0, 674890.5616032481, 3983240.8993571214, 0.0, 0.0, 10332.858399199322, 141822.8135557361, 1500713.382284712, 0.0, 0.0, 1260402.776330431, 38348.75866518542, 0.0]\n",
      "Weights:[59382824.15166285        0.         10539989.24300098 22859273.23821443\n",
      "        0.                0.          3727174.18681602 10251661.4538086\n",
      " -5651065.46375119        0.                0.           368274.8825329\n",
      " -3792866.67315461        0.        ]\n",
      "Coordinate Changes: [4978035.04735852, 0.0, 303636.1914905105, 3828490.747701708, 0.0, 0.0, 10084.648069122806, 46310.12588476017, 1954639.7407335583, 0.0, 0.0, 368274.882532903, 520978.37178477086, 0.0]\n",
      "Weights:[54404789.10430433        0.         10843625.43449149 26687763.98591614\n",
      "        0.                0.          3737258.83488514 10205351.32792384\n",
      " -3696425.72301763        0.                0.                0.\n",
      " -4313845.04493938        0.        ]\n",
      "Coordinate Changes: [4971369.557393432, 0.0, 81775.34289308265, 3612027.9730578028, 0.0, 0.0, 64264.34866465628, 140827.75331492722, 2495945.7318519503, 0.0, 0.0, 0.0, 665195.1786079258, 0.0]\n",
      "Weights:[49433419.5469109         0.         10761850.09159841 30299791.95897394\n",
      "        0.                0.          3672994.48622048 10064523.57460891\n",
      " -1200479.99116568        0.                0.                0.\n",
      " -4979040.2235473         0.        ]\n",
      "Coordinate Changes: [4967200.918126419, 0.0, 417206.993651323, 3385049.9375044852, 0.0, 0.0, 41542.02477852069, 211456.3654591795, 1200479.991165677, 0.0, 0.0, 0.0, 1144374.279715471, 0.0]\n",
      "Weights:[44466218.62878448        0.         10344643.09794709 33684841.89647843\n",
      "        0.                0.          3631452.46144196  9853067.20914974\n",
      "        0.                0.                0.                0.\n",
      " -3834665.94383183        0.        ]\n",
      "Coordinate Changes: [4962577.515142463, 0.0, 700895.0582846384, 3177811.033545673, 0.0, 0.0, 566.8395368214697, 200869.70780724846, 0.0, 0.0, 0.0, 0.0, 2768192.4524563327, 0.0]\n",
      "Weights:[39503641.11364201        0.          9643748.03966245 36862652.9300241\n",
      "        0.                0.          3630885.62190514  9652197.50134249\n",
      "        0.                0.                0.                0.\n",
      " -1066473.4913755         0.        ]\n",
      "Coordinate Changes: [4957534.135887496, 0.0, 945102.705340622, 2984599.7387408465, 0.0, 0.0, 9096.191751627252, 170088.58197474293, 0.0, 0.0, 0.0, 0.0, 1066473.4913754985, 0.0]\n",
      "Weights:[34546106.97775452        0.          8698645.33432183 39847252.66876495\n",
      "        0.                0.          3639981.81365677  9482108.91936774\n",
      "        0.                0.                0.                0.\n",
      "        0.                0.        ]\n",
      "Coordinate Changes: [2859631.8750535212, 0.0, 1138270.5888517126, 2798662.569449939, 0.0, 0.0, 3946.7266974467784, 150064.38802930154, 0.0, 0.0, 0.0, 0.0, 0.0, 0.0]\n",
      "Weights:[31686475.102701          0.          7560374.74547012 42645915.23821489\n",
      "        0.                0.          3643928.54035422  9332044.53133844\n",
      "        0.                0.                0.                0.\n",
      "        0.                0.        ]\n",
      "Coordinate Changes: [1447085.6656995155, 0.0, 1287790.3043941967, 2621198.426894456, 0.0, 0.0, 2255.9125487785786, 134167.12605012394, 0.0, 0.0, 0.0, 0.0, 0.0, 0.0]\n",
      "Weights:[30239389.43700148        0.          6272584.44107592 45267113.66510934\n",
      "        0.                0.          3646184.452903    9197877.40528832\n",
      "        0.                0.                0.                0.\n",
      "        0.                0.        ]\n",
      "Coordinate Changes: [1148752.3414498903, 0.0, 1402229.9674183205, 2452797.8893651143, 0.0, 0.0, 2096.6069004368037, 119303.49256717786, 0.0, 0.0, 0.0, 0.0, 0.0, 0.0]\n",
      "Weights:[29090637.09555159        0.          4870354.4736576  47719911.55447446\n",
      "        0.                0.          3648281.05980343  9078573.91272114\n",
      "        0.                0.                0.                0.\n",
      "        0.                0.        ]\n",
      "Coordinate Changes: [891503.3180227391, 0.0, 1486612.5137838908, 2293213.864376746, 0.0, 0.0, 1752.5939534511417, 105783.66306067072, 0.0, 0.0, 0.0, 0.0, 0.0, 0.0]\n",
      "Weights:[28199133.77752885        0.          3383741.95987371 50013125.4188512\n",
      "        0.                0.          3650033.65375688  8972790.24966047\n",
      "        0.                0.                0.                0.\n",
      "        0.                0.        ]\n",
      "Coordinate Changes: [670153.1202269383, 0.0, 1545290.5945979683, 2142223.269456096, 0.0, 0.0, 1376.9794397875667, 93638.8896868974, 0.0, 0.0, 0.0, 0.0, 0.0, 0.0]\n",
      "Weights:[27528980.65730191        0.          1838451.36527574 52155348.6883073\n",
      "        0.                0.          3651410.63319667  8879151.35997357\n",
      "        0.                0.                0.                0.\n",
      "        0.                0.        ]\n",
      "Coordinate Changes: [480411.9510487318, 0.0, 1582085.3238424426, 1999578.1682316214, 0.0, 0.0, 1034.8749409765005, 82771.92015283182, 0.0, 0.0, 0.0, 0.0, 0.0, 0.0]\n",
      "Weights:[27048568.70625318        0.           256366.0414333  54154926.85653892\n",
      "        0.                0.          3652445.50813765  8796379.43982074\n",
      "        0.                0.                0.                0.\n",
      "        0.                0.        ]\n",
      "Coordinate Changes: [318496.658462774, 0.0, 256366.0414332971, 569574.9077939764, 0.0, 0.0, 18895.93312601745, 43371.71576429531, 0.0, 0.0, 0.0, 0.0, 0.0, 0.0]\n",
      "Weights:[26730072.04779041        0.                0.         54724501.7643329\n",
      "        0.                0.          3671341.44126366  8753007.72405645\n",
      "        0.                0.                0.                0.\n",
      "        0.                0.        ]\n",
      "Coordinate Changes: [269108.56921534985, 0.0, 0.0, 260255.36581592262, 0.0, 0.0, 9527.805447544903, 23429.19888311997, 0.0, 0.0, 0.0, 0.0, 0.0, 0.0]\n",
      "Weights:[26460963.47857506        0.                0.         54984757.13014882\n",
      "        0.                0.          3680869.24671121  8729578.52517333\n",
      "        0.                0.                0.                0.\n",
      "        0.                0.        ]\n",
      "Coordinate Changes: [232054.52688244358, 0.0, 0.0, 219967.74696552753, 0.0, 0.0, 3052.3567506186664, 16414.73941605538, 0.0, 0.0, 0.0, 0.0, 0.0, 0.0]\n",
      "Weights:[26228908.95169261        0.                0.         55204724.87711435\n",
      "        0.                0.          3683921.60346183  8713163.78575727\n",
      "        0.                0.                0.                0.\n",
      "        0.                0.        ]\n",
      "Coordinate Changes: [196688.6710346602, 0.0, 0.0, 185753.13699563593, 0.0, 0.0, 1265.0372288767248, 13112.609263420105, 0.0, 0.0, 0.0, 0.0, 0.0, 0.0]\n",
      "Weights:[26032220.28065795        0.                0.         55390478.01410998\n",
      "        0.                0.          3685186.6406907   8700051.17649385\n",
      "        0.                0.                0.                0.\n",
      "        0.                0.        ]\n",
      "Coordinate Changes: [166199.97217084467, 0.0, 0.0, 156832.8937310353, 0.0, 0.0, 774.984704175964, 10912.2152292002, 0.0, 0.0, 0.0, 0.0, 0.0, 0.0]\n",
      "Weights:[25866020.30848711        0.                0.         55547310.90784102\n",
      "        0.                0.          3685961.62539488  8689138.96126465\n",
      "        0.                0.                0.                0.\n",
      "        0.                0.        ]\n",
      "Coordinate Changes: [140344.99570980668, 0.0, 0.0, 132410.0743694678, 0.0, 0.0, 591.9268401451409, 9179.688385866582, 0.0, 0.0, 0.0, 0.0, 0.0, 0.0]\n",
      "Weights:[25725675.3127773         0.                0.         55679720.98221049\n",
      "        0.                0.          3686553.55223503  8679959.27287878\n",
      "        0.                0.                0.                0.\n",
      "        0.                0.        ]\n",
      "Coordinate Changes: [118494.05305193737, 0.0, 0.0, 111789.45465013385, 0.0, 0.0, 486.6870174203068, 7743.196641841903, 0.0, 0.0, 0.0, 0.0, 0.0, 0.0]\n",
      "Weights:[25607181.25972537        0.                0.         55791510.43686062\n",
      "        0.                0.          3687040.23925245  8672216.07623694\n",
      "        0.                0.                0.                0.\n",
      "        0.                0.        ]\n",
      "Coordinate Changes: [100041.5041323863, 0.0, 0.0, 94379.9318247065, 0.0, 0.0, 408.17537480406463, 6535.875340281054, 0.0, 0.0, 0.0, 0.0, 0.0, 0.0]\n",
      "Weights:[25507139.75559298        0.                0.         55885890.36868533\n",
      "        0.                0.          3687448.41462725  8665680.20089666\n",
      "        0.                0.                0.                0.\n",
      "        0.                0.        ]\n"
     ]
    },
    {
     "name": "stdout",
     "output_type": "stream",
     "text": [
      "Coordinate Changes: [84461.73118113726, 0.0, 0.0, 79681.63555707783, 0.0, 0.0, 344.0436555277556, 5517.71038996242, 0.0, 0.0, 0.0, 0.0, 0.0, 0.0]\n",
      "Weights:[25422678.02441184        0.                0.         55965572.00424241\n",
      "        0.                0.          3687792.45828278  8660162.4905067\n",
      "        0.                0.                0.                0.\n",
      "        0.                0.        ]\n",
      "Coordinate Changes: [71308.08790550008, 0.0, 0.0, 67272.37514963746, 0.0, 0.0, 290.346722971648, 4658.345149276778, 0.0, 0.0, 0.0, 0.0, 0.0, 0.0]\n",
      "Weights:[25351369.93650634        0.                0.         56032844.37939204\n",
      "        0.                0.          3688082.80500575  8655504.14535742\n",
      "        0.                0.                0.                0.\n",
      "        0.                0.        ]\n",
      "Coordinate Changes: [60202.89413273707, 0.0, 0.0, 56795.67538076639, 0.0, 0.0, 245.10512149706483, 3932.8624292146415, 0.0, 0.0, 0.0, 0.0, 0.0, 0.0]\n",
      "Weights:[25291167.04237361        0.                0.         56089640.05477281\n",
      "        0.                0.          3688327.91012725  8651571.28292821\n",
      "        0.                0.                0.                0.\n",
      "        0.                0.        ]\n",
      "Coordinate Changes: [50827.165455147624, 0.0, 0.0, 47950.56972913444, 0.0, 0.0, 206.928500700742, 3320.3732835967094, 0.0, 0.0, 0.0, 0.0, 0.0, 0.0]\n",
      "Weights:[25240339.87691846        0.                0.         56137590.62450194\n",
      "        0.                0.          3688534.83862795  8648250.90964461\n",
      "        0.                0.                0.                0.\n",
      "        0.                0.        ]\n",
      "Coordinate Changes: [42911.56930943951, 0.0, 0.0, 40482.96137530357, 0.0, 0.0, 174.7013312485069, 2803.2725724615157, 0.0, 0.0, 0.0, 0.0, 0.0, 0.0]\n",
      "Weights:[25197428.30760902        0.                0.         56178073.58587725\n",
      "        0.                0.          3688709.5399592   8645447.63707215\n",
      "        0.                0.                0.                0.\n",
      "        0.                0.        ]\n",
      "Coordinate Changes: [36228.71252864972, 0.0, 0.0, 34178.32509868592, 0.0, 0.0, 147.49390653707087, 2366.70326044783, 0.0, 0.0, 0.0, 0.0, 0.0, 0.0]\n",
      "Weights:[25161199.59508037        0.                0.         56212251.91097593\n",
      "        0.                0.          3688857.03386573  8643080.9338117\n",
      "        0.                0.                0.                0.\n",
      "        0.                0.        ]\n",
      "Coordinate Changes: [30586.61405248195, 0.0, 0.0, 28855.544820182025, 0.0, 0.0, 124.52381662651896, 1998.1234013978392, 0.0, 0.0, 0.0, 0.0, 0.0, 0.0]\n",
      "Weights:[25130612.98102789        0.                0.         56241107.45579612\n",
      "        0.                0.          3688981.55768236  8641082.8104103\n",
      "        0.                0.                0.                0.\n",
      "        0.                0.        ]\n",
      "Coordinate Changes: [25823.190874714404, 0.0, 0.0, 24361.710658997297, 0.0, 0.0, 105.13102214410901, 1686.9445484764874, 0.0, 0.0, 0.0, 0.0, 0.0, 0.0]\n",
      "Weights:[25104789.79015317        0.                0.         56265469.16645511\n",
      "        0.                0.          3689086.6887045   8639395.86586183\n",
      "        0.                0.                0.                0.\n",
      "        0.                0.        ]\n",
      "Coordinate Changes: [21801.60202524066, 0.0, 0.0, 20567.72623512149, 0.0, 0.0, 88.75838261656463, 1424.227309409529, 0.0, 0.0, 0.0, 0.0, 0.0, 0.0]\n",
      "Weights:[25082988.18812793        0.                0.         56286036.89269023\n",
      "        0.                0.          3689175.44708712  8637971.63855242\n",
      "        0.                0.                0.                0.\n",
      "        0.                0.        ]\n",
      "Coordinate Changes: [18406.317529268563, 0.0, 0.0, 17364.6000642851, 0.0, 0.0, 74.93554669991136, 1202.42448480241, 0.0, 0.0, 0.0, 0.0, 0.0, 0.0]\n",
      "Weights:[25064581.87059866        0.                0.         56303401.49275452\n",
      "        0.                0.          3689250.38263382  8636769.21406761\n",
      "        0.                0.                0.                0.\n",
      "        0.                0.        ]\n",
      "Coordinate Changes: [15539.799533456564, 0.0, 0.0, 14660.314511448145, 0.0, 0.0, 63.26541795022786, 1015.1642454955727, 0.0, 0.0, 0.0, 0.0, 0.0, 0.0]\n",
      "Weights:[25049042.07106521        0.                0.         56318061.80726597\n",
      "        0.                0.          3689313.64805177  8635754.04982212\n",
      "        0.                0.                0.                0.\n",
      "        0.                0.        ]\n",
      "Coordinate Changes: [13119.700296498835, 0.0, 0.0, 12377.182358302176, 0.0, 0.0, 53.412743255496025, 857.0670826248825, 0.0, 0.0, 0.0, 0.0, 0.0, 0.0]\n",
      "Weights:[25035922.37076871        0.                0.         56330438.98962427\n",
      "        0.                0.          3689367.06079503  8634896.98273949\n",
      "        0.                0.                0.                0.\n",
      "        0.                0.        ]\n",
      "Coordinate Changes: [11076.496546119452, 0.0, 0.0, 10449.61504779756, 0.0, 0.0, 45.094480253756046, 723.5912684835494, 0.0, 0.0, 0.0, 0.0, 0.0, 0.0]\n",
      "Weights:[25024845.87422259        0.                0.         56340888.60467207\n",
      "        0.                0.          3689412.15527528  8634173.39147101\n",
      "        0.                0.                0.                0.\n",
      "        0.                0.        ]\n",
      "Coordinate Changes: [9351.49225686118, 0.0, 0.0, 8822.238494366407, 0.0, 0.0, 38.07166646420956, 610.9023839868605, 0.0, 0.0, 0.0, 0.0, 0.0, 0.0]\n",
      "Weights:[25015494.38196573        0.                0.         56349710.84316643\n",
      "        0.                0.          3689450.22694174  8633562.48908702\n",
      "        0.                0.                0.                0.\n",
      "        0.                0.        ]\n",
      "Coordinate Changes: [7895.132461044937, 0.0, 0.0, 7448.302324786782, 0.0, 0.0, 32.14255456440151, 515.7631648592651, 0.0, 0.0, 0.0, 0.0, 0.0, 0.0]\n",
      "Weights:[25007599.24950468        0.                0.         56357159.14549122\n",
      "        0.                0.          3689482.36949631  8633046.72592216\n",
      "        0.                0.                0.                0.\n",
      "        0.                0.        ]\n",
      "Coordinate Changes: [6665.579659886658, 0.0, 0.0, 6288.33686119318, 0.0, 0.0, 27.13681610301137, 435.44050450623035, 0.0, 0.0, 0.0, 0.0, 0.0, 0.0]\n",
      "Weights:[25000933.6698448         0.                0.         56363447.48235241\n",
      "        0.                0.          3689509.50631241  8632611.28541766\n",
      "        0.                0.                0.                0.\n",
      "        0.                0.        ]\n",
      "Coordinate Changes: [5627.5119417868555, 0.0, 0.0, 5309.019257053733, 0.0, 0.0, 22.91064926609397, 367.6269374601543, 0.0, 0.0, 0.0, 0.0, 0.0, 0.0]\n",
      "Weights:[24995306.15790301        0.                0.         56368756.50160947\n",
      "        0.                0.          3689532.41696168  8632243.6584802\n",
      "        0.                0.                0.                0.\n",
      "        0.                0.        ]\n",
      "Coordinate Changes: [4751.1082701087, 0.0, 0.0, 4482.216219961643, 0.0, 0.0, 19.342646472156048, 310.3743541520089, 0.0, 0.0, 0.0, 0.0, 0.0, 0.0]\n",
      "Weights:[24990555.0496329         0.                0.         56373238.71782943\n",
      "        0.                0.          3689551.75960815  8631933.28412605\n",
      "        0.                0.                0.                0.\n",
      "        0.                0.        ]\n",
      "Coordinate Changes: [4011.1918078027666, 0.0, 0.0, 3784.1758084520698, 0.0, 0.0, 16.330308932811022, 262.0380330067128, 0.0, 0.0, 0.0, 0.0, 0.0, 0.0]\n",
      "Weights:[24986543.8578251         0.                0.         56377022.89363788\n",
      "        0.                0.          3689568.08991708  8631671.24609304\n",
      "        0.                0.                0.                0.\n",
      "        0.                0.        ]\n",
      "Coordinate Changes: [3386.5066424310207, 0.0, 0.0, 3194.8451047092676, 0.0, 0.0, 13.787099227309227, 221.22939563915133, 0.0, 0.0, 0.0, 0.0, 0.0, 0.0]\n",
      "Weights:[24983157.35118267        0.                0.         56380217.73874259\n",
      "        0.                0.          3689581.87701631  8631450.0166974\n",
      "        0.                0.                0.                0.\n",
      "        0.                0.        ]\n",
      "Coordinate Changes: [2859.10716541484, 0.0, 0.0, 2697.294143475592, 0.0, 0.0, 11.639957658946514, 186.77611405402422, 0.0, 0.0, 0.0, 0.0, 0.0, 0.0]\n",
      "Weights:[24980298.24401725        0.                0.         56382915.03288607\n",
      "        0.                0.          3689593.51697397  8631263.24058335\n",
      "        0.                0.                0.                0.\n",
      "        0.                0.        ]\n",
      "Coordinate Changes: [2413.8425369523466, 0.0, 0.0, 2277.2295550107956, 0.0, 0.0, 9.827202508226037, 157.68843308649957, 0.0, 0.0, 0.0, 0.0, 0.0, 0.0]\n",
      "Weights:[24977884.4014803         0.                0.         56385192.26244108\n",
      "        0.                0.          3689603.34417648  8631105.55215026\n",
      "        0.                0.                0.                0.\n",
      "        0.                0.        ]\n",
      "Coordinate Changes: [2037.9214406497777, 0.0, 0.0, 1922.5839561000466, 0.0, 0.0, 8.296757778152823, 133.13073795102537, 0.0, 0.0, 0.0, 0.0, 0.0, 0.0]\n",
      "Weights:[24975846.48003965        0.                0.         56387114.84639718\n",
      "        0.                0.          3689611.64093425  8630972.42141231\n",
      "        0.                0.                0.                0.\n",
      "        0.                0.        ]\n",
      "Coordinate Changes: [1720.544622514397, 0.0, 0.0, 1623.169285170734, 0.0, 0.0, 7.004657505080104, 112.39754935353994, 0.0, 0.0, 0.0, 0.0, 0.0, 0.0]\n",
      "Weights:[24974125.93541713        0.                0.         56388738.01568235\n",
      "        0.                0.          3689618.64559176  8630860.02386295\n",
      "        0.                0.                0.                0.\n",
      "        0.                0.        ]\n",
      "Coordinate Changes: [1452.594658728689, 0.0, 0.0, 1370.3841229602695, 0.0, 0.0, 5.9137834049761295, 94.89325507543981, 0.0, 0.0, 0.0, 0.0, 0.0, 0.0]\n",
      "Weights:[24972673.34075841        0.                0.         56390108.39980531\n",
      "        0.                0.          3689624.55937517  8630765.13060788\n",
      "        0.                0.                0.                0.\n",
      "        0.                0.        ]\n",
      "Coordinate Changes: [1226.3740295432508, 0.0, 0.0, 1156.9665966182947, 0.0, 0.0, 4.992797100916505, 80.11500162445009, 0.0, 0.0, 0.0, 0.0, 0.0, 0.0]\n",
      "Weights:[24971446.96672886        0.                0.         56391265.36640193\n",
      "        0.                0.          3689629.55217227  8630685.01560625\n",
      "        0.                0.                0.                0.\n",
      "        0.                0.        ]\n",
      "Coordinate Changes: [1035.383994486183, 0.0, 0.0, 976.7857668548822, 0.0, 0.0, 4.215240992605686, 67.6382478736341, 0.0, 0.0, 0.0, 0.0, 0.0, 0.0]\n",
      "Weights:[24970411.58273438        0.                0.         56392242.15216878\n",
      "        0.                0.          3689633.76741326  8630617.37735838\n",
      "        0.                0.                0.                0.\n",
      "        0.                0.        ]\n"
     ]
    },
    {
     "name": "stdout",
     "output_type": "stream",
     "text": [
      "Coordinate Changes: [874.1378983296454, 0.0, 0.0, 824.6654974892735, 0.0, 0.0, 3.558778215199709, 57.10456804931164, 0.0, 0.0, 0.0, 0.0, 0.0, 0.0]\n",
      "Weights:[24969537.44483605        0.                0.         56393066.81766627\n",
      "        0.                0.          3689637.32619147  8630560.27279033\n",
      "        0.                0.                0.                0.\n",
      "        0.                0.        ]\n",
      "Coordinate Changes: [738.0035510025918, 0.0, 0.0, 696.2357611209154, 0.0, 0.0, 3.0045500062406063, 48.21135640144348, 0.0, 0.0, 0.0, 0.0, 0.0, 0.0]\n",
      "Weights:[24968799.44128504        0.                0.         56393763.05342739\n",
      "        0.                0.          3689640.33074148  8630512.06143393\n",
      "        0.                0.                0.                0.\n",
      "        0.                0.        ]\n",
      "Coordinate Changes: [623.0701611749828, 0.0, 0.0, 587.8071024045348, 0.0, 0.0, 2.5366344824433327, 40.70313461124897, 0.0, 0.0, 0.0, 0.0, 0.0, 0.0]\n",
      "Weights:[24968176.37112387        0.                0.         56394350.8605298\n",
      "        0.                0.          3689642.86737596  8630471.35829932\n",
      "        0.                0.                0.                0.\n",
      "        0.                0.        ]\n",
      "Coordinate Changes: [526.0359871350229, 0.0, 0.0, 496.26463966071606, 0.0, 0.0, 2.141590505838394, 34.364209493622184, 0.0, 0.0, 0.0, 0.0, 0.0, 0.0]\n",
      "Weights:[24967650.33513673        0.                0.         56394847.12516946\n",
      "        0.                0.          3689645.00896647  8630436.99408983\n",
      "        0.                0.                0.                0.\n",
      "        0.                0.        ]\n",
      "Coordinate Changes: [444.11348289623857, 0.0, 0.0, 418.9785925075412, 0.0, 0.0, 1.808068735525012, 29.012480340898037, 0.0, 0.0, 0.0, 0.0, 0.0, 0.0]\n",
      "Weights:[24967206.22165384        0.                0.         56395266.10376196\n",
      "        0.                0.          3689646.8170352   8630407.98160948\n",
      "        0.                0.                0.                0.\n",
      "        0.                0.        ]\n",
      "Coordinate Changes: [374.94922502711415, 0.0, 0.0, 353.72873079776764, 0.0, 0.0, 1.5264881066977978, 24.494205808266997, 0.0, 0.0, 0.0, 0.0, 0.0, 0.0]\n",
      "Weights:[24966831.27242881        0.                0.         56395619.83249276\n",
      "        0.                0.          3689648.34352331  8630383.48740368\n",
      "        0.                0.                0.                0.\n",
      "        0.                0.        ]\n",
      "Coordinate Changes: [316.55630096048117, 0.0, 0.0, 298.6405917033553, 0.0, 0.0, 1.2887597158551216, 20.679586991667747, 0.0, 0.0, 0.0, 0.0, 0.0, 0.0]\n",
      "Weights:[24966514.71612785        0.                0.         56395918.47308446\n",
      "        0.                0.          3689649.63228303  8630362.80781668\n",
      "        0.                0.                0.                0.\n",
      "        0.                0.        ]\n",
      "Coordinate Changes: [267.257230874151, 0.0, 0.0, 252.13163493573666, 0.0, 0.0, 1.08805388584733, 17.459040265530348, 0.0, 0.0, 0.0, 0.0, 0.0, 0.0]\n",
      "Weights:[24966247.45889698        0.                0.         56396170.6047194\n",
      "        0.                0.          3689650.72033691  8630345.34877642\n",
      "        0.                0.                0.                0.\n",
      "        0.                0.        ]\n",
      "Coordinate Changes: [225.63577922433615, 0.0, 0.0, 212.865776181221, 0.0, 0.0, 0.918605275452137, 14.740047039464116, 0.0, 0.0, 0.0, 0.0, 0.0, 0.0]\n",
      "Weights:[24966021.82311775        0.                0.         56396383.47049558\n",
      "        0.                0.          3689651.63894219  8630330.60872938\n",
      "        0.                0.                0.                0.\n",
      "        0.                0.        ]\n",
      "Coordinate Changes: [190.49626680463552, 0.0, 0.0, 179.71500731259584, 0.0, 0.0, 0.7755457777529955, 12.444497715681791, 0.0, 0.0, 0.0, 0.0, 0.0, 0.0]\n",
      "Weights:[24965831.32685095        0.                0.         56396563.18550289\n",
      "        0.                0.          3689652.41448797  8630318.16423166\n",
      "        0.                0.                0.                0.\n",
      "        0.                0.        ]\n",
      "Coordinate Changes: [160.82922596856952, 0.0, 0.0, 151.72699157893658, 0.0, 0.0, 0.6547657698392868, 10.506446916610003, 0.0, 0.0, 0.0, 0.0, 0.0, 0.0]\n",
      "Weights:[24965670.49762498        0.                0.         56396714.91249447\n",
      "        0.                0.          3689653.06925374  8630307.65778475\n",
      "        0.                0.                0.                0.\n",
      "        0.                0.        ]\n",
      "Coordinate Changes: [135.78239788487554, 0.0, 0.0, 128.0977050885558, 0.0, 0.0, 0.5527954064309597, 8.870219685137272, 0.0, 0.0, 0.0, 0.0, 0.0, 0.0]\n",
      "Weights:[24965534.71522709        0.                0.         56396843.01019956\n",
      "        0.                0.          3689653.62204914  8630298.78756506\n",
      "        0.                0.                0.                0.\n",
      "        0.                0.        ]\n",
      "Coordinate Changes: [114.63625112175941, 0.0, 0.0, 108.14833813905716, 0.0, 0.0, 0.46670555509626865, 7.488811071962118, 0.0, 0.0, 0.0, 0.0, 0.0, 0.0]\n",
      "Weights:[24965420.07897597        0.                0.         56396951.1585377\n",
      "        0.                0.          3689654.0887547   8630291.29875399\n",
      "        0.                0.                0.                0.\n",
      "        0.                0.        ]\n",
      "Coordinate Changes: [96.78331143781543, 0.0, 0.0, 91.30579756945372, 0.0, 0.0, 0.39402282051742077, 6.322537137195468, 0.0, 0.0, 0.0, 0.0, 0.0, 0.0]\n",
      "Weights:[24965323.29566453        0.                0.         56397042.46433527\n",
      "        0.                0.          3689654.48277752  8630284.97621685\n",
      "        0.                0.                0.                0.\n",
      "        0.                0.        ]\n",
      "Coordinate Changes: [81.71070959791541, 0.0, 0.0, 77.08623883128166, 0.0, 0.0, 0.33265959471464157, 5.337893145158887, 0.0, 0.0, 0.0, 0.0, 0.0, 0.0]\n",
      "Weights:[24965241.58495494        0.                0.         56397119.5505741\n",
      "        0.                0.          3689654.81543711  8630279.63832371\n",
      "        0.                0.                0.                0.\n",
      "        0.                0.        ]\n",
      "Coordinate Changes: [68.98544699698687, 0.0, 0.0, 65.08117071539164, 0.0, 0.0, 0.280852597206831, 4.506593395024538, 0.0, 0.0, 0.0, 0.0, 0.0, 0.0]\n",
      "Weights:[24965172.59950794        0.                0.         56397184.63174482\n",
      "        0.                0.          3689655.09628971  8630275.13173031\n",
      "        0.                0.                0.                0.\n",
      "        0.                0.        ]\n",
      "Coordinate Changes: [58.241960257291794, 0.0, 0.0, 54.94571930915117, 0.0, 0.0, 0.23711377196013927, 3.804756835103035, 0.0, 0.0, 0.0, 0.0, 0.0, 0.0]\n",
      "Weights:[24965114.35754768        0.                0.         56397239.57746413\n",
      "        0.                0.          3689655.33340348  8630271.32697348\n",
      "        0.                0.                0.                0.\n",
      "        0.                0.        ]\n",
      "Coordinate Changes: [49.17161688953638, 0.0, 0.0, 46.38871742039919, 0.0, 0.0, 0.20018686912953854, 3.212220823392272, 0.0, 0.0, 0.0, 0.0, 0.0, 0.0]\n",
      "Weights:[24965065.18593079        0.                0.         56397285.96618155\n",
      "        0.                0.          3689655.53359035  8630268.11475265\n",
      "        0.                0.                0.                0.\n",
      "        0.                0.        ]\n",
      "Coordinate Changes: [41.513848185539246, 0.0, 0.0, 39.16434522718191, 0.0, 0.0, 0.16901058703660965, 2.711963899433613, 0.0, 0.0, 0.0, 0.0, 0.0, 0.0]\n",
      "Weights:[24965023.67208261        0.                0.         56397325.13052677\n",
      "        0.                0.          3689655.70260094  8630265.40278875\n",
      "        0.                0.                0.                0.\n",
      "        0.                0.        ]\n",
      "Coordinate Changes: [35.048666298389435, 0.0, 0.0, 33.06506434828043, 0.0, 0.0, 0.14268966764211655, 2.2896146532148123, 0.0, 0.0, 0.0, 0.0, 0.0, 0.0]\n",
      "Weights:[24964988.62341631        0.                0.         56397358.19559112\n",
      "        0.                0.          3689655.8452906   8630263.1131741\n",
      "        0.                0.                0.                0.\n",
      "        0.                0.        ]\n",
      "Coordinate Changes: [29.590342827141285, 0.0, 0.0, 27.915657989680767, 0.0, 0.0, 0.12046782486140728, 1.9330402221530676, 0.0, 0.0, 0.0, 0.0, 0.0, 0.0]\n",
      "Weights:[24964959.03307348        0.                0.         56397386.11124911\n",
      "        0.                0.          3689655.96575843  8630261.18013388\n",
      "        0.                0.                0.                0.\n",
      "        0.                0.        ]\n"
     ]
    },
    {
     "name": "stdout",
     "output_type": "stream",
     "text": [
      "Coordinate Changes: [24.98207462951541, 0.0, 0.0, 23.568197667598724, 0.0, 0.0, 0.10170669108629227, 1.6319970581680536, 0.0, 0.0, 0.0, 0.0, 0.0, 0.0]\n",
      "Weights:[24964934.05099885        0.                0.         56397409.67944678\n",
      "        0.                0.          3689656.06746512  8630259.54813682\n",
      "        0.                0.                0.                0.\n",
      "        0.                0.        ]\n",
      "Coordinate Changes: [21.09147708117962, 0.0, 0.0, 19.897790998220444, 0.0, 0.0, 0.08586732670664787, 1.3778371158987284, 0.0, 0.0, 0.0, 0.0, 0.0, 0.0]\n",
      "Weights:[24964912.95952177        0.                0.         56397429.57723778\n",
      "        0.                0.          3689656.15333245  8630258.17029971\n",
      "        0.                0.                0.                0.\n",
      "        0.                0.        ]\n",
      "Coordinate Changes: [17.806784011423588, 0.0, 0.0, 16.79899785667658, 0.0, 0.0, 0.07249468564987183, 1.163258995860815, 0.0, 0.0, 0.0, 0.0, 0.0, 0.0]\n",
      "Weights:[24964895.15273776        0.                0.         56397446.37623563\n",
      "        0.                0.          3689656.22582713  8630257.00704071\n",
      "        0.                0.                0.                0.\n",
      "        0.                0.        ]\n",
      "Coordinate Changes: [15.033634930849075, 0.0, 0.0, 14.182796128094196, 0.0, 0.0, 0.0612048115581274, 0.9820980075746775, 0.0, 0.0, 0.0, 0.0, 0.0, 0.0]\n",
      "Weights:[24964880.11910283        0.                0.         56397460.55903176\n",
      "        0.                0.          3689656.28703194  8630256.0249427\n",
      "        0.                0.                0.                0.\n",
      "        0.                0.        ]\n",
      "Coordinate Changes: [12.692363131791353, 0.0, 0.0, 11.97403059154749, 0.0, 0.0, 0.05167292058467865, 0.8291505090892315, 0.0, 0.0, 0.0, 0.0, 0.0, 0.0]\n",
      "Weights:[24964867.4267397         0.                0.         56397472.53306235\n",
      "        0.                0.          3689656.33870487  8630255.19579219\n",
      "        0.                0.                0.                0.\n",
      "        0.                0.        ]\n",
      "Coordinate Changes: [10.715710997581482, 0.0, 0.0, 10.109249100089073, 0.0, 0.0, 0.04362555220723152, 0.7000225707888603, 0.0, 0.0, 0.0, 0.0, 0.0, 0.0]\n",
      "Weights:[24964856.7110287         0.                0.         56397482.64231145\n",
      "        0.                0.          3689656.38233042  8630254.49576962\n",
      "        0.                0.                0.                0.\n",
      "        0.                0.        ]\n",
      "Coordinate Changes: [9.04689433798194, 0.0, 0.0, 8.534879490733147, 0.0, 0.0, 0.036831680685281754, 0.5910040214657784, 0.0, 0.0, 0.0, 0.0, 0.0, 0.0]\n",
      "Weights:[24964847.66413436        0.                0.         56397491.17719094\n",
      "        0.                0.          3689656.4191621   8630253.9047656\n",
      "        0.                0.                0.                0.\n",
      "        0.                0.        ]\n",
      "Coordinate Changes: [7.637971166521311, 0.0, 0.0, 7.205695316195488, 0.0, 0.0, 0.0310955997556448, 0.49896366335451603, 0.0, 0.0, 0.0, 0.0, 0.0, 0.0]\n",
      "Weights:[24964840.02616319        0.                0.         56397498.38288626\n",
      "        0.                0.          3689656.4502577   8630253.40580194\n",
      "        0.                0.                0.                0.\n",
      "        0.                0.        ]\n",
      "Coordinate Changes: [6.448467653244734, 0.0, 0.0, 6.083512172102928, 0.0, 0.0, 0.026252951472997665, 0.42125722393393517, 0.0, 0.0, 0.0, 0.0, 0.0, 0.0]\n",
      "Weights:[24964833.57769554        0.                0.         56397504.46639843\n",
      "        0.                0.          3689656.47651065  8630252.98454471\n",
      "        0.                0.                0.                0.\n",
      "        0.                0.        ]\n",
      "Coordinate Changes: [5.4442119635641575, 0.0, 0.0, 5.136093221604824, 0.0, 0.0, 0.022164376452565193, 0.3556525129824877, 0.0, 0.0, 0.0, 0.0, 0.0, 0.0]\n",
      "Weights:[24964828.13348358        0.                0.         56397509.60249165\n",
      "        0.                0.          3689656.49867503  8630252.6288922\n",
      "        0.                0.                0.                0.\n",
      "        0.                0.        ]\n",
      "Coordinate Changes: [4.596354618668556, 0.0, 0.0, 4.336221136152744, 0.0, 0.0, 0.018712574616074562, 0.30026485957205296, 0.0, 0.0, 0.0, 0.0, 0.0, 0.0]\n",
      "Weights:[24964823.53712896        0.                0.         56397513.93871279\n",
      "        0.                0.          3689656.5173876   8630252.32862734\n",
      "        0.                0.                0.                0.\n",
      "        0.                0.        ]\n",
      "Coordinate Changes: [3.8805388025939465, 0.0, 0.0, 3.660917066037655, 0.0, 0.0, 0.015798432752490044, 0.25350289046764374, 0.0, 0.0, 0.0, 0.0, 0.0, 0.0]\n",
      "Weights:[24964819.65659016        0.                0.         56397517.59962986\n",
      "        0.                0.          3689656.53318603  8630252.07512445\n",
      "        0.                0.                0.                0.\n",
      "        0.                0.        ]\n",
      "Coordinate Changes: [3.276200730353594, 0.0, 0.0, 3.0907827615737915, 0.0, 0.0, 0.013337941840291023, 0.21402368880808353, 0.0, 0.0, 0.0, 0.0, 0.0, 0.0]\n",
      "Weights:[24964816.38038943        0.                0.         56397520.69041262\n",
      "        0.                0.          3689656.54652398  8630251.86110076\n",
      "        0.                0.                0.                0.\n",
      "        0.                0.        ]\n",
      "Coordinate Changes: [2.765980649739504, 0.0, 0.0, 2.609437510371208, 0.0, 0.0, 0.01126096397638321, 0.18069226294755936, 0.0, 0.0, 0.0, 0.0, 0.0, 0.0]\n",
      "Weights:[24964813.61440878        0.                0.         56397523.29985013\n",
      "        0.                0.          3689656.55778494  8630251.6804085\n",
      "        0.                0.                0.                0.\n",
      "        0.                0.        ]\n",
      "Coordinate Changes: [2.335218232125044, 0.0, 0.0, 2.2030547857284546, 0.0, 0.0, 0.009507086127996445, 0.1525520533323288, 0.0, 0.0, 0.0, 0.0, 0.0, 0.0]\n",
      "Weights:[24964811.27919054        0.                0.         56397525.50290491\n",
      "        0.                0.          3689656.56729203  8630251.52785644\n",
      "        0.                0.                0.                0.\n",
      "        0.                0.        ]\n",
      "Coordinate Changes: [1.9715417735278606, 0.0, 0.0, 1.8599613383412361, 0.0, 0.0, 0.008026434108614922, 0.12879445031285286, 0.0, 0.0, 0.0, 0.0, 0.0, 0.0]\n",
      "Weights:[24964809.30764877        0.                0.         56397527.36286625\n",
      "        0.                0.          3689656.57531846  8630251.39906199\n",
      "        0.                0.                0.                0.\n",
      "        0.                0.        ]\n",
      "Coordinate Changes: [1.6645027957856655, 0.0, 0.0, 1.5702990889549255, 0.0, 0.0, 0.006776545196771622, 0.10873647779226303, 0.0, 0.0, 0.0, 0.0, 0.0, 0.0]\n",
      "Weights:[24964807.64314597        0.                0.         56397528.93316534\n",
      "        0.                0.          3689656.582095    8630251.29032552\n",
      "        0.                0.                0.                0.\n",
      "        0.                0.        ]\n",
      "Coordinate Changes: [1.4052802734076977, 0.0, 0.0, 1.325747735798359, 0.0, 0.0, 0.0057211220264434814, 0.09180241823196411, 0.0, 0.0, 0.0, 0.0, 0.0, 0.0]\n",
      "Weights:[24964806.2378657         0.                0.         56397530.25891308\n",
      "        0.                0.          3689656.58781613  8630251.1985231\n",
      "        0.                0.                0.                0.\n",
      "        0.                0.        ]\n",
      "Coordinate Changes: [1.1864286288619041, 0.0, 0.0, 1.1192824766039848, 0.0, 0.0, 0.004830118268728256, 0.0775056928396225, 0.0, 0.0, 0.0, 0.0, 0.0, 0.0]\n",
      "Weights:[24964805.05143707        0.                0.         56397531.37819555\n",
      "        0.                0.          3689656.59264624  8630251.12101741\n",
      "        0.                0.                0.                0.\n",
      "        0.                0.        ]\n",
      "Coordinate Changes: [1.0016597732901573, 0.0, 0.0, 0.9449693784117699, 0.0, 0.0, 0.004078105092048645, 0.06543492898344994, 0.0, 0.0, 0.0, 0.0, 0.0, 0.0]\n",
      "Weights:[24964804.0497773         0.                0.         56397532.32316493\n",
      "        0.                0.          3689656.59672435  8630251.05558248\n",
      "        0.                0.                0.                0.\n",
      "        0.                0.        ]\n",
      "Coordinate Changes: [0.8456649929285049, 0.0, 0.0, 0.79780413210392, 0.0, 0.0, 0.003442784771323204, 0.05524455942213535, 0.0, 0.0, 0.0, 0.0, 0.0, 0.0]\n"
     ]
    }
   ],
   "source": [
    "weights1e7 = lasso_cyclical_coordinate_descent(norm_feat_matrix, output,\n",
    "                                            initial_weights, l1_penalty, tolerance)"
   ]
  },
  {
   "cell_type": "code",
   "execution_count": 118,
   "metadata": {
    "scrolled": true
   },
   "outputs": [
    {
     "data": {
      "text/plain": [
       "array([24964803.20411231,        0.        ,        0.        ,\n",
       "       56397533.12096906,        0.        ,        0.        ,\n",
       "        3689656.60016713,  8630251.00033792,        0.        ,\n",
       "              0.        ,        0.        ,        0.        ,\n",
       "              0.        ,        0.        ])"
      ]
     },
     "execution_count": 118,
     "metadata": {},
     "output_type": "execute_result"
    }
   ],
   "source": [
    "weights1e7"
   ]
  },
  {
   "cell_type": "code",
   "execution_count": 96,
   "metadata": {},
   "outputs": [
    {
     "data": {
      "text/plain": [
       "['bedrooms',\n",
       " 'bathrooms',\n",
       " 'sqft_living',\n",
       " 'sqft_lot',\n",
       " 'floors',\n",
       " 'waterfront',\n",
       " 'view',\n",
       " 'condition',\n",
       " 'grade',\n",
       " 'sqft_above',\n",
       " 'sqft_basement',\n",
       " 'yr_built',\n",
       " 'yr_renovated']"
      ]
     },
     "execution_count": 96,
     "metadata": {},
     "output_type": "execute_result"
    }
   ],
   "source": [
    "all_features"
   ]
  },
  {
   "cell_type": "markdown",
   "metadata": {},
   "source": [
    "***QUIZ QUESTION***\n",
    "\n",
    "What features had non-zero weight in this case?"
   ]
  },
  {
   "cell_type": "markdown",
   "metadata": {
    "collapsed": true
   },
   "source": [
    "Next, learn the weights with `l1_penalty=1e8`, on the training data. Initialize weights to all zeros, and set the `tolerance=1`.  Call resulting weights `weights1e8`, you will need them later."
   ]
  },
  {
   "cell_type": "code",
   "execution_count": 119,
   "metadata": {},
   "outputs": [],
   "source": [
    "initial_weights = np.zeros(14)\n",
    "l1_penalty = 1e8\n",
    "tolerance = 1.0"
   ]
  },
  {
   "cell_type": "code",
   "execution_count": 120,
   "metadata": {
    "scrolled": false
   },
   "outputs": [
    {
     "name": "stdout",
     "output_type": "stream",
     "text": [
      "Weights:[0. 0. 0. 0. 0. 0. 0. 0. 0. 0. 0. 0. 0. 0.]\n",
      "Coordinate Changes: [79400304.65805142, 0.0, 0.0, 0.0, 0.0, 0.0, 0.0, 0.0, 0.0, 0.0, 0.0, 0.0, 0.0, 0.0]\n",
      "Weights:[79400304.65805142        0.                0.                0.\n",
      "        0.                0.                0.                0.\n",
      "        0.                0.                0.                0.\n",
      "        0.                0.        ]\n",
      "Coordinate Changes: [0.0, 0.0, 0.0, 0.0, 0.0, 0.0, 0.0, 0.0, 0.0, 0.0, 0.0, 0.0, 0.0, 0.0]\n"
     ]
    }
   ],
   "source": [
    "weights1e8 = lasso_cyclical_coordinate_descent(norm_feat_matrix, output,\n",
    "                                            initial_weights, l1_penalty, tolerance)"
   ]
  },
  {
   "cell_type": "code",
   "execution_count": 121,
   "metadata": {},
   "outputs": [
    {
     "data": {
      "text/plain": [
       "array([79400304.65805142,        0.        ,        0.        ,\n",
       "              0.        ,        0.        ,        0.        ,\n",
       "              0.        ,        0.        ,        0.        ,\n",
       "              0.        ,        0.        ,        0.        ,\n",
       "              0.        ,        0.        ])"
      ]
     },
     "execution_count": 121,
     "metadata": {},
     "output_type": "execute_result"
    }
   ],
   "source": [
    "weights1e8"
   ]
  },
  {
   "cell_type": "markdown",
   "metadata": {},
   "source": [
    "***QUIZ QUESTION***\n",
    "\n",
    "What features had non-zero weight in this case?"
   ]
  },
  {
   "cell_type": "markdown",
   "metadata": {},
   "source": [
    "Finally, learn the weights with `l1_penalty=1e4`, on the training data. Initialize weights to all zeros, and set the `tolerance=5e5`.  Call resulting weights `weights1e4`, you will need them later.  (This case will take quite a bit longer to converge than the others above.)"
   ]
  },
  {
   "cell_type": "code",
   "execution_count": 122,
   "metadata": {},
   "outputs": [],
   "source": [
    "initial_weights = np.zeros(14)\n",
    "l1_penalty = 1e4\n",
    "tolerance = 5e5"
   ]
  },
  {
   "cell_type": "code",
   "execution_count": 123,
   "metadata": {
    "scrolled": true
   },
   "outputs": [
    {
     "name": "stdout",
     "output_type": "stream",
     "text": [
      "Weights:[0. 0. 0. 0. 0. 0. 0. 0. 0. 0. 0. 0. 0. 0.]\n",
      "Coordinate Changes: [79400304.65805142, 4421286.338102187, 5481209.455818298, 5844296.134806477, 1078799.1097964032, 9586861.195141092, 13578416.585554106, 12453175.592991656, 9968665.52621384, 4076915.0420512203, 7259911.294948143, 2888547.5835873354, 12629088.90865757, 3564098.9613847896]\n",
      "Weights:[ 79400304.65805142   4421286.33810219   5481209.4558183\n",
      "   5844296.13480648  -1078799.1097964   -9586861.19514109\n",
      "  13578416.58555411  12453175.59299166  -9968665.52621384\n",
      "   4076915.04205122   7259911.29494814   2888547.58358734\n",
      " -12629088.90865757   3564098.96138479]\n",
      "Coordinate Changes: [772486.0038247406, 2774609.820895303, 3970085.8812352857, 3885018.4513748335, 667948.1186931252, 5318569.004229035, 5560422.338330516, 1687407.5758670643, 4235823.947720181, 3206908.5241804784, 5864734.477403789, 441341.440095223, 9318832.099838953, 150378.88581297593]\n",
      "Weights:[ 78627818.65422668   7195896.15899749   9451295.33705358\n",
      "   9729314.58618131  -1746747.22848953 -14905430.19937013\n",
      "   8017994.24722359  14140583.16885872 -14204489.47393402\n",
      "   7283823.5662317   13124645.77235193   3329889.02368256\n",
      " -21947921.00849652   3714477.84719777]\n",
      "Coordinate Changes: [58495.54491597414, 1813230.0465718126, 3521508.3021508753, 3274469.4590334166, 253176.307748385, 3946317.692343898, 1074265.3689669995, 576546.2213419769, 3308258.5253145956, 2520814.920494386, 4636451.758384269, 167767.62753561698, 7552311.983722404, 106463.61591968173]\n",
      "Weights:[ 78569323.1093107    9009126.2055693   12972803.63920446\n",
      "  13003784.04521473  -1999923.53623791 -18851747.89171403\n",
      "   6943728.87825659  13564036.94751674 -17512747.99924862\n",
      "   9804638.48672608  17761097.5307362    3497656.65121818\n",
      " -29500232.99221893   3608014.23127808]\n",
      "Coordinate Changes: [15067.753052055836, 1101550.7569643073, 3113543.8641918767, 2820871.8693676237, 131646.58049449674, 2896105.777816329, 73690.36563522741, 811539.4956810772, 2715848.893851217, 1946886.545520749, 3609203.5559270345, 133327.67725491943, 6191160.408250429, 139013.29793372145]\n",
      "Weights:[ 78584390.86236276  10110676.96253361  16086347.50339634\n",
      "  15824655.91458235  -2131570.11673241 -21747853.66953035\n",
      "   6870038.51262136  12752497.45183567 -20228596.89309983\n",
      "  11751525.03224683  21370301.08666323   3630984.32847309\n",
      " -35691393.40046936   3469000.93334436]\n",
      "Coordinate Changes: [40558.05385868251, 541409.9211560991, 2738093.863689795, 2461659.8508202303, 85936.14632931072, 2056066.4839597717, 77812.31991249882, 719131.5545835532, 2207505.6003029495, 1467258.5224813502, 2763405.923248753, 125862.37890107092, 5080403.478684276, 125786.26871408243]\n",
      "Weights:[ 78624948.91622144  10652086.88368971  18824441.36708613\n",
      "  18286315.76540258  -2217506.26306172 -23803920.15349013\n",
      "   6947850.83253386  12033365.89725211 -22436102.49340278\n",
      "  13218783.55472818  24133707.00991199   3756846.70737417\n",
      " -40771796.87915363   3343214.66463028]\n",
      "Coordinate Changes: [54246.08945570886, 97501.01377443969, 2397682.770896081, 2178425.687948957, 60101.3803787427, 1392116.7108164243, 82803.70226592291, 596835.2894465402, 1757869.7429916635, 1068059.9474242348, 2070817.0304933265, 116268.60403067386, 4166270.737086192, 106212.29920670297]\n",
      "Weights:[ 78679195.00567715  10749587.89746415  21222124.13798221\n",
      "  20464741.45335154  -2277607.64344046 -25196036.86430655\n",
      "   7030654.53479979  11436530.60780557 -24193972.23639445\n",
      "  14286843.50215242  26204524.04040531   3873115.31140484\n",
      " -44938067.61623982   3237002.36542358]\n",
      "Coordinate Changes: [64381.99822805822, 251874.5987973325, 2090783.6966325939, 1956699.704002969, 42072.14647144778, 873008.6219252199, 67524.51366584189, 488826.17173627764, 1360831.846726898, 737510.7079407051, 1505667.4172342755, 102244.27442398854, 3414494.213645011, 88038.71279438166]\n",
      "Weights:[ 78743577.0039052   10497713.29866682  23312907.83461481\n",
      "  22421441.15735451  -2319679.78991191 -26069045.48623177\n",
      "   7098179.04846563  10947704.43606929 -25554804.08312134\n",
      "  15024354.21009312  27710191.45763959   3975359.58582883\n",
      " -48352561.82988483   3148963.6526292 ]\n",
      "Coordinate Changes: [72799.82136289775, 523646.9797800686, 1814910.00157772, 1784356.0588728338, 28802.55762173701, 471376.33436718956, 51969.19833664503, 398782.90394207835, 1012099.9631958492, 465474.43295609765, 1046045.6390331723, 84988.6848668158, 2797805.713558525, 72304.1395163755]\n",
      "Weights:[ 78816376.8252681    9974066.31888675  25127817.83619253\n",
      "  24205797.21622734  -2348482.34753365 -26540421.82059896\n",
      "   7150148.24680227  10548921.53212722 -26566904.04631719\n",
      "  15489828.64304922  28756237.09667276   4060348.27069564\n",
      " -51150367.54344336   3076659.51311282]\n",
      "Coordinate Changes: [79952.23064808547, 731782.1750435252, 1567468.3987988606, 1651385.4705814905, 19047.376510400325, 164325.21177697927, 38769.74537997693, 324624.1630677767, 707558.6432481743, 243211.43653288484, 673580.8568860255, 65812.48568292381, 2293472.9254968986, 58874.12899385765]\n",
      "Weights:[ 78896329.05591619   9242284.14384322  26695286.23499139\n",
      "  25857182.68680883  -2367529.72404405 -26704747.03237594\n",
      "   7188917.99218225  10224297.36905944 -27274462.68956537\n",
      "  15733040.07958211  29429817.95355879   4126160.75637857\n",
      " -53443840.46894026   3017785.38411896]\n",
      "Coordinate Changes: [86029.51398794353, 887903.8776345747, 1345945.3265256025, 1549595.9588287547, 12008.181444004178, 67005.46184369177, 27931.256137386896, 263814.02789340727, 443182.04706941545, 63192.01321786642, 372929.94913780317, 45746.7156026857, 1882420.8296810538, 47460.00828976743]\n",
      "Weights:[ 78982358.56990413   8354380.26620865  28041231.56151699\n",
      "  27406778.64563759  -2379537.90548805 -26637741.57053225\n",
      "   7216849.24831964   9960483.34116603 -27717644.73663478\n",
      "  15796232.09279997  29802747.90269659   4171907.47198125\n",
      " -55326261.29862131   2970325.37582919]\n",
      "Coordinate Changes: [91167.3016730845, 1001684.76192147, 1147956.7415716238, 1472315.7919730172, 7075.052686298732, 238059.17969852313, 19121.434265818447, 214101.4132911116, 215085.57694856822, 81061.66074641421, 131305.62783205137, 25558.31349446904, 1548651.4598705098, 37784.01878029341]\n",
      "Weights:[ 79073525.87157722   7352695.50428718  29189188.30308861\n",
      "  28879094.4376106   -2386612.95817435 -26399682.39083372\n",
      "   7235970.68258545   9746381.92787492 -27932730.31358335\n",
      "  15715170.43205356  29934053.53052864   4197465.78547572\n",
      " -56874912.75849182   2932541.3570489 ]\n",
      "Coordinate Changes: [95481.90231440961, 1081159.3181137582, 971267.5874223486, 1414134.015176639, 3762.849571390543, 361432.141226504, 12008.564375178888, 173579.0617697928, 19574.40707436204, 195113.39787039906, 61928.96271394193, 5803.250185040757, 1278768.8781221807, 29600.994362590834]\n",
      "Weights:[ 79169007.77389163   6271536.18617342  30160455.89051096\n",
      "  30293228.45278724  -2390375.80774574 -26038250.24960722\n",
      "   7247979.24696063   9572802.86610513 -27952304.72065771\n",
      "  15520057.03418316  29872124.5678147    4203269.03566076\n",
      " -58153681.636614     2902940.36268631]\n",
      "Coordinate Changes: [99076.6063541621, 1132986.597141862, 813800.561913129, 1370681.205323998, 1683.7047071708366, 447361.1696582027, 6305.1045162677765, 140647.31872602552, 146823.01943318546, 283733.9224482067, 215604.533868365, 13127.369038107805, 1061575.5391563773, 22697.861623513047]\n",
      "Weights:[ 79268084.38024579   5138549.58903156  30974256.45242409\n",
      "  31663909.65811124  -2392059.51245291 -25590889.07994902\n",
      "   7254284.3514769    9432155.5473791  -27805481.70122453\n",
      "  15236323.11173495  29656520.03394634   4190141.66662266\n",
      " -59215257.17577038   2880242.5010628 ]\n",
      "Coordinate Changes: [102043.42926885188, 1162672.4605435706, 673638.6834721863, 1338445.8647601604, 528.4756606821902, 504134.0425274074, 1768.0074736932293, 113969.43994910456, 287335.0912867114, 351006.9218114298, 337037.2565111369, 30970.50598323159, 887728.2923742607, 16890.18409452401]\n",
      "Weights:[ 79370127.80951464   3975877.12848799  31647895.13589628\n",
      "  33002355.5228714   -2392587.9881136  -25086755.03742161\n",
      "   7256052.35895059   9318186.10743    -27518146.60993782\n",
      "  14885316.18992352  29319482.7774352    4159171.16063942\n",
      " -60102985.46814464   2863352.31696827]\n",
      "Coordinate Changes: [104464.16000181437, 1174757.5446621026, 549023.5268822163, 1314621.1877409928, 52.117224275134504, 538432.7138800845, 1806.793147568591, 92431.03220663778, 404937.9749674797, 400421.9129490368, 432275.38088209927, 47561.881342347246, 749445.6742861643, 12018.639485329855]\n",
      "Weights:[ 79474591.96951646   2801119.58382588  32196918.66277849\n",
      "  34316976.71061239  -2392640.10533787 -24548322.32354153\n",
      "   7254245.56580303   9225755.07522336 -27113208.63497034\n",
      "  14484894.27697449  28887207.3965531    4111609.27929708\n",
      " -60852431.1424308    2851333.67748294]\n",
      "Coordinate Changes: [106411.28589342535, 1172976.0190218976, 438350.3756821938, 1296977.468738541, 61.714159907307476, 555619.622783877, 4590.105987722054, 75105.01945466548, 502354.8174308762, 434955.41018354706, 506307.5207128711, 62812.57232904527, 640259.2945873588, 7945.8278439096175]\n",
      "Weights:[ 79581003.25540988   1628143.56480399  32635269.03846069\n",
      "  35613954.17935093  -2392701.81949778 -23992702.70075765\n",
      "   7249655.4598153    9150650.05576869 -26610853.81753946\n",
      "  14049938.86679094  28380899.87584023   4048796.70696803\n",
      " -61492690.43701816   2843387.84963903]\n",
      "Coordinate Changes: [107948.86728341877, 1160389.4764852594, 340161.24473015964, 1283756.0869156271, 406.62120285024866, 559976.0096914135, 6724.577322021127, 61221.75921934098, 582061.0220013782, 457141.7296514567, 563238.3048191182, 76690.34218291193, 554803.0201936513, 4553.43883624021]\n",
      "Weights:[ 79688952.1226933     467754.08831873  32975430.28319085\n",
      "  36897710.26626656  -2393108.44070063 -23432726.69106624\n",
      "   7242930.88249328   9089428.29654935 -26028792.79553808\n",
      "  13592797.13713948  27817661.57102111   3972106.36478512\n",
      " -62047493.45721181   2838834.41080279]\n",
      "Coordinate Changes: [109133.36467795074, 1129499.677069265, 243609.1340274997, 1273326.886805974, 919.8806618144736, 554927.8099878915, 8138.432487771846, 49959.7048457209, 645642.3805881143, 468880.3912376445, 606200.7414600775, 89319.95837729704, 488947.25118938833, 1664.7031466881745]\n",
      "Weights:[ 79798085.48737125   -661745.58875054  33219039.41721835\n",
      "  38171037.15307254  -2394028.32136244 -22877798.88107834\n",
      "   7234792.45000551   9039468.59170363 -25383150.41494997\n",
      "  13123916.74590184  27211460.82956103   3882786.40640782\n",
      " -62536440.7084012    2837169.70765611]\n"
     ]
    },
    {
     "name": "stdout",
     "output_type": "stream",
     "text": [
      "Coordinate Changes: [109981.58996239305, 1102599.559695799, 167428.1586367339, 1264886.7571221888, 1612.9870165777393, 543155.8762873262, 9389.026607257314, 41101.86726378836, 695956.8253469616, 472317.3086337019, 638257.152007591, 100506.73041189136, 438681.6483373344, 646.4725155374035]\n",
      "Weights:[ 79908067.07733364  -1764345.14844634  33386467.57585508\n",
      "  39435923.91019472  -2395641.30837902 -22334643.00479102\n",
      "   7225403.42339825   8998366.72443984 -24687193.58960301\n",
      "  12651599.43726814  26573203.67755344   3782279.67599593\n",
      " -62975122.35673854   2837816.18017164]\n",
      "Coordinate Changes: [110590.17455676198, 1071104.638365986, 100074.3733874932, 1257630.7326523587, 2365.8777408348396, 526728.356134098, 10243.751335432753, 34141.87980704941, 734717.6665251106, 468983.10797215253, 661635.5953770205, 110392.07191423886, 400963.06964161247, 2539.1826676870696]\n",
      "Weights:[ 80018657.2518904   -2835449.78681232  33486541.94924257\n",
      "  40693554.64284708  -2398007.18611985 -21807914.64865692\n",
      "   7215159.67206282   8964224.8446328  -23952475.9230779\n",
      "  12182616.32929598  25911568.08217642   3671887.60408169\n",
      " -63376085.42638015   2840355.36283933]\n",
      "Coordinate Changes: [110979.68534083664, 1036341.7058151048, 40595.8749971129, 1250945.9330839068, 3128.8740913108923, 507268.7652492747, 10797.448122411035, 28685.534431336448, 763501.1161467656, 460173.89104170166, 678152.9430117533, 119081.38444309914, 373304.5904356539, 4081.0737177827395]\n",
      "Weights:[ 80129636.93723124  -3871791.49262743  33527137.82423969\n",
      "  41944500.57593099  -2401136.06021117 -21300645.88340764\n",
      "   7204362.22394041   8935539.31020146 -23188974.80693113\n",
      "  11722442.43825428  25233415.13916467   3552806.21963859\n",
      " -63749390.0168158    2844436.43655711]\n",
      "Coordinate Changes: [111182.29962527752, 999374.8768534125, 11860.771819464862, 1244380.052442126, 3868.419684047345, 486019.4873554297, 11118.854468542151, 24425.512411510572, 783714.9099089056, 446982.7450964283, 689283.3338345513, 126667.3750634673, 353674.24937117845, 5327.01103636343]\n",
      "Weights:[ 80240819.23685652  -4871166.36948084  33515277.05242022\n",
      "  43188880.62837312  -2405004.47989521 -20814626.39605222\n",
      "   7193243.36947187   8911113.79778995 -22405259.89702222\n",
      "  11275459.69315785  24544131.80533012   3426138.84457513\n",
      " -64103064.26618698   2849763.44759348]\n",
      "Coordinate Changes: [111226.68548671901, 961052.6779473452, 58058.69569812715, 1237607.890822716, 4560.713751940057, 463918.68563458696, 11259.21261894796, 21117.268325770274, 796607.1346098855, 430328.80821960233, 696217.5705026723, 133239.62191182654, 340413.23460748047, 6323.597394940443]\n",
      "Weights:[ 80352045.92234324  -5832219.04742819  33457218.35672209\n",
      "  44426488.51919583  -2409565.19364715 -20350707.71041763\n",
      "   7181984.15685292   8889996.52946418 -21608652.76241234\n",
      "  10845130.88493825  23847914.23482744   3292899.2226633\n",
      " -64443477.50079446   2856087.04498842]\n",
      "Coordinate Changes: [111137.8221784085, 922046.8892180603, 98679.00917046517, 1230404.2168560475, 5189.713880730793, 441663.0671570264, 11258.312079024501, 18564.05644680932, 803278.7570626773, 410982.72296623886, 699913.3169123977, 138886.1689469586, 332170.3839962259, 7110.502030530479]\n",
      "Weights:[ 80463183.74452165  -6754265.93664625  33358539.34755163\n",
      "  45656892.73605188  -2414754.90752788 -19909044.6432606\n",
      "   7170725.8447739    8871432.47301737 -20805374.00534966\n",
      "  10434148.16197201  23148000.91791505   3154013.05371634\n",
      " -64775647.88479069   2863197.54701895]\n",
      "Coordinate Changes: [110937.39544041455, 882884.7348548826, 134328.7669142969, 1222621.8065716848, 5745.573622067925, 419758.60055206344, 11147.8177043451, 16606.95854951255, 804697.0658017993, 389588.671844393, 701137.0862049907, 143692.84872718295, 327848.4176077023, 7721.469359527342]\n",
      "Weights:[ 80574121.13996206  -7637150.67150113  33224210.58063733\n",
      "  46879514.54262356  -2420500.48114995 -19489286.04270854\n",
      "   7159578.02706955   8854825.51446786 -20000676.93954786\n",
      "  10044559.49012762  22446863.83171006   3010320.20498916\n",
      " -65103496.30239839   2870919.01637847]\n",
      "Coordinate Changes: [110644.1863835752, 843975.5745731257, 165548.429587733, 1214173.6957017556, 6223.2548413039185, 398561.53770576045, 10953.22844147589, 15117.636832963675, 801708.8984576575, 366683.35480102524, 700499.1797387712, 147742.20886544604, 326559.3536095768, 8185.173838526942]\n",
      "Weights:[ 80684765.32634564  -8481126.24607425  33058662.1510496\n",
      "  48093688.23832532  -2426723.73599126 -19090724.50500278\n",
      "   7148624.79862807   8839707.87763489 -19198968.04109021\n",
      "   9677876.13532659  21746364.65197128   2862577.99612371\n",
      " -65430055.65600797   2879104.190217  ]\n",
      "Coordinate Changes: [110274.42438493669, 805633.0076552909, 192818.77156269923, 1205018.8838706762, 6621.35024009319, 378311.56152462214, 10695.153037592769, 13992.704852404073, 795053.1817605942, 342712.28452873416, 698482.6626569703, 151112.59190563997, 327587.426291205, 8525.951496820431]\n",
      "Weights:[ 80795039.75073057  -9286759.25372954  32865843.3794869\n",
      "  49298707.122196    -2433345.08623135 -18712412.94347816\n",
      "   7137929.64559048   8825715.17278249 -18403914.85932961\n",
      "   9335163.85079786  21047881.98931431   2711465.40421807\n",
      " -65757643.08229917   2887630.14171382]\n",
      "Coordinate Changes: [109842.1034963727, 768093.1426910013, 216567.21840181574, 1195150.8700337783, 6941.121001280379, 359158.4971815571, 10390.23396814242, 13149.189795011654, 785372.599344261, 318043.74949616194, 695467.3282750212, 153877.48989533354, 330358.2399225831, 8764.42825247068]\n",
      "Weights:[ 80904881.85422695 -10054852.39642055  32649276.16108508\n",
      "  50493857.99222977  -2440286.20723263 -18353254.4462966\n",
      "   7127539.41162234   8812565.98298748 -17618542.25998535\n",
      "   9017120.1013017   20352414.66103929   2557587.91432274\n",
      " -66088001.32222176   2896394.56996629]\n",
      "Coordinate Changes: [109359.26422074437, 731529.6640670672, 237173.6231468208, 1184588.5074249879, 7185.727913557086, 341183.7511354871, 10051.866918525659, 12520.811938973144, 773224.3266346343, 292980.7578932792, 691749.4671892226, 156105.1623155903, 334413.13835424185, 8918.060444050934]\n",
      "Weights:[ 81014241.11844769 -10786382.06048761  32412102.53793826\n",
      "  51678446.49965476  -2447471.93514619 -18012070.69516111\n",
      "   7117487.54470381   8800045.1710485  -16845317.93335072\n",
      "   8724139.34340842  19660665.19385007   2401482.75200715\n",
      " -66422414.460576     2905312.63041034]\n",
      "Coordinate Changes: [108836.24326820672, 696066.2259641327, 254975.5030500926, 1173368.7544143796, 7359.626406797208, 324417.43444141373, 9690.782710961998, 12054.91445688717, 759089.8293989282, 267771.2383749094, 687558.1333396621, 157858.47104495065, 339387.94422424585, 9001.59986584168]\n",
      "Weights:[ 81123077.3617159  -11482448.28645175  32157127.03488817\n",
      "  52851815.25406914  -2454831.56155298 -17687653.2607197\n",
      "   7107796.76199285   8787990.25659162 -16086228.10395179\n",
      "   8456368.10503351  18973107.06051041   2243624.2809622\n",
      " -66761802.40480024   2914314.23027619]\n",
      "Coordinate Changes: [108281.89413879812, 661786.6204037778, 270272.7655826546, 1161540.9704552665, 7468.096610117704, 308851.96059314534, 9315.525919757783, 11709.92602930963, 743383.7518553417, 242616.7388137551, 683068.4915155694, 159194.88260781835, 344995.35776200145, 9027.49353516521]\n",
      "Weights:[ 81231359.2558547  -12144234.90685552  31886854.26930552\n",
      "  54013356.22452441  -2462299.6581631  -17378801.30012655\n",
      "   7098481.23607309   8776280.33056231 -15342844.35209645\n",
      "   8213751.36621975  18290038.56899484   2084429.39835438\n",
      " -67106797.76256225   2923341.72381135]\n",
      "Coordinate Changes: [107703.78140640259, 628743.0947695579, 283331.9566432163, 1149162.4668605775, 7516.883006149437, 294452.7716301419, 8932.85098818224, 11453.265260208398, 726461.9365739636, 217679.83311049733, 678412.7383573242, 160166.59386749147, 351010.4170458317, 9006.2269510068]\n",
      "Weights:[ 81339063.0372611  -12772978.00162508  31603522.3126623\n",
      "  55162518.69138499  -2469816.54116925 -17084348.52849641\n",
      "   7089548.38508491   8764827.0653021  -14616382.41552248\n",
      "   7996071.53310926  17611625.83063751   1924262.80448689\n",
      " -67457808.17960808   2932347.95076236]\n",
      "Coordinate Changes: [107108.35140286386, 596963.1339721587, 294390.06592933834, 1136295.0727238357, 7511.922229328193, 281166.7328881398, 8548.050561393611, 11259.612956138328, 708628.6277434565, 193090.41848793905, 673689.0102245174, 160820.7451319727, 357258.5154386908, 8946.618447452784]\n",
      "Weights:[ 81446171.38866396 -13369941.13559724  31309132.24673296\n",
      "  56298813.76410882  -2477328.46339858 -16803181.79560827\n",
      "   7081000.33452352   8753567.45234596 -13907753.78777903\n",
      "   7802981.11462132  16937936.820413     1763442.05935491\n",
      " -67815066.69504677   2941294.56920981]\n"
     ]
    },
    {
     "name": "stdout",
     "output_type": "stream",
     "text": [
      "Coordinate Changes: [106501.08185528219, 566454.9714768529, 303657.92506479844, 1123002.5184860304, 7459.14122293843, 268928.6423275992, 8165.227470563725, 11109.490913119167, 690142.9144274443, 168951.06136489753, 668968.6245252583, 161199.69203526294, 363605.5512994081, 8856.071264354046]\n",
      "Weights:[ 81552672.47051924 -13936396.10707409  31005474.32166816\n",
      "  57421816.28259485  -2484787.60462152 -16534253.15328067\n",
      "   7072835.10705295   8742457.96143284 -13217610.87335158\n",
      "   7634030.05325642  16268968.19588774   1602242.36731965\n",
      " -68178672.24634618   2950150.64047416]\n",
      "Coordinate Changes: [105886.61280286312, 537212.0503250118, 311323.2336508855, 1109348.474832885, 7364.31117069535, 257666.22159864008, 7787.519685585052, 10988.095876293257, 671224.472607391, 145341.52858564444, 664301.9445992764, 161341.3138839947, 369949.8523667604, 8740.789113156497]\n",
      "Weights:[ 81658559.08332211 -14473608.1573991   30694151.08801728\n",
      "  58531164.75742774  -2492151.91579221 -16276586.93168203\n",
      "   7065047.58736737   8731469.86555655 -12546386.40074419\n",
      "   7488688.52467078  15604666.25128846   1440901.05343566\n",
      " -68548622.09871294   2958891.42958732]\n",
      "Coordinate Changes: [105268.86089970171, 509216.6188684553, 317553.2473347485, 1095395.1138884649, 7232.9452933236025, 247303.89040198363, 7417.285986401141, 10884.345609903336, 652058.6649509165, 122322.62212406378, 659723.110526422, 161279.3413718394, 376215.57428246737, 8605.960273564793]\n",
      "Weights:[ 81763827.94422181 -14982824.77626756  30376597.84068253\n",
      "  59626559.8713162   -2499384.86108554 -16029283.04128005\n",
      "   7057630.30138097   8720585.51994664 -11894327.73579327\n",
      "   7366365.90254671  14944943.14076204   1279621.71206382\n",
      " -68924837.6729954    2967497.38986089]\n",
      "Coordinate Changes: [104651.11907623708, 482442.61532844417, 322497.16036972404, 1081202.0840145126, 7070.2308613336645, 237765.57110028528, 7056.258852072991, 10790.100952800363, 632801.0559596103, 99939.41910878755, 655253.8379658349, 161043.69079288375, 382347.32107649744, 8455.914601429366]\n",
      "Weights:[ 81868479.06329805 -15465267.391596    30054100.6803128\n",
      "  60707761.95533071  -2506455.09194687 -15791517.47017976\n",
      "   7050574.04252889   8709795.41899384 -11261526.67983366\n",
      "   7266426.48343792  14289689.30279621   1118578.02127093\n",
      " -69307184.9940719    2975953.30446231]\n",
      "Coordinate Changes: [104036.14322824776, 456857.9693524651, 326288.2132464722, 1066825.8096853793, 6880.987608861178, 228976.72522910498, 6705.670028614812, 10699.533580841497, 613581.3978853393, 78224.0048548337, 650906.4532570764, 160660.7952490237, 388305.77633976936, 8294.257250980008]\n",
      "Weights:[ 81972515.2065263  -15922125.36094847  29727812.46706633\n",
      "  61774587.76501609  -2513336.07955573 -15562540.74495066\n",
      "   7043868.37250028   8699095.885413   -10647945.28194832\n",
      "   7188202.47858309  13638782.84953913    957917.22602191\n",
      " -69695490.77041167   2984247.56171329]\n",
      "Coordinate Changes: [103426.22755335271, 432426.427171696, 329045.55387761816, 1052319.0446206555, 6669.646280189976, 220865.7859868221, 6366.3533683903515, 10608.614134646952, 594507.1398566067, 57197.774268956855, 646686.3045170009, 160153.9260236416, 394064.16842362285, 8123.982416506391]\n",
      "Weights:[ 82075941.43407965 -16354551.78812017  29398766.91318871\n",
      "  62826906.80963675  -2520005.72583592 -15341674.95896384\n",
      "   7037502.01913189   8688487.27127836 -10053438.14209172\n",
      "   7131004.70431413  12992096.54502213    797763.29999827\n",
      " -70089554.9388353    2992371.5441298 ]\n",
      "Coordinate Changes: [102823.26989512146, 409108.98863091134, 330875.87864026055, 1037730.6201152578, 6440.24228040548, 213365.11973976158, 6038.828796093352, 10514.699535187334, 575666.5093255229, 36873.366322911344, 642593.6645618621, 159543.4993918615, 399605.4221661389, 7947.569945883006]\n",
      "Weights:[ 82178764.70397477 -16763660.77675108  29067891.03454845\n",
      "  63864637.42975201  -2526445.96811633 -15128309.83922407\n",
      "   7031463.1903358    8677972.57174317  -9477771.63276619\n",
      "   7094131.33799122  12349502.88046027    638219.80060641\n",
      " -70489160.36100143   3000319.11407568]\n",
      "Coordinate Changes: [102228.82834513485, 386865.02915512957, 331874.87740178406, 1023105.3418806046, 6196.42044284381, 206411.62395932525, 5723.370638123713, 10416.201826751232, 557131.2113664784, 17256.287039054558, 638625.2214530613, 158847.36577127367, 404919.8742401451, 7767.067295709625]\n",
      "Weights:[ 82280993.5323199  -17150525.80590621  28736016.15714667\n",
      "  64887742.77163261  -2532642.38855917 -14921898.21526475\n",
      "   7025739.81969767   8667556.36991642  -8920640.42139972\n",
      "   7076875.05095217  11710877.6590072     479372.43483513\n",
      " -70894080.23524158   3008086.18137139]\n",
      "Coordinate Changes: [101644.17020186782, 365653.16695008427, 332128.5045023449, 1008483.9979971349, 5941.447748067789, 199947.0479474999, 5420.063021353446, 10312.323839047924, 538958.787727627, 1653.7315608076751, 634775.2357145697, 158081.07937046728, 410003.4499222636, 7584.158961364534]\n",
      "Weights:[ 82382637.70252177 -17516178.97285629  28403887.65264433\n",
      "  65896226.76962975  -2538583.83630724 -14721951.16731725\n",
      "   7020319.75667632   8657244.04607737  -8381681.63367209\n",
      "   7078528.78251298  11076102.42329264    321291.35546467\n",
      " -71304083.68516384   3015670.34033276]\n",
      "Coordinate Changes: [101070.31426115334, 345431.9250549674, 331714.09560495615, 993903.4482352361, 5678.231528903823, 193918.10539936088, 5128.84460892342, 10202.849452447146, 521194.6739197746, 19861.595989114605, 631036.4292786382, 157258.14745508452, 414856.21645611525, 7400.225216825027]\n",
      "Weights:[ 82483708.01678292 -17861610.89791126  28072173.55703937\n",
      "  66890130.21786498  -2544262.06783614 -14528033.06191789\n",
      "   7015190.9120674    8647041.19662492  -7860486.95975231\n",
      "   7098390.37850209  10445065.994014      164033.20800958\n",
      " -71718939.90161996   3023070.56554958]\n",
      "Coordinate Changes: [100508.06730645895, 326160.2290046327, 330701.34838087484, 979396.771206893, 5409.3412258564495, 188276.433731433, 4849.544560818933, 10087.97833327204, 503873.9891160568, 37375.904705482535, 627400.6595663205, 156390.25905504634, 419481.2427532822, 7216.391742380336]\n",
      "Weights:[ 8.25842161e+07 -1.81877711e+07  2.77414722e+07  6.78695270e+07\n",
      " -2.54967141e+06 -1.43397566e+07  7.01034137e+06  8.63695322e+06\n",
      " -7.35661297e+06  7.13576628e+06  9.81766533e+06  7.64294895e+03\n",
      " -7.21384211e+07  3.03028696e+06]\n",
      "Coordinate Changes: [99958.05555558205, 307797.77346647903, 329153.18313786015, 964993.4508929253, 5137.032227630261, 182978.44353773072, 4581.911295127124, 9968.196758590639, 487023.0902950736, 54208.16091361735, 623859.4224113747, 145487.49346726248, 429367.2780263126, 6429.0336702736095]\n",
      "Weights:[ 82684174.13964497 -18495568.90038237  27412319.02552063\n",
      "  68834520.4399648   -2554808.44128963 -14156778.18464872\n",
      "   7005759.45621145   8626985.02153306  -6869589.88034118\n",
      "   7189974.44412119   9193805.9120363    -137844.54451273\n",
      " -72567788.42239955   3036715.99096224]\n",
      "Coordinate Changes: [99527.28213253617, 290972.1867455542, 327277.6227373667, 950050.8350817412, 4442.909081093036, 179927.48474820517, 4984.286961205304, 11845.034984136, 470508.7893631067, 70462.65525713004, 619957.2968846112, 150868.87641034106, 430350.5356551856, 6875.818660148885]\n",
      "Weights:[ 82783701.4217775  -18786541.08712792  27085041.40278327\n",
      "  69784571.27504654  -2559251.35037072 -13976850.69990052\n",
      "   7000775.16925024   8615139.98654892  -6399081.09097808\n",
      "   7260437.09937832   8573848.61515169   -288713.42092307\n",
      " -72998138.95805474   3043591.80962239]\n",
      "Coordinate Changes: [98876.6981394589, 274480.6275077425, 324883.8687387705, 935824.9110432714, 4292.616280928254, 175604.18409594148, 3572.2188968909904, 10893.837544027716, 454254.5714796791, 85925.89263980556, 616485.5850557545, 151907.48225909442, 433251.03180381656, 6658.436018965673]\n",
      "Weights:[ 82882578.11991696 -19061021.71463567  26760157.5340445\n",
      "  70720396.18608981  -2563543.96665165 -13801246.51580458\n",
      "   6997202.95035335   8604246.1490049   -5944826.5194984\n",
      "   7346362.99201813   7957363.03009594   -440620.90318216\n",
      " -73431389.98985855   3050250.24564135]\n",
      "Coordinate Changes: [98378.12575131655, 258653.08813208714, 322158.6607396081, 921853.5605839044, 4144.889467460569, 171160.26215131208, 3486.9297586698085, 10089.482414824888, 438905.9876406118, 100724.01111203246, 613174.8998581041, 151629.6711251234, 436608.7384494543, 6473.754333012737]\n",
      "Weights:[ 82980956.24566828 -19319674.80276775  26437998.87330489\n",
      "  71642249.74667372  -2567688.85611911 -13630086.25365327\n",
      "   6993716.02059468   8594156.66659007  -5505920.53185779\n",
      "   7447087.00313016   7344188.13023783   -592250.57430729\n",
      " -73867998.728308     3056723.99997436]\n",
      "Coordinate Changes: [97887.33547873795, 243543.08744844794, 319099.6713470742, 908094.0039923936, 3940.238068986684, 166805.24036763608, 3466.670126646757, 9643.029321115464, 424227.75447027106, 114909.73494482134, 609941.8937186953, 150923.24342626787, 440006.46176326275, 6308.41662979126]\n",
      "Weights:[ 83078843.58114702 -19563217.8902162   26118899.20195781\n",
      "  72550343.75066611  -2571629.0941881  -13463281.01328563\n",
      "   6990249.35046804   8584513.63726895  -5081692.77738752\n",
      "   7561996.73807498   6734246.23651914   -743173.81773355\n",
      " -74308005.19007127   3063032.41660416]\n"
     ]
    },
    {
     "name": "stdout",
     "output_type": "stream",
     "text": [
      "Coordinate Changes: [97406.18750806153, 229140.2059299834, 315728.9586114213, 894546.4749442041, 3705.4524426558055, 162594.72943295166, 3353.752014630474, 9382.16734207794, 410095.20515642874, 128510.71326561458, 606759.4883826869, 150070.01475828968, 443314.78491942585, 6146.7635414954275]\n",
      "Weights:[ 83176249.76865508 -19792358.09614618  25803170.24334639\n",
      "  73444890.22561032  -2575334.54663075 -13300686.28385268\n",
      "   6986895.59845341   8575131.46992688  -4671597.57223109\n",
      "   7690507.45134059   6127486.74813645   -893243.83249184\n",
      " -74751319.9749907    3069179.18014565]\n",
      "Coordinate Changes: [96937.6891002804, 215420.25560685247, 312078.2441502623, 881218.116904676, 3460.8452593041584, 158538.57423905283, 3189.983858381398, 9198.211214696988, 396460.06704840437, 141546.4407244185, 603617.7680738447, 149165.45161361748, 446492.4667761624, 5986.851883040741]\n",
      "Weights:[ 83273187.45775536 -20007778.35175304  25491091.99919613\n",
      "  74326108.34251499  -2578795.39189006 -13142147.70961362\n",
      "   6983705.61459502   8565933.25871218  -4275137.50518268\n",
      "   7832053.89206501   5523868.9800626   -1042409.28410546\n",
      " -75197812.44176686   3075166.03202869]\n",
      "Coordinate Changes: [96482.23563806713, 202356.2988577336, 308180.2236054875, 868117.0633073449, 3215.9333312553354, 154631.00381256267, 3009.723926422186, 9044.880929697305, 383303.314491624, 154033.96547396947, 600512.2451637303, 148244.14532259887, 449527.3059319258, 5829.275192276575]\n",
      "Weights:[ 83369669.69339342 -20210134.65061077  25182911.77559064\n",
      "  75194225.40582234  -2582011.32522131 -12987516.70580106\n",
      "   6980695.8906686    8556888.37778248  -3891834.19069106\n",
      "   7986087.85753898   4923356.73489887  -1190653.42942806\n",
      " -75647339.74769878   3080995.30722097]\n",
      "Coordinate Changes: [96039.71655334532, 189921.24768112972, 304065.90315878764, 855250.8477693647, 2974.732260244433, 150861.51074248366, 2828.2900888444856, 8904.720600297675, 370615.10324039543, 165989.75048155524, 597440.2084945422, 147319.8321389649, 452417.2344816774, 5674.606173436623]\n",
      "Weights:[ 83465709.40994677 -20400055.8982919   24878845.87243186\n",
      "  76049476.2535917   -2584986.05748156 -12836655.19505858\n",
      "   6977867.60057976   8547983.65718218  -3521219.08745066\n",
      "   8152077.60802054   4325916.52640433  -1337973.26156702\n",
      " -76099756.98218046   3086669.91339441]\n",
      "Coordinate Changes: [95609.98894101381, 178088.58137881383, 299763.9521235302, 842625.9152101278, 2738.974210231565, 147218.8395524323, 2651.4184358697385, 8771.491171568632, 358387.60454359837, 177430.20768976212, 594399.5712473565, 146398.77677638503, 455163.90078932047, 5523.187582574319]\n",
      "Weights:[ 83561319.39888778 -20578144.47967071  24579081.92030833\n",
      "  76892102.16880183  -2587725.03169179 -12689436.35550615\n",
      "   6975216.18214389   8539212.16601062  -3162831.48290706\n",
      "   8329507.8157103    3731516.95515698  -1484372.03834341\n",
      " -76554920.88296978   3092193.10097698]\n",
      "Coordinate Changes: [95192.9115037173, 166832.58053338528, 295300.6625607312, 830247.5138649344, 2509.4864388625138, 143692.36770638078, 2481.0187889030203, 8643.05671849288, 346612.6927094674, 188371.78707514983, 591388.5200803834, 145484.38799568964, 457770.3799300343, 5375.2187653956935]\n",
      "Weights:[ 83656512.3103915  -20744977.0602041   24283781.25774759\n",
      "  77722349.68266676  -2590234.51813065 -12545743.98779977\n",
      "   6972735.16335499   8530569.10929212  -2816218.7901976\n",
      "   8517879.60278545   3140128.43507659  -1629856.4263391\n",
      " -77012691.26289982   3097568.31974238]\n",
      "Coordinate Changes: [94788.3296829164, 156128.4108609408, 290700.0842019804, 818119.725416407, 2286.72151622409, 140272.52143361047, 2317.590357498266, 8518.743533574045, 335281.3355234349, 198830.928161297, 588405.4209589339, 144578.85117615713, 460240.30932965875, 5230.819151191972]\n",
      "Weights:[ 83751300.64007442 -20901105.47106504  23993081.17354561\n",
      "  78540469.40808317  -2592521.23964688 -12405471.46636616\n",
      "   6970417.57299749   8522050.36575855  -2480937.45467416\n",
      "   8716710.53094675   2551723.01411766  -1774435.27751526\n",
      " -77472931.57222947   3102799.13889357]\n",
      "Coordinate Changes: [94396.06843031943, 145952.15062724426, 285984.20108443126, 806245.5427157879, 2070.9552787444554, 136950.84400688484, 2161.1300280010328, 8398.388813495636, 324383.5542315743, 208823.97905522957, 585448.8021971022, 143683.72714750632, 462577.5353753418, 5090.059359924402]\n",
      "Weights:[ 83845696.70850474 -21047057.62169228  23707096.97246118\n",
      "  79346714.95079896  -2594592.19492562 -12268520.62235927\n",
      "   6968256.44296949   8513651.97694505  -2156553.90044259\n",
      "   8925534.51000198   1966274.21192056  -1918119.00466276\n",
      " -77935509.10760482   3107889.19825349]\n",
      "Coordinate Changes: [94015.93186697364, 136280.79265077412, 281173.108054813, 794626.9612990469, 1862.3624018435366, 133719.94294903055, 2011.4604696519673, 8282.000352099538, 313908.55722495425, 218367.11723676324, 582517.3559357359, 142800.18802323705, 464785.9526208937, 4952.976366419345]\n",
      "Weights:[ 83939712.64037171 -21183338.41434306  23425923.86440637\n",
      "  80141341.912098    -2596454.55732746 -12134800.67941024\n",
      "   6966244.98249983   8505369.97659295  -1842645.34321763\n",
      "   9143901.62723874   1383756.85598482  -2060919.192686\n",
      " -78400295.06022571   3112842.17461991]\n",
      "Coordinate Changes: [93647.70571054518, 127092.23289604113, 276285.174740877, 783265.072196126, 1661.0478590750135, 130573.3982110545, 1868.3471847446635, 8169.63410455361, 303844.91213699756, 227476.28186903894, 579609.939915517, 141929.1232609998, 466869.4217002839, 4819.581887606066]\n",
      "Weights:[ 84033360.34608226 -21310430.6472391   23149638.68966549\n",
      "  80924606.98429413  -2598115.60518654 -12004227.28119919\n",
      "   6964376.63531509   8497200.3424884   -1538800.43108064\n",
      "   9371377.90910778    804146.9160693   -2202848.315947\n",
      " -78867164.481926     3117661.75650752]\n",
      "Coordinate Changes: [93291.16038276255, 118365.25112000108, 271337.19423854724, 772160.1513466984, 1467.0623969063163, 127505.6611211244, 1731.540338656865, 8061.349550375715, 294180.7120385419, 236167.11918063834, 576725.5749865526, 141071.19756990438, 468831.72359478474, 4689.86782078119]\n",
      "Weights:[ 84126651.50646502 -21428795.8983591   22878301.49542695\n",
      "  81696767.13564083  -2599582.66758344 -11876721.62007806\n",
      "   6962645.09497643   8489138.99293802  -1244619.71904209\n",
      "   9607545.02828842    227421.34108275  -2343919.5135169\n",
      " -79335996.20552078   3122351.6243283 ]\n",
      "Coordinate Changes: [92946.05404984951, 110079.48654789105, 266344.51690329984, 761311.7439012825, 1280.411999736447, 124511.95504847355, 1600.7898966204375, 7957.193260008469, 284903.7228649906, 244454.93989578076, 563863.43813941, 145036.2505289088, 477139.26858630776, 4734.011949793436]\n",
      "Weights:[ 84219597.56051487 -21538875.38490699  22611956.97852365\n",
      "  82458078.87954211  -2600863.07958318 -11752209.66502959\n",
      "   6961044.30507981   8481181.79967802   -959715.9961771\n",
      "   9851999.9681842    -336442.09705666  -2488955.76404581\n",
      " -79813135.47410709   3127085.63627809]\n",
      "Coordinate Changes: [92610.21100711823, 102422.25289298594, 261705.6942458637, 750511.2451046109, 1480.9086470860057, 121354.5795623716, 1351.6103026140481, 7139.905978281051, 277100.2394150059, 251797.90763852187, 562429.3832352093, 139942.7494348758, 479606.2030289173, 4324.502624122892]\n",
      "Weights:[ 84312207.77152199 -21641297.63779998  22350251.28427778\n",
      "  83208590.12464672  -2602343.98823027 -11630855.08546722\n",
      "   6959692.6947772    8474041.89369974   -682615.7567621\n",
      "  10103797.87582272   -898871.48029187  -2628898.51348069\n",
      " -80292741.677136     3131410.13890221]\n",
      "Coordinate Changes: [92363.02873152494, 95333.88802146539, 257008.1305519715, 739743.4008067548, 1188.9962936257944, 118924.08997125737, 1741.0689012771472, 7653.1013928465545, 269470.09961515776, 258977.01197877154, 560564.8408788064, 137791.886902255, 480799.86165229976, 4258.77943291096]\n",
      "Weights:[ 84404570.80025351 -21736631.52582144  22093243.15372581\n",
      "  83948333.52545348  -2603532.98452389 -11511930.99549596\n",
      "   6957951.62587592   8466388.79230689   -413145.65714694\n",
      "  10362774.88780149  -1459436.32117067  -2766690.40038294\n",
      " -80773541.5387883    3135668.91833513]\n",
      "Coordinate Changes: [92051.69976824522, 88592.98258791119, 252216.51820632443, 729258.9514598697, 912.7872179918922, 116610.97492985055, 1462.5527836680412, 7926.635174619034, 261798.36322710005, 265911.7592166569, 558484.9914625098, 136554.7190422397, 481656.76950475574, 4170.7607396654785]\n",
      "Weights:[ 84496622.50002176 -21825224.50840935  21841026.63551949\n",
      "  84677592.47691335  -2604445.77174188 -11395320.02056611\n",
      "   6956489.07309225   8458462.15713227   -151347.29391984\n",
      "  10628686.64701815  -2017921.31263318  -2903245.11942518\n",
      " -81255198.30829306   3139839.67907479]\n",
      "Coordinate Changes: [91752.81200627983, 82148.71909494698, 247379.26994521916, 719076.015564844, 694.091712767724, 114297.7209271919, 1214.5573140522465, 7946.664039602503, 244271.0171238773, 282243.8941263072, 556620.8938867925, 135245.29285114026, 482076.7632110119, 3927.907568617258]\n",
      "Weights:[ 84588375.31202804 -21907373.2275043   21593647.36557427\n",
      "  85396668.49247819  -2605139.86345465 -11281022.29963892\n",
      "   6955274.5157782    8450515.49309267     92923.72320404\n",
      "  10910930.54114445  -2574542.20651998  -3038490.41227632\n",
      " -81737275.07150407   3143767.58664341]\n",
      "Coordinate Changes: [91512.83705534041, 76119.90464678779, 242805.92952648923, 709087.5758348703, 480.34981121774763, 112035.39746182412, 1100.2914549289271, 8007.619266297668, 237791.45066085743, 288050.65759964474, 554544.9830858591, 134317.3522512787, 482485.9359152764, 3858.478418253828]\n",
      "Weights:[ 84679888.14908338 -21983493.13215109  21350841.43604778\n",
      "  86105756.06831306  -2605620.21326587 -11168986.90217709\n",
      "   6954174.22432327   8442507.87382637    330715.17386489\n",
      "  11198981.1987441   -3129087.18960584  -3172807.7645276\n",
      " -82219761.00741935   3147626.06506166]\n",
      "Coordinate Changes: [91243.85724824667, 70327.46191993728, 238175.5690624304, 699406.4891438335, 303.42074886430055, 109716.47079495154, 924.3677256954834, 7920.479514237493, 231413.87123479048, 293650.4701978378, 552322.4071666342, 133544.37087173946, 482935.29683059454, 3779.041352782864]\n",
      "Weights:[ 84771132.00633162 -22053820.59407103  21112665.86698535\n",
      "  86805162.5574569   -2605923.63401473 -11059270.43138214\n",
      "   6953249.85659758   8434587.39431213    562129.04509969\n",
      "  11492631.66894194  -3681409.59677247  -3306352.13539934\n",
      " -82702696.30424994   3151405.10641444]\n",
      "Coordinate Changes: [90983.6023119986, 64772.636173862964, 233514.10638765246, 690015.2400013506, 151.0809373985976, 107353.23383313604, 805.6918841730803, 7783.072298109531, 225204.15936899418, 299034.42189779505, 549991.0281097814, 132831.0938940188, 483434.2997690588, 3698.4976262347773]\n",
      "Weights:[ 84862115.60864362 -22118593.23024489  20879151.76059769\n",
      "  87495177.79745825  -2606074.71495213 -10951917.197549\n",
      "   6952444.1647134    8426804.32201402    787333.20446868\n",
      "  11791666.09083973  -4231400.62488225  -3439183.22929336\n",
      " -83186130.604019     3155103.60404068]\n",
      "Coordinate Changes: [90730.58306631446, 59457.18419973925, 228837.86554943398, 680899.6697500646, 13.66413304535672, 104961.06409297511, 714.3958631940186, 7640.741661442444, 219182.1489585935, 304198.98034898564, 547577.629956319, 132144.27857475542, 483970.11755782366, 3618.052513390314]\n",
      "Weights:[ 84952846.19170994 -22178050.41444463  20650313.89504826\n",
      "  88176077.46720831  -2606088.37908518 -10846956.13345603\n",
      "   6951729.76885021   8419163.58035258   1006515.35342727\n",
      "  12095865.07118872  -4778978.25483857  -3571327.50786812\n",
      " -83670100.72157682   3158721.65655407]\n"
     ]
    },
    {
     "name": "stdout",
     "output_type": "stream",
     "text": [
      "Coordinate Changes: [90484.72389096022, 54381.22848157957, 224160.19557052478, 672046.9613912553, 113.36216217186302, 102556.33838175982, 634.2321775285527, 7508.534819198772, 213353.75850906502, 309143.4059524927, 545102.8428827832, 131472.0498473947, 484525.21190032363, 3537.8830399527214]\n",
      "Weights:[ 85043330.9156009  -22232431.64292621  20426153.69947774\n",
      "  88848124.42859957  -2605975.01692301 -10744399.79507427\n",
      "   6951095.53667268   8411655.04553338   1219869.11193634\n",
      "  12405008.47714121  -5324081.09772135  -3702799.55771551\n",
      " -84154625.93347715   3162259.53959402]\n",
      "Coordinate Changes: [90246.07920457423, 49543.114572089165, 219492.73145756125, 663445.6552037448, 232.1221393509768, 100153.68855571002, 559.1034668460488, 7390.018484862521, 207719.7845241744, 313868.70208442956, 542583.1532280371, 130810.01415008819, 485082.91436335444, 3458.209026860539]\n",
      "Weights:[ 85133576.99480547 -22281974.7574983   20206660.96802017\n",
      "  89511570.08380331  -2605742.89478366 -10644246.10651856\n",
      "   6950536.43320583   8404265.02704852   1427588.89646051\n",
      "  12718877.17922564  -5866664.25094939  -3833609.5718656\n",
      " -84639708.8478405    3165717.74862088]\n",
      "Coordinate Changes: [90014.64287038147, 44939.64147961512, 214845.8080888316, 655085.5412677974, 343.752396073658, 97765.24481037259, 486.9772842852399, 7284.916173359379, 202278.87549061957, 318377.1081374362, 540031.9289068878, 130156.46131766215, 485628.9337681234, 3379.2843528161757]\n",
      "Weights:[ 85223591.63767585 -22326914.39897791  19991815.15993134\n",
      "  90166655.62507111  -2605399.14238758 -10546480.86170819\n",
      "   6950049.45592155   8396980.11087516   1629867.77195113\n",
      "  13037254.28736308  -6406696.17985628  -3963766.03318326\n",
      " -85125337.78160863   3169097.0329737 ]\n",
      "Coordinate Changes: [89790.36239308119, 40566.3488965556, 210228.64732084796, 646957.4812054485, 448.9740598532371, 95400.70036572218, 417.2602976942435, 7191.845826784149, 197028.59651249507, 322671.8032549191, 537460.0576118119, 129510.67391653731, 486151.5354652554, 3301.348065544851]\n",
      "Weights:[ 85313382.00006893 -22367480.74787447  19781586.5126105\n",
      "  90813613.10627656  -2604950.16832773 -10451080.16134246\n",
      "   6949632.19562386   8389788.26504838   1826896.36846363\n",
      "  13359926.090618    -6944156.23746809  -4093276.7070998\n",
      " -85611489.31707388   3172398.38103924]\n",
      "Coordinate Changes: [89573.15616953373, 36417.78645134717, 205649.47148847952, 639053.2257100493, 548.3127101380378, 93067.62636477686, 349.83377074822783, 7109.247398511507, 191965.8399652734, 326756.70098491013, 534876.4054187825, 128872.31937369565, 486641.3141223341, 3224.606034146622]\n",
      "Weights:[ 85402955.15623847 -22403898.53432582  19575937.04112202\n",
      "  91452666.3319866   -2604401.85561759 -10358012.53497769\n",
      "   6949282.36185311   8382679.01764986   2018862.2084289\n",
      "  13686682.79160291  -7479032.64288687  -4222149.02647349\n",
      " -86098130.63119622   3175622.98707339]\n",
      "Coordinate Changes: [89362.92248407006, 32487.747348867357, 201115.58998320997, 631365.2524603009, 642.1858661631122, 90771.8253322076, 284.71702213864774, 7035.673679724336, 187087.00892238598, 330636.290592961, 532288.1743726339, 128241.22401515674, 487090.87062081695, 3149.227981382981]\n",
      "Weights:[ 85492318.07872254 -22436386.28167468  19374821.45113881\n",
      "  92084031.5844469   -2603759.66975143 -10267240.70964548\n",
      "   6948997.64483097   8375643.34397014   2205949.21735129\n",
      "  14017319.08219587  -8011320.81725951  -4350390.25048865\n",
      " -86585221.50181703   3178772.21505477]\n",
      "Coordinate Changes: [89159.54437354207, 28769.465100508183, 196633.47420104593, 623886.6298472285, 730.9414497613907, 88517.65493699908, 221.95437792222947, 6969.8630647407845, 182388.12019251892, 334315.507601114, 529701.1924013775, 127617.28390963003, 487494.4943571538, 3075.3499449542724]\n",
      "Weights:[ 85581477.62309608 -22465155.74677519  19178187.97693776\n",
      "  92707918.21429414  -2603028.72830167 -10178723.05470848\n",
      "   6948775.69045305   8368673.4809054    2388337.33754381\n",
      "  14351634.58979698  -8541022.00966088  -4478007.53439828\n",
      " -87072715.99617419   3181847.56499973]\n",
      "Coordinate Changes: [88962.89275602996, 25255.77679303661, 192208.8259305358, 616610.9052437395, 814.8775052633137, 86308.3051638063, 161.57990266382694, 6910.740670418367, 177864.8773995554, 337799.6257566493, 527120.1523157228, 127000.4261947088, 487847.8803669512, 3003.0782266501337]\n",
      "Weights:[ 85670440.51585211 -22490411.52356823  18985979.15100722\n",
      "  93324529.11953788  -2602213.8507964  -10092414.74954467\n",
      "   6948614.11055038   8361762.74023498   2566202.21494336\n",
      "  14689434.21555363  -9068142.16197661  -4605007.96059299\n",
      " -87560563.87654114   3184850.64322638]\n",
      "Coordinate Changes: [88772.82880155742, 21939.257443327457, 187846.64084503427, 609532.0145918727, 894.2541532428004, 84146.02916021273, 103.6086655985564, 6857.398340495303, 173512.73123151483, 341094.1662077196, 524548.8100752048, 126390.5901470203, 488147.88649970293, 2932.493459737394]\n",
      "Weights:[ 85759213.34465367 -22512350.78101156  18798132.51016219\n",
      "  93934061.13412975  -2601319.59664316 -10008268.72038446\n",
      "   6948510.50188478   8354905.34189449   2739714.94617488\n",
      "  15030528.38176135  -9592690.97205181  -4731398.55074001\n",
      " -88048711.76304084   3187783.13668612]\n",
      "Coordinate Changes: [88589.20588073134, 18812.329778328538, 183551.26767063886, 602644.2099542618, 969.3018150916323, 82032.33299355768, 48.03670259192586, 6809.070599829778, 169326.9325490608, 344204.8210922554, 521990.14955546707, 125787.71679533832, 488392.3281110227, 2863.6543527487665]\n",
      "Weights:[ 85847802.5505344  -22531163.11078988  18614581.24249155\n",
      "  94536705.34408401  -2600350.29482807  -9926236.3873909\n",
      "   6948462.46518219   8348096.27129466   2909041.87872394\n",
      "  15374733.20285361 -10114681.12160728  -4857186.26753535\n",
      " -88537104.09115186   3190646.79103886]\n",
      "Coordinate Changes: [88411.87124529481, 15867.353373132646, 179326.46325213835, 595942.0018645972, 1040.2273437995464, 79968.13054249063, 5.15648112539202, 6765.111995508894, 165302.58019288536, 347137.3894118797, 519446.51945073716, 125191.74278844893, 488579.805735752, 2796.6010098187253]\n",
      "Weights:[ 85936214.42177969 -22547030.46416302  18435254.77923941\n",
      "  95132647.3459486   -2599310.06748427  -9846268.25684841\n",
      "   6948467.62166332   8341331.15929915   3074344.45891682\n",
      "  15721870.59226548 -10634127.64105802  -4982378.0103238\n",
      " -89025683.89688762   3193443.39204868]\n",
      "Coordinate Changes: [88240.66749078035, 13096.696481581777, 175175.44368045032, 589420.1138680875, 1107.218735116534, 77953.86926293, 56.00493647623807, 6724.977290863171, 161434.6640940602, 349897.7234381251, 516919.7469091043, 124602.59672875889, 488709.560991168, 2731.3578223744407]\n",
      "Weights:[ 86024455.08927047 -22560127.1606446   18260079.33555896\n",
      "  95722067.4598167   -2598202.84874915  -9768314.38758548\n",
      "   6948523.62659979   8334606.18200828   3235779.12301088\n",
      "  16071768.31570361 -11151047.38796712  -5106980.60705256\n",
      " -89514393.45787878   3196174.74987106]\n",
      "Coordinate Changes: [88075.43383663893, 10492.793447934091, 171100.93163484707, 583073.4469477683, 1170.4488263125531, 75989.63190222532, 104.55348889436573, 6688.2046409333125, 157718.10394106945, 352491.68415824324, 514411.2317248471, 124020.19710205868, 488781.35640232265, 2667.935970915016]\n",
      "Weights:[ 86112530.52310711 -22570619.95409253  18088978.40392412\n",
      "  96305140.90676446  -2597032.39992284  -9692324.75568326\n",
      "   6948628.18008869   8327917.97736735   3393497.22695195\n",
      "  16424259.99986185 -11665458.61969197  -5231000.80415461\n",
      " -90003174.8142811    3198842.68584197]\n",
      "Coordinate Changes: [87916.00724184513, 8048.190118178725, 167105.20011890307, 576897.0519764125, 1230.07819424849, 74075.21841929667, 150.85532146785408, 6654.401479692198, 154147.7835907163, 354925.1044746991, 511922.02429332584, 123444.45131351892, 488795.37541374564, 2606.335586515721]\n",
      "Weights:[ 86200446.53034896 -22578668.14421071  17921873.20380521\n",
      "  96882037.95874088  -2595802.32172859  -9618249.53726396\n",
      "   6948779.03541016   8321263.57588766   3547645.01054267\n",
      "  16779185.10433655 -12177380.64398529  -5354445.25546813\n",
      " -90491970.18969485   3201449.02142849]\n",
      "Coordinate Changes: [87762.22338274121, 5755.579290561378, 163190.11278204247, 570886.1086425781, 1286.2574241342954, 72210.21168290451, 194.96993699949235, 6623.2327537173405, 150718.58142822236, 357203.75903974846, 509452.89002150856, 122875.25550896116, 488752.139323622, 2546.5476012383588]\n",
      "Weights:[ 86288208.7537317  -22584423.72350127  17758683.09102317\n",
      "  97452924.06738345  -2594516.06430446  -9546039.32558106\n",
      "   6948974.00534716   8314640.34313394   3698363.59197089\n",
      "  17136388.8633763  -12686833.5340068   -5477320.51097709\n",
      " -90980722.32901847   3203995.56902973]\n",
      "Coordinate Changes: [87613.91748894751, 3607.827936068177, 159357.16103595868, 565035.9095513076, 1339.12887841044, 70394.02992825024, 236.96146527584642, 6594.411145973951, 147425.3969095219, 359333.3397611603, 507004.3624599222, 122312.4949495066, 488652.43846154213, 2488.5553463445976]\n",
      "Weights:[ 86375822.67122065 -22588031.55143734  17599325.92998721\n",
      "  98017959.97693476  -2593176.93542605  -9475645.29565281\n",
      "   6949210.96681243   8308045.93198797   3845788.98888041\n",
      "  17495722.20313746 -13193837.89646672  -5599633.0059266\n",
      " -91469374.76748002   3206484.12437607]\n",
      "Coordinate Changes: [87470.92508094013, 1597.9976228512824, 155607.49817045778, 559341.8484424502, 1388.8280692086555, 68625.96843949519, 276.8972669513896, 6567.688972487114, 144263.17354758736, 361319.4361381717, 504576.78705069236, 121756.04476761818, 488497.2752338499, 2432.335909349378]\n",
      "Weights:[ 86463293.59630159 -22589629.54906019  17443718.43181675\n",
      "  98577301.82537721  -2591788.10735684  -9407019.32721331\n",
      "   6949487.86407938   8301478.24301548   3990052.162428\n",
      "  17857041.63927563 -13698414.68351742  -5721389.05069422\n",
      " -91957872.04271387   3208916.46028542]\n",
      "Coordinate Changes: [87333.08258621395, 280.64063400030136, 151941.97068607807, 553799.4116755724, 1435.4847043165937, 66905.23247627169, 314.8467909479514, 6542.851479017176, 141226.91861881502, 363167.519705154, 502170.35709371977, 121205.77097340953, 488287.81713184714, 2377.861304016318]\n",
      "Weights:[ 86550626.6788878  -22589348.90842619  17291776.46113067\n",
      "  99131101.23705278  -2590352.62265252  -9340114.09473704\n",
      "   6949802.71087033   8294935.39153646   4131279.08104681\n",
      "  18220209.15898079 -14200585.04061114  -5842594.82166763\n",
      " -92446159.85984571   3211294.32158944]\n",
      "Coordinate Changes: [87200.2278803736, 2034.596091363579, 148361.1470409669, 548404.1722439528, 1479.2234916626476, 65230.96314439736, 350.88064352050424, 6519.711305488832, 138311.71986907534, 364882.93195576593, 499785.14325418137, 120661.53161241766, 488025.35802179575, 2325.099461129401]\n",
      "Weights:[ 86637826.90676817 -22587314.31233483  17143415.31408971\n",
      "  99679505.40929674  -2588873.39916086  -9274883.13159264\n",
      "   6950153.59151385   8288415.68023097   4269590.80091589\n",
      "  18585092.09093655 -14700370.18386532  -5963256.35328005\n",
      " -92934185.21786751   3213619.42105057]\n",
      "Coordinate Changes: [87072.20073568821, 3670.151713769883, 144865.3440173529, 543151.7857671231, 1520.1647391770966, 63602.257572358474, 385.06983545050025, 6498.103922238573, 135512.75949772075, 366470.8752091639, 497421.1177377496, 120123.17799454555, 487711.2863561213, 2274.0150774256326]\n",
      "Weights:[ 8.67248991e+07 -2.25836442e+07  1.69985500e+07  1.00222657e+08\n",
      " -2.58735323e+06 -9.21128087e+06  6.95053866e+06  8.28191758e+06\n",
      "  4.40510356e+06  1.89515630e+07 -1.51977913e+07 -6.08337953e+06\n",
      " -9.34218965e+07  3.21589344e+06]\n"
     ]
    },
    {
     "name": "stdout",
     "output_type": "stream",
     "text": [
      "Coordinate Changes: [86948.84319853783, 5193.360635850579, 141454.6508903876, 538037.9879736453, 1558.4248052090406, 62018.18453145586, 417.4851773492992, 6477.883873315528, 132825.32569320686, 367936.4059528224, 495078.17405392416, 119590.55594436266, 487347.0591227561, 2224.5703326342627]\n",
      "Weights:[ 8.68118480e+07 -2.25784508e+07  1.68570953e+07  1.00760695e+08\n",
      " -2.58579481e+06 -9.14926269e+06  6.95095615e+06  8.27543969e+06\n",
      "  4.53792889e+06  1.93194994e+07 -1.56928695e+07 -6.20297009e+06\n",
      " -9.39092436e+07  3.21811801e+06]\n",
      "Coordinate Changes: [86829.99991330504, 6610.045036699623, 138128.95158253796, 533058.5933191031, 1594.1164231821895, 60477.79641007632, 448.1967980004847, 6458.92168899253, 130244.82197446376, 369284.4302641675, 492756.1431497857, 119063.50702750031, 486934.1805757284, 2176.725501202047]\n",
      "Weights:[ 8.68986780e+07 -2.25718408e+07  1.67189664e+07  1.01293754e+08\n",
      " -2.58420069e+06 -9.08878489e+06  6.95140434e+06  8.26898077e+06\n",
      "  4.66817371e+06  1.96887838e+07 -1.61856256e+07 -6.32203359e+06\n",
      " -9.43961777e+07  3.22029473e+06]\n",
      "Coordinate Changes: [86715.51838362217, 7925.796971265227, 134887.9449661933, 528209.4944156408, 1627.34894296946, 58980.13830871135, 477.2737651336938, 6441.101351579651, 127766.77458423562, 370519.70096957684, 490454.806556724, 118541.86972424481, 486474.1849051714, 2130.4394644596614]\n",
      "Weights:[ 8.69853935e+07 -2.25639150e+07  1.65840784e+07  1.01821963e+08\n",
      " -2.58257334e+06 -9.02980475e+06  6.95188162e+06  8.26253967e+06\n",
      "  4.79594048e+06  2.00593035e+07 -1.66760804e+07 -6.44057546e+06\n",
      " -9.48826519e+07  3.22242517e+06]\n",
      "Coordinate Changes: [86605.24917656183, 9145.980737067759, 131731.16347102448, 523486.6620451808, 1658.228498288896, 57524.25485405885, 504.7837909767404, 6424.3182178279385, 125386.8381596161, 371646.8162475005, 488173.9070844557, 118025.48053274583, 485968.62220068276, 2085.6701493826695]\n",
      "Weights:[ 8.70719987e+07 -2.25547690e+07  1.64523473e+07  1.02345450e+08\n",
      " -2.58091512e+06 -8.97228050e+06  6.95238640e+06  8.25611535e+06\n",
      "  4.92132732e+06  2.04309503e+07 -1.71642543e+07 -6.55860094e+06\n",
      " -9.53686206e+07  3.22451084e+06]\n",
      "Coordinate Changes: [86499.04610550404, 10275.736447129399, 128657.99014188908, 518886.14556239545, 1686.858126131352, 56109.19523061067, 530.7930068969727, 6408.477317901328, 123100.79988905415, 372670.21942348033, 485913.1575050801, 117514.17498639598, 485419.04709616303, 2042.3748900303617]\n",
      "Weights:[ 8.71584978e+07 -2.25444932e+07  1.63236893e+07  1.02864336e+08\n",
      " -2.57922826e+06 -8.91617130e+06  6.95291719e+06  8.24970687e+06\n",
      "  5.04442812e+06  2.08036205e+07 -1.76501675e+07 -6.67611512e+06\n",
      " -9.58540396e+07  3.22655322e+06]\n",
      "Coordinate Changes: [86396.7663538307, 11319.984535392374, 125667.67427222244, 514404.0735372603, 1713.337848242838, 54734.01682468131, 555.3657962754369, 6393.491962504573, 120904.5823484892, 373594.1997523606, 483672.2475994192, 117007.78858101834, 484827.009660691, 2000.5107368021272]\n",
      "Weights:[ 8.72448945e+07 -2.25331733e+07  1.61980216e+07  1.03378740e+08\n",
      " -2.57751492e+06 -8.86143729e+06  6.95347256e+06  8.24331338e+06\n",
      "  5.16533270e+06  2.11772147e+07 -1.81338397e+07 -6.79312291e+06\n",
      " -9.63388666e+07  3.22855373e+06]\n",
      "Coordinate Changes: [86298.27058058977, 12283.430977154523, 122759.34574434906, 510036.65452839434, 1737.7647257968783, 53397.787796173245, 578.5646732104942, 6379.28260492906, 118794.24518962577, 374422.8939926885, 481450.84985843673, 116506.15760791488, 484194.04810765386, 1960.0347096617334]\n",
      "Weights:[ 8.73311928e+07 -2.25208898e+07  1.60752622e+07  1.03888777e+08\n",
      " -2.57577716e+06 -8.80803950e+06  6.95405112e+06  8.23693410e+06\n",
      "  5.28412695e+06  2.15516376e+07 -1.86152906e+07 -6.90962907e+06\n",
      " -9.68230607e+07  3.23051376e+06]\n",
      "Coordinate Changes: [86203.42299680412, 13170.573021207005, 119932.028178446, 505780.1778871119, 1760.2328992839903, 52099.58883919567, 600.4502006499097, 6365.775908808224, 116765.98583746608, 375160.2886352092, 479248.6240998693, 116009.11989240441, 483521.6830174625, 1920.9040112555958]\n",
      "Weights:[ 8.74173962e+07 -2.25077193e+07  1.59553302e+07  1.04394557e+08\n",
      " -2.57401692e+06 -8.75593991e+06  6.95465157e+06  8.23056832e+06\n",
      "  5.40089293e+06  2.19267979e+07 -1.90945392e+07 -7.02563819e+06\n",
      " -9.73065823e+07  3.23243467e+06]\n",
      "Coordinate Changes: [86112.09140180051, 13985.705316338688, 117184.65099506266, 501631.01453600824, 1780.833615890704, 50838.51432751119, 621.0809387806803, 6352.903986056335, 114816.13934004959, 375810.22264333814, 477065.22119663656, 115516.51544259675, 482811.41279526055, 1883.0762031944469]\n",
      "Weights:[ 8.75035083e+07 -2.24937335e+07  1.58381456e+07  1.04896188e+08\n",
      " -2.57223609e+06 -8.70510140e+06  6.95527266e+06  8.22421542e+06\n",
      "  5.51570907e+06  2.23026081e+07 -1.95716044e+07 -7.14115470e+06\n",
      " -9.77893938e+07  3.23431774e+06]\n",
      "Coordinate Changes: [86024.14722900093, 14732.926268413663, 114516.0604890529, 497585.61767205596, 1799.6552507164888, 49613.673003174365, 640.513418908231, 6340.603771649301, 112941.17749627121, 376376.39059880003, 474900.2860868871, 115028.18700918928, 482064.71012301743, 1846.5093467552215]\n"
     ]
    }
   ],
   "source": [
    "weights1e4 = lasso_cyclical_coordinate_descent(norm_feat_matrix, output,\n",
    "                                            initial_weights, l1_penalty, tolerance)"
   ]
  },
  {
   "cell_type": "code",
   "execution_count": 124,
   "metadata": {},
   "outputs": [
    {
     "data": {
      "text/plain": [
       "array([ 8.75895325e+07, -2.24790006e+07,  1.57236295e+07,  1.05393774e+08,\n",
       "       -2.57043643e+06, -8.65548772e+06,  6.95591317e+06,  8.21787482e+06,\n",
       "        5.62865025e+06,  2.26789845e+07, -2.00465047e+07, -7.25618289e+06,\n",
       "       -9.82714585e+07,  3.23616425e+06])"
      ]
     },
     "execution_count": 124,
     "metadata": {},
     "output_type": "execute_result"
    }
   ],
   "source": [
    "weights1e4"
   ]
  },
  {
   "cell_type": "markdown",
   "metadata": {},
   "source": [
    "***QUIZ QUESTION***\n",
    "\n",
    "What features had non-zero weight in this case?"
   ]
  },
  {
   "cell_type": "markdown",
   "metadata": {},
   "source": [
    "## Rescaling learned weights"
   ]
  },
  {
   "cell_type": "markdown",
   "metadata": {},
   "source": [
    "Recall that we normalized our feature matrix, before learning the weights.  To use these weights on a test set, we must normalize the test data in the same way.\n",
    "\n",
    "Alternatively, we can rescale the learned weights to include the normalization, so we never have to worry about normalizing the test data: \n",
    "\n",
    "In this case, we must scale the resulting weights so that we can make predictions with *original* features:\n",
    " 1. Store the norms of the original features to a vector called `norms`:\n",
    "```\n",
    "features, norms = normalize_features(features)\n",
    "```\n",
    " 2. Run Lasso on the normalized features and obtain a `weights` vector\n",
    " 3. Compute the weights for the original features by performing element-wise division, i.e.\n",
    "```\n",
    "weights_normalized = weights / norms\n",
    "```\n",
    "Now, we can apply `weights_normalized` to the test data, without normalizing it!"
   ]
  },
  {
   "cell_type": "markdown",
   "metadata": {},
   "source": [
    "Create a normalized version of each of the weights learned above. (`weights1e4`, `weights1e7`, `weights1e8`)."
   ]
  },
  {
   "cell_type": "code",
   "execution_count": 127,
   "metadata": {},
   "outputs": [
    {
     "data": {
      "text/plain": [
       "array([1.47013605e+02, 5.14075870e+02, 3.30872804e+02, 3.34257264e+05,\n",
       "       6.48161603e+06, 2.27567572e+02, 1.27671453e+01, 1.17804923e+02,\n",
       "       5.10280315e+02, 1.13885118e+03, 2.89734098e+05, 7.79090452e+04,\n",
       "       2.89796744e+05, 6.03405316e+04])"
      ]
     },
     "execution_count": 127,
     "metadata": {},
     "output_type": "execute_result"
    }
   ],
   "source": [
    "norms"
   ]
  },
  {
   "cell_type": "code",
   "execution_count": 125,
   "metadata": {},
   "outputs": [],
   "source": [
    "weights1e4_n = weights1e4 / norms\n",
    "weights1e7_n = weights1e7 / norms\n",
    "weights1e8_n = weights1e8 / norms"
   ]
  },
  {
   "cell_type": "code",
   "execution_count": 126,
   "metadata": {},
   "outputs": [
    {
     "data": {
      "text/plain": [
       "168.72492889253746"
      ]
     },
     "execution_count": 126,
     "metadata": {},
     "output_type": "execute_result"
    }
   ],
   "source": [
    "weights1e7_n[3]"
   ]
  },
  {
   "cell_type": "markdown",
   "metadata": {},
   "source": [
    "To check your results, if you call `normalized_weights1e7` the normalized version of `weights1e7`, then:\n",
    "```\n",
    "print normalized_weights1e7[3]\n",
    "```\n",
    "should return 161.31745624837794."
   ]
  },
  {
   "cell_type": "markdown",
   "metadata": {},
   "source": [
    "## Evaluating each of the learned models on the test data"
   ]
  },
  {
   "cell_type": "markdown",
   "metadata": {},
   "source": [
    "Let's now evaluate the three models on the test data:"
   ]
  },
  {
   "cell_type": "code",
   "execution_count": 129,
   "metadata": {},
   "outputs": [],
   "source": [
    "(test_feature_matrix, test_output) = get_numpy_data(test_data, all_features, 'price')"
   ]
  },
  {
   "cell_type": "markdown",
   "metadata": {},
   "source": [
    "Compute the RSS of each of the three normalized weights on the (unnormalized) `test_feature_matrix`:"
   ]
  },
  {
   "cell_type": "code",
   "execution_count": 130,
   "metadata": {},
   "outputs": [],
   "source": [
    "rss_4 = sum((predict_output(test_feature_matrix, weights1e4_n) - test_output)**2)"
   ]
  },
  {
   "cell_type": "code",
   "execution_count": 131,
   "metadata": {},
   "outputs": [],
   "source": [
    "rss_7 = sum((predict_output(test_feature_matrix, weights1e7_n) - test_output)**2)"
   ]
  },
  {
   "cell_type": "code",
   "execution_count": 132,
   "metadata": {},
   "outputs": [],
   "source": [
    "rss_8 = sum((predict_output(test_feature_matrix, weights1e7_n) - test_output)**2)"
   ]
  },
  {
   "cell_type": "code",
   "execution_count": 138,
   "metadata": {},
   "outputs": [
    {
     "data": {
      "text/plain": [
       "(225535784135719.47, 270215018898671.28, 270215018898671.28)"
      ]
     },
     "execution_count": 138,
     "metadata": {},
     "output_type": "execute_result"
    }
   ],
   "source": [
    "(rss_4, rss_7, rss_8)"
   ]
  },
  {
   "cell_type": "markdown",
   "metadata": {},
   "source": [
    "***QUIZ QUESTION***\n",
    "\n",
    "Which model performed best on the test data?"
   ]
  },
  {
   "cell_type": "code",
   "execution_count": 139,
   "metadata": {},
   "outputs": [
    {
     "data": {
      "text/plain": [
       "225535784135719.47"
      ]
     },
     "execution_count": 139,
     "metadata": {},
     "output_type": "execute_result"
    }
   ],
   "source": [
    "min([rss_4, rss_7, rss_8])"
   ]
  },
  {
   "cell_type": "code",
   "execution_count": 134,
   "metadata": {},
   "outputs": [
    {
     "data": {
      "text/plain": [
       "[270215018898671.28, 270215018898671.28]"
      ]
     },
     "execution_count": 134,
     "metadata": {},
     "output_type": "execute_result"
    }
   ],
   "source": [
    "[rss for rss in [rss_4, rss_7, rss_8] if rss == max([rss_4, rss_7, rss_8])]"
   ]
  }
 ],
 "metadata": {
  "kernelspec": {
   "display_name": "Python 2",
   "language": "python",
   "name": "python2"
  },
  "language_info": {
   "codemirror_mode": {
    "name": "ipython",
    "version": 2
   },
   "file_extension": ".py",
   "mimetype": "text/x-python",
   "name": "python",
   "nbconvert_exporter": "python",
   "pygments_lexer": "ipython2",
   "version": "2.7.15"
  }
 },
 "nbformat": 4,
 "nbformat_minor": 1
}
